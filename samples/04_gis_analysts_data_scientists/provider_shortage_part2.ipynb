{
 "cells": [
  {
   "cell_type": "code",
   "execution_count": 13,
   "metadata": {},
   "outputs": [],
   "source": [
    "from IPython.display import display\n",
    "import arcgis\n",
    "from arcgis.gis import GIS\n",
    "import pandas as pd\n",
    "from arcgis.features import FeatureLayer\n",
    "from arcgis.mapping import WebMap"
   ]
  },
  {
   "cell_type": "code",
   "execution_count": 14,
   "metadata": {},
   "outputs": [],
   "source": [
    "gis = GIS(\"https://datascienceqa.esri.com/portal\", \"portaladmin\", \"esri.agp\", verify_cert=False)"
   ]
  },
  {
   "cell_type": "code",
   "execution_count": 15,
   "metadata": {},
   "outputs": [],
   "source": [
    "search_result = gis.content.search('title: medical_provider_data_geocoded_locations', 'Feature Layer')"
   ]
  },
  {
   "cell_type": "code",
   "execution_count": null,
   "metadata": {},
   "outputs": [],
   "source": [
    "provider_data_item = search_result[0]\n",
    "provider_data_item"
   ]
  },
  {
   "cell_type": "code",
   "execution_count": null,
   "metadata": {},
   "outputs": [],
   "source": [
    "provider_data_item.layers"
   ]
  },
  {
   "cell_type": "code",
   "execution_count": null,
   "metadata": {},
   "outputs": [],
   "source": [
    "provider_data_layer = provider_data_item.layers[0]\n",
    "provider_data_layer"
   ]
  },
  {
   "cell_type": "code",
   "execution_count": null,
   "metadata": {},
   "outputs": [],
   "source": [
    "provider_data_layer"
   ]
  },
  {
   "cell_type": "code",
   "execution_count": null,
   "metadata": {},
   "outputs": [],
   "source": [
    "provider_data_layer.properties.fields"
   ]
  },
  {
   "cell_type": "code",
   "execution_count": null,
   "metadata": {
    "scrolled": true
   },
   "outputs": [],
   "source": [
    "for f in provider_data_layer.properties.fields:\n",
    "    print(f['name'],'      ',f['type'])"
   ]
  },
  {
   "cell_type": "markdown",
   "metadata": {},
   "source": [
    "#### Create dataframe for WY"
   ]
  },
  {
   "cell_type": "code",
   "execution_count": null,
   "metadata": {},
   "outputs": [],
   "source": [
    "%time wy_df = provider_data_layer.query(where=\"user_state='WY'\", as_df=True)\n",
    "wy_df.shape"
   ]
  },
  {
   "cell_type": "code",
   "execution_count": null,
   "metadata": {},
   "outputs": [],
   "source": [
    "wy_df.spatial.plot(map1)"
   ]
  },
  {
   "cell_type": "code",
   "execution_count": null,
   "metadata": {},
   "outputs": [],
   "source": [
    "# A lot of the records are outside WY, lets check these\n",
    "len(wy_df[wy_df['Region']!='Wyoming'])"
   ]
  },
  {
   "cell_type": "markdown",
   "metadata": {},
   "source": [
    "#### Create df for Arizona"
   ]
  },
  {
   "cell_type": "code",
   "execution_count": null,
   "metadata": {},
   "outputs": [],
   "source": [
    "%time az_df = provider_data_layer.query(where=\"user_state='AZ'\", as_df=True)\n",
    "az_df.shape"
   ]
  },
  {
   "cell_type": "code",
   "execution_count": null,
   "metadata": {},
   "outputs": [],
   "source": [
    "len(az_df[az_df['Region']!='Arizona'])"
   ]
  },
  {
   "cell_type": "code",
   "execution_count": null,
   "metadata": {},
   "outputs": [],
   "source": [
    "az_df.columns"
   ]
  },
  {
   "cell_type": "code",
   "execution_count": null,
   "metadata": {},
   "outputs": [],
   "source": [
    "new2_az_df = az_df[['OBJECTID', 'X','Y', 'SHAPE',\n",
    "       'user_addressline1', 'user_addressline2', 'user_city', 'user_country',\n",
    "       'user_entity_type', 'user_full_address', 'user_npi',\n",
    "       'user_organization_name', 'user_postal_code']]"
   ]
  },
  {
   "cell_type": "code",
   "execution_count": null,
   "metadata": {},
   "outputs": [],
   "source": [
    "new_az_df = az_df[['AddNumFrom', 'AddNumTo', 'Addr_type', 'AddressNumber', 'AddressRange',\n",
    "       'BldgName', 'BldgType', 'Block', 'BuildingName', 'City', 'Country',\n",
    "       'DisplayX', 'DisplayY', 'Distance', 'District', 'ExtraInfo', 'LangCode',\n",
    "       'LevelName', 'LevelType', 'Loc_name', 'LongLabel', 'Match_addr',\n",
    "       'MetroArea', 'Neighborhood', 'OBJECTID', 'Phone', 'PlaceName',\n",
    "       'Place_addr', 'Postal', 'PostalExt', 'Rank', 'Region', 'RegionAbbr',\n",
    "       'SHAPE', 'Score', 'Sector', 'ShortLabel', 'Side', 'StAddr', 'StDir',\n",
    "       'StName', 'StPreDir', 'StPreType', 'StType', 'Status', 'SubAddress',\n",
    "       'Subregion', 'Territory', 'Type', 'URL', 'UnitName', 'UnitType', 'X',\n",
    "       'X_max', 'X_min', 'Y', 'Y_max', 'Y_min', 'Zone', 'globalid', 'in_city',\n",
    "       'user_addressline1', 'user_addressline2', 'user_city', 'user_country',\n",
    "       'user_entity_type', 'user_full_address', 'user_npi',\n",
    "       'user_organization_name', 'user_postal_code']]"
   ]
  },
  {
   "cell_type": "code",
   "execution_count": null,
   "metadata": {},
   "outputs": [],
   "source": [
    "new2_az_df.shape"
   ]
  },
  {
   "cell_type": "markdown",
   "metadata": {},
   "source": [
    "### Rendering through Feature Layer"
   ]
  },
  {
   "cell_type": "code",
   "execution_count": 36,
   "metadata": {},
   "outputs": [
    {
     "data": {
      "application/vnd.jupyter.widget-view+json": {
       "model_id": "615bf9c186b74a089631fd96897fb9d4",
       "version_major": 2,
       "version_minor": 0
      },
      "text/plain": [
       "MapView(layout=Layout(height='400px', width='100%'))"
      ]
     },
     "metadata": {},
     "output_type": "display_data"
    },
    {
     "data": {
      "text/html": [
       "<div class=\"map-static-img-preview-52046812-7cd0-4bd0-8bc8-778c34f6b2a9\"><img src=\"\"></img></div>"
      ],
      "text/plain": [
       "<IPython.core.display.HTML object>"
      ]
     },
     "metadata": {},
     "output_type": "display_data"
    }
   ],
   "source": [
    "map2 = gis.map('USA')\n",
    "map2"
   ]
  },
  {
   "cell_type": "code",
   "execution_count": 37,
   "metadata": {},
   "outputs": [],
   "source": [
    "map2.add_layer({\"type\":\"FeatureLayer\", \n",
    "               \"url\":\"https://datascienceqa.esri.com/server/rest/services/Hosted/medical_provider_data_geocoded_locations/FeatureServer/0\", \n",
    "               \"definition_expression\" : \"Region='Texas'\",\n",
    "               \"renderer\":\"HeatmapRenderer\",\n",
    "#                \"field_name\":\"user_npi\",\n",
    "               \"opacity\":0.7,\n",
    "                \"radius\":5\n",
    "              })"
   ]
  },
  {
   "cell_type": "code",
   "execution_count": 38,
   "metadata": {},
   "outputs": [
    {
     "data": {
      "text/plain": [
       "True"
      ]
     },
     "execution_count": 38,
     "metadata": {},
     "output_type": "execute_result"
    }
   ],
   "source": [
    "map2.remove_layers()"
   ]
  },
  {
   "cell_type": "code",
   "execution_count": 39,
   "metadata": {},
   "outputs": [
    {
     "data": {
      "application/vnd.jupyter.widget-view+json": {
       "model_id": "8a18d132b02c4c4caebfa6e580937b44",
       "version_major": 2,
       "version_minor": 0
      },
      "text/plain": [
       "MapView(layout=Layout(height='400px', width='100%'))"
      ]
     },
     "metadata": {},
     "output_type": "display_data"
    },
    {
     "data": {
      "text/html": [
       "<div class=\"map-static-img-preview-853e79cf-25fc-4ecb-888b-eff512306bb2\"><img src=\"\"></img></div>"
      ],
      "text/plain": [
       "<IPython.core.display.HTML object>"
      ]
     },
     "metadata": {},
     "output_type": "display_data"
    }
   ],
   "source": [
    "map3 = gis.map('USA')\n",
    "map3"
   ]
  },
  {
   "cell_type": "code",
   "execution_count": 40,
   "metadata": {},
   "outputs": [],
   "source": [
    "f_layer = FeatureLayer(\"https://datascienceqa.esri.com/server/rest/services/Hosted/npi_TX_GeocodeAddresses/FeatureServer\")\n",
    "renderer = {\"renderer\": \"autocast\", #This tells python to use JS autocasting\n",
    "            \"type\": \"heatmap\",\n",
    "#             \"minScale\":291814,\n",
    "#             \"maxScale\":77509,\n",
    "            \"minScale\":100,\n",
    "            \"maxScale\":10,\n",
    "            \"blurRadius\":10,\n",
    "            \"maxPixelIntensity\":2,\n",
    "            \"minPixelIntensity\":0,\n",
    "            \"field\":None}\n",
    "renderer[\"colorStops\"] = [{\"ratio\":0,\"color\":[63, 40, 102, 0]},\n",
    "#                           {\"ratio\":0,\"color\":[133,193,200,0]},\n",
    "#                           {\"ratio\":0.01,\"color\":[133,193,200,0]},\n",
    "#                           {\"ratio\":0.0925,\"color\":[144,161,190,179]},\n",
    "#                           {\"ratio\":0.17500000000000002,\"color\":[156,129,132,179]},\n",
    "#                           {\"ratio\":0.2575,\"color\":[167,97,170,179]},\n",
    "#                           {\"ratio\":0.505,\"color\":[192,24,42,179]},\n",
    "                            {\"ratio\":0.505,\"color\":\"#7b3ce9\"},\n",
    "#                           {\"ratio\":0.5875,\"color\":[200,0,0,179]},\n",
    "#                           {\"ratio\":0.67,\"color\":[211,51,0,179]},\n",
    "#                           {\"ratio\":0.7525000000000001,\"color\":[222,102,0,179]},\n",
    "#                           {\"ratio\":0.8350000000000001,\"color\":[233,153,0,179]},\n",
    "                            {\"ratio\":1,\"color\":[244,204,0,179]}]\n",
    "#                           {\"ratio\":1,\"color\":\"#ffff00\"}]\n",
    "map3.add_layer(f_layer,\n",
    "               { \"type\": \"FeatureLayer\",\n",
    "                 \"renderer\": renderer,\n",
    "                 \"field_name\":\"user_npi\"})\n"
   ]
  },
  {
   "cell_type": "code",
   "execution_count": 43,
   "metadata": {},
   "outputs": [
    {
     "data": {
      "text/plain": [
       "True"
      ]
     },
     "execution_count": 43,
     "metadata": {},
     "output_type": "execute_result"
    }
   ],
   "source": [
    "map3.remove_layers()"
   ]
  },
  {
   "cell_type": "code",
   "execution_count": 42,
   "metadata": {},
   "outputs": [],
   "source": [
    "\n",
    "layer = {\"type\":\"FeatureLayer\", \n",
    "               \"url\":\"https://datascienceqa.esri.com/server/rest/services/Hosted/npi_TX_GeocodeAddresses/FeatureServer\"}\n",
    "renderer = {\"renderer\": \"autocast\", # Tells the JS API to autocast this object\n",
    "            \"type\":\"esri.renderers.HeatmapRenderer\",\n",
    "                \"maxPixelIntensity\":2,\n",
    "                \"minPixelIntensity\":0,\n",
    "                \"colorStops\": [\n",
    "            { \"color\": \"rgba(63, 40, 102, 0)\", \"ratio\": 0 },\n",
    "            { \"color\": \"#7b3ce9\", \"ratio\": 0.581 },\n",
    "            { \"color\": \"#ffff00\", \"ratio\": 1 }\n",
    "              ]\n",
    "              }\n",
    "\n",
    "map3.add_layer(layer, renderer)"
   ]
  },
  {
   "cell_type": "code",
   "execution_count": null,
   "metadata": {},
   "outputs": [],
   "source": [
    "map3.extent = {'spatialReference': {'latestWkid': 3857, 'wkid': 102100},\n",
    " 'xmin': -12261129.128282841,\n",
    " 'ymin': 3228627.319645519,\n",
    " 'xmax': -9854279.98163985,\n",
    " 'ymax': 4207021.281695515}"
   ]
  },
  {
   "cell_type": "code",
   "execution_count": null,
   "metadata": {},
   "outputs": [],
   "source": [
    "webmap_item_properties = {'title':'Texas Healthcare Providers',\n",
    "                         'snippet':'Map created using Python API showing healthcare providers in TX',\n",
    "                         'tags':['automation', 'providers', 'healthcare', 'python']}\n",
    "\n",
    "map3.save(webmap_item_properties)"
   ]
  },
  {
   "cell_type": "code",
   "execution_count": null,
   "metadata": {},
   "outputs": [],
   "source": [
    "az_df.shape"
   ]
  },
  {
   "cell_type": "markdown",
   "metadata": {},
   "source": [
    "### Using Web Maps"
   ]
  },
  {
   "cell_type": "code",
   "execution_count": 30,
   "metadata": {},
   "outputs": [
    {
     "data": {
      "text/html": [
       "<div class=\"item_container\" style=\"height: auto; overflow: hidden; border: 1px solid #cfcfcf; border-radius: 2px; background: #f6fafa; line-height: 1.21429em; padding: 10px;\">\n",
       "                    <div class=\"item_left\" style=\"width: 210px; float: left;\">\n",
       "                       <a href='https://datascienceqa.esri.com/portal/home/item.html?id=438ef43ba3f44385818a4d5b0de74d5d' target='_blank'>\n",
       "                        <img src='data:image/png;base64,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' width='200' height='133' class=\"itemThumbnail\">\n",
       "                       </a>\n",
       "                    </div>\n",
       "\n",
       "                    <div class=\"item_right\"     style=\"float: none; width: auto; overflow: hidden;\">\n",
       "                        <a href='https://datascienceqa.esri.com/portal/home/item.html?id=438ef43ba3f44385818a4d5b0de74d5d' target='_blank'><b>TX_Provider_PopDens</b>\n",
       "                        </a>\n",
       "                        <br/>Map showing provider and population density for TX<img src='https://datascienceqa.esri.com/portal/home/js/jsapi/esri/css/images/item_type_icons/maps16.png' style=\"vertical-align:middle;\">Web Map by portaladmin\n",
       "                        <br/>Last Modified: June 13, 2019\n",
       "                        <br/>0 comments, 45 views\n",
       "                    </div>\n",
       "                </div>\n",
       "                "
      ],
      "text/plain": [
       "<Item title:\"TX_Provider_PopDens\" type:Web Map owner:portaladmin>"
      ]
     },
     "execution_count": 30,
     "metadata": {},
     "output_type": "execute_result"
    }
   ],
   "source": [
    "# Get the Provider and Population density item\n",
    "search_results = gis.content.search('title: TX_Provider_PopDens',\n",
    "                                    'Web Map')\n",
    "\n",
    "# Access the first Item that's returned\n",
    "tx_provider_item = search_results[0]\n",
    "\n",
    "tx_provider_item"
   ]
  },
  {
   "cell_type": "code",
   "execution_count": 31,
   "metadata": {},
   "outputs": [
    {
     "data": {
      "application/vnd.jupyter.widget-view+json": {
       "model_id": "b4223a7b8bd44bb592e31c5a97d1ea97",
       "version_major": 2,
       "version_minor": 0
      },
      "text/plain": [
       "MapView(hide_mode_switch=True, layout=Layout(height='400px', width='100%'))"
      ]
     },
     "metadata": {},
     "output_type": "display_data"
    },
    {
     "data": {
      "text/html": [
       "<div class=\"map-static-img-preview-6518cc86-1915-478c-891d-5425258ab763\"><img src=\"\"></img></div>"
      ],
      "text/plain": [
       "<IPython.core.display.HTML object>"
      ]
     },
     "metadata": {},
     "output_type": "display_data"
    }
   ],
   "source": [
    "# Create Webmap\n",
    "tx_provider_map = WebMap(tx_provider_item)\n",
    "tx_provider_map"
   ]
  },
  {
   "cell_type": "code",
   "execution_count": 26,
   "metadata": {},
   "outputs": [],
   "source": [
    "tx_provider_map.remove_layer(tx_provider_map.layers[1])"
   ]
  },
  {
   "cell_type": "code",
   "execution_count": 48,
   "metadata": {},
   "outputs": [
    {
     "data": {
      "text/html": [
       "<div class=\"item_container\" style=\"height: auto; overflow: hidden; border: 1px solid #cfcfcf; border-radius: 2px; background: #f6fafa; line-height: 1.21429em; padding: 10px;\">\n",
       "                    <div class=\"item_left\" style=\"width: 210px; float: left;\">\n",
       "                       <a href='https://datascienceqa.esri.com/portal/home/item.html?id=463dd942fe224c24bd01822f0a3412ad' target='_blank'>\n",
       "                        <img src='https://datascienceqa.esri.com/portal/portalimages/desktopapp.png' class=\"itemThumbnail\">\n",
       "                       </a>\n",
       "                    </div>\n",
       "\n",
       "                    <div class=\"item_right\"     style=\"float: none; width: auto; overflow: hidden;\">\n",
       "                        <a href='https://datascienceqa.esri.com/portal/home/item.html?id=463dd942fe224c24bd01822f0a3412ad' target='_blank'><b>TX_Provider_MedianIncome</b>\n",
       "                        </a>\n",
       "                        <br/>Map showing provider density and median income for TX<img src='https://datascienceqa.esri.com/portal/home/js/jsapi/esri/css/images/item_type_icons/maps16.png' style=\"vertical-align:middle;\">Web Map by portaladmin\n",
       "                        <br/>Last Modified: June 13, 2019\n",
       "                        <br/>0 comments, 7 views\n",
       "                    </div>\n",
       "                </div>\n",
       "                "
      ],
      "text/plain": [
       "<Item title:\"TX_Provider_MedianIncome\" type:Web Map owner:portaladmin>"
      ]
     },
     "execution_count": 48,
     "metadata": {},
     "output_type": "execute_result"
    }
   ],
   "source": [
    "# Get the Provider and Population density item\n",
    "tx_med_income = gis.content.search('title: TX_Provider_MedianIncome',\n",
    "                                    'Web Map')\n",
    "\n",
    "# Access the first Item that's returned\n",
    "tx_med_income_item = tx_med_income[0]\n",
    "\n",
    "tx_med_income_item"
   ]
  },
  {
   "cell_type": "code",
   "execution_count": 49,
   "metadata": {},
   "outputs": [
    {
     "data": {
      "application/vnd.jupyter.widget-view+json": {
       "model_id": "952238d39cfb4b9092f4c3ec71cc547f",
       "version_major": 2,
       "version_minor": 0
      },
      "text/plain": [
       "MapView(hide_mode_switch=True, layout=Layout(height='400px', width='100%'))"
      ]
     },
     "metadata": {},
     "output_type": "display_data"
    },
    {
     "data": {
      "text/html": [
       "<div class=\"map-static-img-preview-fd94c9b8-cba4-4d5d-a995-64978eebe810\"><img src=\"\"></img></div>"
      ],
      "text/plain": [
       "<IPython.core.display.HTML object>"
      ]
     },
     "metadata": {},
     "output_type": "display_data"
    }
   ],
   "source": [
    "# Create Webmap\n",
    "tx_income_map = WebMap(tx_med_income_item)\n",
    "tx_income_map"
   ]
  },
  {
   "cell_type": "code",
   "execution_count": null,
   "metadata": {},
   "outputs": [],
   "source": []
  },
  {
   "cell_type": "code",
   "execution_count": 27,
   "metadata": {},
   "outputs": [
    {
     "name": "stdout",
     "output_type": "stream",
     "text": [
      "npi_TX_GeocodeAddresses - copy\n"
     ]
    }
   ],
   "source": [
    "for layer in tx_provider_map.layers:\n",
    "    print(layer.title)"
   ]
  },
  {
   "cell_type": "code",
   "execution_count": null,
   "metadata": {},
   "outputs": [],
   "source": [
    "tx_provider_map['operationalLayers'][0]['layerDefinition']['drawingInfo']['renderer']"
   ]
  },
  {
   "cell_type": "code",
   "execution_count": 29,
   "metadata": {},
   "outputs": [
    {
     "data": {
      "application/vnd.jupyter.widget-view+json": {
       "model_id": "bafe37acc8b84be6835800d7bc0adc0b",
       "version_major": 2,
       "version_minor": 0
      },
      "text/plain": [
       "MapView(layout=Layout(height='400px', width='100%'))"
      ]
     },
     "metadata": {},
     "output_type": "display_data"
    },
    {
     "data": {
      "text/html": [
       "<div class=\"map-static-img-preview-2ef13534-4903-4932-98da-50aa1bddeeb6\"><img src=\"\"></img></div>"
      ],
      "text/plain": [
       "<IPython.core.display.HTML object>"
      ]
     },
     "metadata": {},
     "output_type": "display_data"
    }
   ],
   "source": [
    "map4 = gis.map('USA')\n",
    "map4"
   ]
  },
  {
   "cell_type": "code",
   "execution_count": 34,
   "metadata": {},
   "outputs": [],
   "source": [
    "f1_layer = FeatureLayer(\"https://datascienceqa.esri.com/portal/sharing/servers/ab4e1996d588405d9cd68348ef660f70/rest/services/USA_Demographics_and_Boundaries_2018/MapServer\")"
   ]
  },
  {
   "cell_type": "code",
   "execution_count": 35,
   "metadata": {},
   "outputs": [],
   "source": [
    "map4.add_layer(f1_layer,\n",
    "               { \"type\": \"FeatureLayer\"})"
   ]
  },
  {
   "cell_type": "code",
   "execution_count": null,
   "metadata": {},
   "outputs": [],
   "source": []
  },
  {
   "cell_type": "code",
   "execution_count": null,
   "metadata": {},
   "outputs": [],
   "source": []
  },
  {
   "cell_type": "code",
   "execution_count": null,
   "metadata": {},
   "outputs": [],
   "source": [
    "arcgis.__version__"
   ]
  },
  {
   "cell_type": "code",
   "execution_count": null,
   "metadata": {},
   "outputs": [],
   "source": []
  }
 ],
 "metadata": {
  "kernelspec": {
   "display_name": "Python 3",
   "language": "python",
   "name": "python3"
  },
  "language_info": {
   "codemirror_mode": {
    "name": "ipython",
    "version": 3
   },
   "file_extension": ".py",
   "mimetype": "text/x-python",
   "name": "python",
   "nbconvert_exporter": "python",
   "pygments_lexer": "ipython3",
   "version": "3.7.3"
  }
 },
 "nbformat": 4,
 "nbformat_minor": 2
}
