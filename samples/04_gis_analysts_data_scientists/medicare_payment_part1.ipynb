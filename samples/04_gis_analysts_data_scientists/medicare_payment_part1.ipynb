{
 "cells": [
  {
   "cell_type": "markdown",
   "metadata": {},
   "source": [
    "## Part 1 - Prepare Medicare Payment Data"
   ]
  },
  {
   "cell_type": "markdown",
   "metadata": {},
   "source": [
    "In this notebook, we will:\n",
    "- Read multiple large data files using Dask\n",
    "- Clean the data by: \n",
    "    - dropping existing columns\n",
    "    - adding new columns\n",
    "    - renaming columns\n",
    "    - change categories of a column\n",
    "    - change data types\n",
    "- Combine datasets and then compute in dask\n",
    "- Basic exploration and missing value determination\n",
    "- Export data into multiple csv files"
   ]
  },
  {
   "cell_type": "code",
   "execution_count": 2,
   "metadata": {},
   "outputs": [],
   "source": [
    "# Import Dask for reading and processing big data\n",
    "import dask.dataframe as dd\n",
    "\n",
    "# Import Pandas for data exploration\n",
    "import pandas as pd\n",
    "pd.set_option('display.max_columns',500)\n",
    "\n",
    "# Import plotting libraries\n",
    "%matplotlib inline\n",
    "import missingno as msno\n",
    "import matplotlib.pyplot as plt\n",
    "import seaborn as sns\n",
    "\n",
    "# Import libraries to time and output\n",
    "import time\n",
    "import os"
   ]
  },
  {
   "cell_type": "markdown",
   "metadata": {},
   "source": [
    "### Read the Data"
   ]
  },
  {
   "cell_type": "markdown",
   "metadata": {},
   "source": [
    "The dataset is split into 5 different text files for each year from 2012 - 2016. We will read each file and confirm if they all have the same attributes."
   ]
  },
  {
   "cell_type": "code",
   "execution_count": 3,
   "metadata": {},
   "outputs": [],
   "source": [
    "df2016 = dd.read_csv('Medicare_Provider_Util_Payment_PUF_CY2016.txt', sep='\\t',dtype=str)"
   ]
  },
  {
   "cell_type": "code",
   "execution_count": 4,
   "metadata": {},
   "outputs": [
    {
     "name": "stdout",
     "output_type": "stream",
     "text": [
      "Index(['NPI', 'NPPES_PROVIDER_LAST_ORG_NAME', 'NPPES_PROVIDER_FIRST_NAME',\n",
      "       'NPPES_PROVIDER_MI', 'NPPES_CREDENTIALS', 'NPPES_PROVIDER_GENDER',\n",
      "       'NPPES_ENTITY_CODE', 'NPPES_PROVIDER_STREET1', 'NPPES_PROVIDER_STREET2',\n",
      "       'NPPES_PROVIDER_CITY', 'NPPES_PROVIDER_ZIP', 'NPPES_PROVIDER_STATE',\n",
      "       'NPPES_PROVIDER_COUNTRY', 'PROVIDER_TYPE',\n",
      "       'MEDICARE_PARTICIPATION_INDICATOR', 'PLACE_OF_SERVICE', 'HCPCS_CODE',\n",
      "       'HCPCS_DESCRIPTION', 'HCPCS_DRUG_INDICATOR', 'LINE_SRVC_CNT',\n",
      "       'BENE_UNIQUE_CNT', 'BENE_DAY_SRVC_CNT', 'AVERAGE_MEDICARE_ALLOWED_AMT',\n",
      "       'AVERAGE_SUBMITTED_CHRG_AMT', 'AVERAGE_MEDICARE_PAYMENT_AMT',\n",
      "       'AVERAGE_MEDICARE_STANDARD_AMT'],\n",
      "      dtype='object')\n",
      "26\n"
     ]
    }
   ],
   "source": [
    "print(df2016.columns)\n",
    "print(len(df2016.columns))"
   ]
  },
  {
   "cell_type": "code",
   "execution_count": 5,
   "metadata": {},
   "outputs": [],
   "source": [
    "df2015 = dd.read_csv('Medicare_Provider_Util_Payment_PUF_CY2015.txt', sep='\\t',dtype=str)"
   ]
  },
  {
   "cell_type": "code",
   "execution_count": 6,
   "metadata": {},
   "outputs": [
    {
     "name": "stdout",
     "output_type": "stream",
     "text": [
      "Index(['npi', 'nppes_provider_last_org_name', 'nppes_provider_first_name',\n",
      "       'nppes_provider_mi', 'nppes_credentials', 'nppes_provider_gender',\n",
      "       'nppes_entity_code', 'nppes_provider_street1', 'nppes_provider_street2',\n",
      "       'nppes_provider_city', 'nppes_provider_zip', 'nppes_provider_state',\n",
      "       'nppes_provider_country', 'provider_type',\n",
      "       'medicare_participation_indicator', 'place_of_service', 'hcpcs_code',\n",
      "       'hcpcs_description', 'hcpcs_drug_indicator', 'line_srvc_cnt',\n",
      "       'bene_unique_cnt', 'bene_day_srvc_cnt', 'average_Medicare_allowed_amt',\n",
      "       'average_submitted_chrg_amt', 'average_Medicare_payment_amt',\n",
      "       'average_Medicare_standard_amt'],\n",
      "      dtype='object')\n",
      "26\n"
     ]
    }
   ],
   "source": [
    "print(df2015.columns)\n",
    "print(len(df2015.columns))"
   ]
  },
  {
   "cell_type": "code",
   "execution_count": 7,
   "metadata": {},
   "outputs": [],
   "source": [
    "df2014 = dd.read_csv('Medicare_Provider_Util_Payment_PUF_CY2014.txt', sep='\\t',dtype=str)"
   ]
  },
  {
   "cell_type": "code",
   "execution_count": 8,
   "metadata": {},
   "outputs": [
    {
     "name": "stdout",
     "output_type": "stream",
     "text": [
      "Index(['npi', 'nppes_provider_last_org_name', 'nppes_provider_first_name',\n",
      "       'nppes_provider_mi', 'nppes_credentials', 'nppes_provider_gender',\n",
      "       'nppes_entity_code', 'nppes_provider_street1', 'nppes_provider_street2',\n",
      "       'nppes_provider_city', 'nppes_provider_zip', 'nppes_provider_state',\n",
      "       'nppes_provider_country', 'provider_type',\n",
      "       'medicare_participation_indicator', 'place_of_service', 'hcpcs_code',\n",
      "       'hcpcs_description', 'hcpcs_drug_indicator', 'line_srvc_cnt',\n",
      "       'bene_unique_cnt', 'bene_day_srvc_cnt', 'average_Medicare_allowed_amt',\n",
      "       'average_submitted_chrg_amt', 'average_Medicare_payment_amt',\n",
      "       'average_Medicare_standard_amt'],\n",
      "      dtype='object')\n",
      "26\n"
     ]
    }
   ],
   "source": [
    "print(df2014.columns)\n",
    "print(len(df2014.columns))"
   ]
  },
  {
   "cell_type": "code",
   "execution_count": 9,
   "metadata": {},
   "outputs": [],
   "source": [
    "df2013 = dd.read_csv('Medicare_Provider_Util_Payment_PUF_CY2013.txt', sep='\\t',dtype=str)"
   ]
  },
  {
   "cell_type": "code",
   "execution_count": 10,
   "metadata": {},
   "outputs": [
    {
     "name": "stdout",
     "output_type": "stream",
     "text": [
      "Index(['NPI', 'NPPES_PROVIDER_LAST_ORG_NAME', 'NPPES_PROVIDER_FIRST_NAME',\n",
      "       'NPPES_PROVIDER_MI', 'NPPES_CREDENTIALS', 'NPPES_PROVIDER_GENDER',\n",
      "       'NPPES_ENTITY_CODE', 'NPPES_PROVIDER_STREET1', 'NPPES_PROVIDER_STREET2',\n",
      "       'NPPES_PROVIDER_CITY', 'NPPES_PROVIDER_ZIP', 'NPPES_PROVIDER_STATE',\n",
      "       'NPPES_PROVIDER_COUNTRY', 'PROVIDER_TYPE',\n",
      "       'MEDICARE_PARTICIPATION_INDICATOR', 'PLACE_OF_SERVICE', 'HCPCS_CODE',\n",
      "       'HCPCS_DESCRIPTION', 'HCPCS_DRUG_INDICATOR', 'LINE_SRVC_CNT',\n",
      "       'BENE_UNIQUE_CNT', 'BENE_DAY_SRVC_CNT', 'AVERAGE_MEDICARE_ALLOWED_AMT',\n",
      "       'STDEV_MEDICARE_ALLOWED_AMT', 'AVERAGE_SUBMITTED_CHRG_AMT',\n",
      "       'STDEV_SUBMITTED_CHRG_AMT', 'AVERAGE_MEDICARE_PAYMENT_AMT',\n",
      "       'STDEV_MEDICARE_PAYMENT_AMT'],\n",
      "      dtype='object')\n",
      "28\n"
     ]
    }
   ],
   "source": [
    "print(df2013.columns)\n",
    "print(len(df2013.columns))"
   ]
  },
  {
   "cell_type": "code",
   "execution_count": 11,
   "metadata": {},
   "outputs": [],
   "source": [
    "df2012 = dd.read_csv('Medicare_Provider_Util_Payment_PUF_CY2012.txt', sep='\\t',dtype=str)"
   ]
  },
  {
   "cell_type": "code",
   "execution_count": 12,
   "metadata": {},
   "outputs": [
    {
     "name": "stdout",
     "output_type": "stream",
     "text": [
      "Index(['NPI', 'NPPES_PROVIDER_LAST_ORG_NAME', 'NPPES_PROVIDER_FIRST_NAME',\n",
      "       'NPPES_PROVIDER_MI', 'NPPES_CREDENTIALS', 'NPPES_PROVIDER_GENDER',\n",
      "       'NPPES_ENTITY_CODE', 'NPPES_PROVIDER_STREET1', 'NPPES_PROVIDER_STREET2',\n",
      "       'NPPES_PROVIDER_CITY', 'NPPES_PROVIDER_ZIP', 'NPPES_PROVIDER_STATE',\n",
      "       'NPPES_PROVIDER_COUNTRY', 'PROVIDER_TYPE',\n",
      "       'MEDICARE_PARTICIPATION_INDICATOR', 'PLACE_OF_SERVICE', 'HCPCS_CODE',\n",
      "       'HCPCS_DESCRIPTION', 'HCPCS_DRUG_INDICATOR', 'LINE_SRVC_CNT',\n",
      "       'BENE_UNIQUE_CNT', 'BENE_DAY_SRVC_CNT', 'AVERAGE_MEDICARE_ALLOWED_AMT',\n",
      "       'STDEV_MEDICARE_ALLOWED_AMT', 'AVERAGE_SUBMITTED_CHRG_AMT',\n",
      "       'STDEV_SUBMITTED_CHRG_AMT', 'AVERAGE_MEDICARE_PAYMENT_AMT',\n",
      "       'STDEV_MEDICARE_PAYMENT_AMT'],\n",
      "      dtype='object')\n",
      "28\n"
     ]
    }
   ],
   "source": [
    "print(df2012.columns)\n",
    "print(len(df2012.columns))"
   ]
  },
  {
   "cell_type": "markdown",
   "metadata": {},
   "source": [
    "We can see that the datasets for 2012 and 2013 do not have the `average_Medicare_standard_amt` and they have 3 attributes for standard deviation namely `STDEV_MEDICARE_ALLOWED_AMT`, `STDEV_SUBMITTED_CHRG_AMT`, `STDEV_MEDICARE_PAYMENT_AMT`. We also see that datasets for 2014, 2015 and 2016 do not have any attibutes for standard deviation however they have `average_Medicare_standard_amt`.\n",
    "\n",
    "Going through the Medicare_Physician_and_Other_Supplier_PUF_Methodology_2018-05-03.pdf available at [CMS medicare data page](https://data.cms.gov/Medicare-Physician-Supplier/Medicare-Provider-Utilization-and-Payment-Data-Phy/utc4-f9xp) we can see that standard deviation variables have been removed beginning with calendar year 2014. The `average_Medicare_standard_amt` attribute was also made available starting with year 2014."
   ]
  },
  {
   "cell_type": "markdown",
   "metadata": {},
   "source": [
    "## Clean the Data"
   ]
  },
  {
   "cell_type": "markdown",
   "metadata": {},
   "source": [
    "In this part of our analysis, we will remove some attributes and add a new `Year` attribute to identify the year for each dataset."
   ]
  },
  {
   "cell_type": "markdown",
   "metadata": {},
   "source": [
    "#### Convert column names to lower case"
   ]
  },
  {
   "cell_type": "code",
   "execution_count": 13,
   "metadata": {},
   "outputs": [],
   "source": [
    "df2016.columns = df2016.columns.str.lower()\n",
    "df2015.columns = df2015.columns.str.lower()\n",
    "df2014.columns = df2014.columns.str.lower()\n",
    "df2013.columns = df2013.columns.str.lower()\n",
    "df2012.columns = df2012.columns.str.lower()"
   ]
  },
  {
   "cell_type": "code",
   "execution_count": 14,
   "metadata": {},
   "outputs": [
    {
     "data": {
      "text/plain": [
       "Index(['npi', 'nppes_provider_last_org_name', 'nppes_provider_first_name',\n",
       "       'nppes_provider_mi', 'nppes_credentials', 'nppes_provider_gender',\n",
       "       'nppes_entity_code', 'nppes_provider_street1', 'nppes_provider_street2',\n",
       "       'nppes_provider_city', 'nppes_provider_zip', 'nppes_provider_state',\n",
       "       'nppes_provider_country', 'provider_type',\n",
       "       'medicare_participation_indicator', 'place_of_service', 'hcpcs_code',\n",
       "       'hcpcs_description', 'hcpcs_drug_indicator', 'line_srvc_cnt',\n",
       "       'bene_unique_cnt', 'bene_day_srvc_cnt', 'average_medicare_allowed_amt',\n",
       "       'average_submitted_chrg_amt', 'average_medicare_payment_amt',\n",
       "       'average_medicare_standard_amt'],\n",
       "      dtype='object')"
      ]
     },
     "execution_count": 14,
     "metadata": {},
     "output_type": "execute_result"
    }
   ],
   "source": [
    "df2015.columns"
   ]
  },
  {
   "cell_type": "markdown",
   "metadata": {},
   "source": [
    "#### Remove columns"
   ]
  },
  {
   "cell_type": "markdown",
   "metadata": {},
   "source": [
    "For our analysis, we will go ahead and remove the following attributes: `STDEV_MEDICARE_ALLOWED_AMT`, `STDEV_SUBMITTED_CHRG_AMT`, `STDEV_MEDICARE_PAYMENT_AMT`, `average_Medicare_standard_amt`. We will also remove `LINE_SRVC_CNT`, `NPPES_CREDENTIALS`, `NPPES_PROVIDER_MI` from the datasets."
   ]
  },
  {
   "cell_type": "code",
   "execution_count": 15,
   "metadata": {},
   "outputs": [],
   "source": [
    "# Identify columns to remove\n",
    "cols_to_remove_2012_13 = ['stdev_medicare_allowed_amt','stdev_submitted_chrg_amt','stdev_medicare_payment_amt',\\\n",
    "                 'nppes_provider_mi','line_srvc_cnt','nppes_credentials']\n",
    "\n",
    "cols_to_remove_2014_16 = ['nppes_provider_mi','line_srvc_cnt','nppes_credentials','average_medicare_standard_amt']"
   ]
  },
  {
   "cell_type": "code",
   "execution_count": 16,
   "metadata": {},
   "outputs": [],
   "source": [
    "# Drop Columns for 2016 dataset\n",
    "df2016_updated = df2016.drop(cols_to_remove_2014_16, axis=1)"
   ]
  },
  {
   "cell_type": "code",
   "execution_count": 17,
   "metadata": {},
   "outputs": [
    {
     "name": "stdout",
     "output_type": "stream",
     "text": [
      "Index(['npi', 'nppes_provider_last_org_name', 'nppes_provider_first_name',\n",
      "       'nppes_provider_gender', 'nppes_entity_code', 'nppes_provider_street1',\n",
      "       'nppes_provider_street2', 'nppes_provider_city', 'nppes_provider_zip',\n",
      "       'nppes_provider_state', 'nppes_provider_country', 'provider_type',\n",
      "       'medicare_participation_indicator', 'place_of_service', 'hcpcs_code',\n",
      "       'hcpcs_description', 'hcpcs_drug_indicator', 'bene_unique_cnt',\n",
      "       'bene_day_srvc_cnt', 'average_medicare_allowed_amt',\n",
      "       'average_submitted_chrg_amt', 'average_medicare_payment_amt'],\n",
      "      dtype='object')\n",
      "22\n"
     ]
    }
   ],
   "source": [
    "print(df2016_updated.columns)\n",
    "print(len(df2016_updated.columns))"
   ]
  },
  {
   "cell_type": "code",
   "execution_count": 18,
   "metadata": {},
   "outputs": [],
   "source": [
    "# Drop Columns for 2015 dataset\n",
    "df2015_updated = df2015.drop(cols_to_remove_2014_16, axis=1)"
   ]
  },
  {
   "cell_type": "code",
   "execution_count": 19,
   "metadata": {},
   "outputs": [
    {
     "name": "stdout",
     "output_type": "stream",
     "text": [
      "Index(['npi', 'nppes_provider_last_org_name', 'nppes_provider_first_name',\n",
      "       'nppes_provider_gender', 'nppes_entity_code', 'nppes_provider_street1',\n",
      "       'nppes_provider_street2', 'nppes_provider_city', 'nppes_provider_zip',\n",
      "       'nppes_provider_state', 'nppes_provider_country', 'provider_type',\n",
      "       'medicare_participation_indicator', 'place_of_service', 'hcpcs_code',\n",
      "       'hcpcs_description', 'hcpcs_drug_indicator', 'bene_unique_cnt',\n",
      "       'bene_day_srvc_cnt', 'average_medicare_allowed_amt',\n",
      "       'average_submitted_chrg_amt', 'average_medicare_payment_amt'],\n",
      "      dtype='object')\n",
      "22\n"
     ]
    }
   ],
   "source": [
    "print(df2015_updated.columns)\n",
    "print(len(df2015_updated.columns))"
   ]
  },
  {
   "cell_type": "code",
   "execution_count": 20,
   "metadata": {},
   "outputs": [],
   "source": [
    "# Drop Columns for 2014 dataset\n",
    "df2014_updated = df2014.drop(cols_to_remove_2014_16, axis=1)"
   ]
  },
  {
   "cell_type": "code",
   "execution_count": 21,
   "metadata": {},
   "outputs": [
    {
     "name": "stdout",
     "output_type": "stream",
     "text": [
      "Index(['npi', 'nppes_provider_last_org_name', 'nppes_provider_first_name',\n",
      "       'nppes_provider_gender', 'nppes_entity_code', 'nppes_provider_street1',\n",
      "       'nppes_provider_street2', 'nppes_provider_city', 'nppes_provider_zip',\n",
      "       'nppes_provider_state', 'nppes_provider_country', 'provider_type',\n",
      "       'medicare_participation_indicator', 'place_of_service', 'hcpcs_code',\n",
      "       'hcpcs_description', 'hcpcs_drug_indicator', 'bene_unique_cnt',\n",
      "       'bene_day_srvc_cnt', 'average_medicare_allowed_amt',\n",
      "       'average_submitted_chrg_amt', 'average_medicare_payment_amt'],\n",
      "      dtype='object')\n",
      "22\n"
     ]
    }
   ],
   "source": [
    "print(df2014_updated.columns)\n",
    "print(len(df2014_updated.columns))"
   ]
  },
  {
   "cell_type": "code",
   "execution_count": 22,
   "metadata": {},
   "outputs": [],
   "source": [
    "# Drop Columns for 2013 dataset\n",
    "df2013_updated = df2013.drop(cols_to_remove_2012_13, axis=1)"
   ]
  },
  {
   "cell_type": "code",
   "execution_count": 23,
   "metadata": {},
   "outputs": [
    {
     "name": "stdout",
     "output_type": "stream",
     "text": [
      "Index(['npi', 'nppes_provider_last_org_name', 'nppes_provider_first_name',\n",
      "       'nppes_provider_gender', 'nppes_entity_code', 'nppes_provider_street1',\n",
      "       'nppes_provider_street2', 'nppes_provider_city', 'nppes_provider_zip',\n",
      "       'nppes_provider_state', 'nppes_provider_country', 'provider_type',\n",
      "       'medicare_participation_indicator', 'place_of_service', 'hcpcs_code',\n",
      "       'hcpcs_description', 'hcpcs_drug_indicator', 'bene_unique_cnt',\n",
      "       'bene_day_srvc_cnt', 'average_medicare_allowed_amt',\n",
      "       'average_submitted_chrg_amt', 'average_medicare_payment_amt'],\n",
      "      dtype='object')\n",
      "22\n"
     ]
    }
   ],
   "source": [
    "print(df2013_updated.columns)\n",
    "print(len(df2013_updated.columns))"
   ]
  },
  {
   "cell_type": "code",
   "execution_count": 24,
   "metadata": {},
   "outputs": [],
   "source": [
    "# Drop Columns for 2012 dataset\n",
    "df2012_updated = df2012.drop(cols_to_remove_2012_13, axis=1)"
   ]
  },
  {
   "cell_type": "code",
   "execution_count": 25,
   "metadata": {},
   "outputs": [
    {
     "name": "stdout",
     "output_type": "stream",
     "text": [
      "Index(['npi', 'nppes_provider_last_org_name', 'nppes_provider_first_name',\n",
      "       'nppes_provider_gender', 'nppes_entity_code', 'nppes_provider_street1',\n",
      "       'nppes_provider_street2', 'nppes_provider_city', 'nppes_provider_zip',\n",
      "       'nppes_provider_state', 'nppes_provider_country', 'provider_type',\n",
      "       'medicare_participation_indicator', 'place_of_service', 'hcpcs_code',\n",
      "       'hcpcs_description', 'hcpcs_drug_indicator', 'bene_unique_cnt',\n",
      "       'bene_day_srvc_cnt', 'average_medicare_allowed_amt',\n",
      "       'average_submitted_chrg_amt', 'average_medicare_payment_amt'],\n",
      "      dtype='object')\n",
      "22\n"
     ]
    }
   ],
   "source": [
    "print(df2012_updated.columns)\n",
    "print(len(df2012_updated.columns))"
   ]
  },
  {
   "cell_type": "markdown",
   "metadata": {},
   "source": [
    "#### Add New Attribute - Year"
   ]
  },
  {
   "cell_type": "markdown",
   "metadata": {},
   "source": [
    "We will add a `year` column to identify the year of each dataset"
   ]
  },
  {
   "cell_type": "code",
   "execution_count": 26,
   "metadata": {},
   "outputs": [],
   "source": [
    "# Add year column to each dataset\n",
    "df2016_updated['year'] = 2016\n",
    "df2015_updated['year'] = 2015\n",
    "df2014_updated['year'] = 2014\n",
    "df2013_updated['year'] = 2013\n",
    "df2012_updated['year'] = 2012"
   ]
  },
  {
   "cell_type": "code",
   "execution_count": 27,
   "metadata": {},
   "outputs": [
    {
     "name": "stdout",
     "output_type": "stream",
     "text": [
      "Index(['npi', 'nppes_provider_last_org_name', 'nppes_provider_first_name',\n",
      "       'nppes_provider_gender', 'nppes_entity_code', 'nppes_provider_street1',\n",
      "       'nppes_provider_street2', 'nppes_provider_city', 'nppes_provider_zip',\n",
      "       'nppes_provider_state', 'nppes_provider_country', 'provider_type',\n",
      "       'medicare_participation_indicator', 'place_of_service', 'hcpcs_code',\n",
      "       'hcpcs_description', 'hcpcs_drug_indicator', 'bene_unique_cnt',\n",
      "       'bene_day_srvc_cnt', 'average_medicare_allowed_amt',\n",
      "       'average_submitted_chrg_amt', 'average_medicare_payment_amt', 'year'],\n",
      "      dtype='object')\n"
     ]
    }
   ],
   "source": [
    "# Confirm \n",
    "print(df2012_updated.columns)"
   ]
  },
  {
   "cell_type": "markdown",
   "metadata": {},
   "source": [
    "### Combine Datasets"
   ]
  },
  {
   "cell_type": "markdown",
   "metadata": {},
   "source": [
    "We will combine different dataframes into one dataframe for processing going forward"
   ]
  },
  {
   "cell_type": "code",
   "execution_count": 28,
   "metadata": {},
   "outputs": [],
   "source": [
    "df_combined = dd.concat([df2016_updated, df2015_updated, df2014_updated, df2013_updated, df2012_updated])"
   ]
  },
  {
   "cell_type": "code",
   "execution_count": 29,
   "metadata": {},
   "outputs": [
    {
     "data": {
      "text/html": [
       "<div>\n",
       "<style scoped>\n",
       "    .dataframe tbody tr th:only-of-type {\n",
       "        vertical-align: middle;\n",
       "    }\n",
       "\n",
       "    .dataframe tbody tr th {\n",
       "        vertical-align: top;\n",
       "    }\n",
       "\n",
       "    .dataframe thead th {\n",
       "        text-align: right;\n",
       "    }\n",
       "</style>\n",
       "<table border=\"1\" class=\"dataframe\">\n",
       "  <thead>\n",
       "    <tr style=\"text-align: right;\">\n",
       "      <th></th>\n",
       "      <th>npi</th>\n",
       "      <th>nppes_provider_last_org_name</th>\n",
       "      <th>nppes_provider_first_name</th>\n",
       "      <th>nppes_provider_gender</th>\n",
       "      <th>nppes_entity_code</th>\n",
       "      <th>nppes_provider_street1</th>\n",
       "      <th>nppes_provider_street2</th>\n",
       "      <th>nppes_provider_city</th>\n",
       "      <th>nppes_provider_zip</th>\n",
       "      <th>nppes_provider_state</th>\n",
       "      <th>nppes_provider_country</th>\n",
       "      <th>provider_type</th>\n",
       "      <th>medicare_participation_indicator</th>\n",
       "      <th>place_of_service</th>\n",
       "      <th>hcpcs_code</th>\n",
       "      <th>hcpcs_description</th>\n",
       "      <th>hcpcs_drug_indicator</th>\n",
       "      <th>bene_unique_cnt</th>\n",
       "      <th>bene_day_srvc_cnt</th>\n",
       "      <th>average_medicare_allowed_amt</th>\n",
       "      <th>average_submitted_chrg_amt</th>\n",
       "      <th>average_medicare_payment_amt</th>\n",
       "      <th>year</th>\n",
       "    </tr>\n",
       "  </thead>\n",
       "  <tbody>\n",
       "    <tr>\n",
       "      <th>141067</th>\n",
       "      <td>1992999874</td>\n",
       "      <td>JOFFE</td>\n",
       "      <td>GABRIELLA</td>\n",
       "      <td>F</td>\n",
       "      <td>I</td>\n",
       "      <td>8260 ATLEE RD</td>\n",
       "      <td>MOB 2, SUITE 319</td>\n",
       "      <td>MECHANICSVILLE</td>\n",
       "      <td>231161844</td>\n",
       "      <td>VA</td>\n",
       "      <td>US</td>\n",
       "      <td>Internal Medicine</td>\n",
       "      <td>Y</td>\n",
       "      <td>F</td>\n",
       "      <td>99222</td>\n",
       "      <td>Initial hospital inpatient care, typically 50 ...</td>\n",
       "      <td>N</td>\n",
       "      <td>69</td>\n",
       "      <td>69</td>\n",
       "      <td>130.23</td>\n",
       "      <td>319.88405797</td>\n",
       "      <td>104.18</td>\n",
       "      <td>2012</td>\n",
       "    </tr>\n",
       "    <tr>\n",
       "      <th>141068</th>\n",
       "      <td>1992999874</td>\n",
       "      <td>JOFFE</td>\n",
       "      <td>GABRIELLA</td>\n",
       "      <td>F</td>\n",
       "      <td>I</td>\n",
       "      <td>8260 ATLEE RD</td>\n",
       "      <td>MOB 2, SUITE 319</td>\n",
       "      <td>MECHANICSVILLE</td>\n",
       "      <td>231161844</td>\n",
       "      <td>VA</td>\n",
       "      <td>US</td>\n",
       "      <td>Internal Medicine</td>\n",
       "      <td>Y</td>\n",
       "      <td>F</td>\n",
       "      <td>99223</td>\n",
       "      <td>Initial hospital inpatient care, typically 70 ...</td>\n",
       "      <td>N</td>\n",
       "      <td>98</td>\n",
       "      <td>99</td>\n",
       "      <td>191.48</td>\n",
       "      <td>481.29292929</td>\n",
       "      <td>153.18</td>\n",
       "      <td>2012</td>\n",
       "    </tr>\n",
       "    <tr>\n",
       "      <th>141069</th>\n",
       "      <td>1992999874</td>\n",
       "      <td>JOFFE</td>\n",
       "      <td>GABRIELLA</td>\n",
       "      <td>F</td>\n",
       "      <td>I</td>\n",
       "      <td>8260 ATLEE RD</td>\n",
       "      <td>MOB 2, SUITE 319</td>\n",
       "      <td>MECHANICSVILLE</td>\n",
       "      <td>231161844</td>\n",
       "      <td>VA</td>\n",
       "      <td>US</td>\n",
       "      <td>Internal Medicine</td>\n",
       "      <td>Y</td>\n",
       "      <td>F</td>\n",
       "      <td>99232</td>\n",
       "      <td>Subsequent hospital inpatient care, typically ...</td>\n",
       "      <td>N</td>\n",
       "      <td>202</td>\n",
       "      <td>462</td>\n",
       "      <td>68.59</td>\n",
       "      <td>174.07359307</td>\n",
       "      <td>54.779155844</td>\n",
       "      <td>2012</td>\n",
       "    </tr>\n",
       "    <tr>\n",
       "      <th>141070</th>\n",
       "      <td>1992999874</td>\n",
       "      <td>JOFFE</td>\n",
       "      <td>GABRIELLA</td>\n",
       "      <td>F</td>\n",
       "      <td>I</td>\n",
       "      <td>8260 ATLEE RD</td>\n",
       "      <td>MOB 2, SUITE 319</td>\n",
       "      <td>MECHANICSVILLE</td>\n",
       "      <td>231161844</td>\n",
       "      <td>VA</td>\n",
       "      <td>US</td>\n",
       "      <td>Internal Medicine</td>\n",
       "      <td>Y</td>\n",
       "      <td>F</td>\n",
       "      <td>99233</td>\n",
       "      <td>Subsequent hospital inpatient care, typically ...</td>\n",
       "      <td>N</td>\n",
       "      <td>105</td>\n",
       "      <td>189</td>\n",
       "      <td>98.33</td>\n",
       "      <td>251.44444444</td>\n",
       "      <td>78.341587302</td>\n",
       "      <td>2012</td>\n",
       "    </tr>\n",
       "    <tr>\n",
       "      <th>141071</th>\n",
       "      <td>1992999874</td>\n",
       "      <td>JOFFE</td>\n",
       "      <td>GABRIELLA</td>\n",
       "      <td>F</td>\n",
       "      <td>I</td>\n",
       "      <td>8260 ATLEE RD</td>\n",
       "      <td>MOB 2, SUITE 319</td>\n",
       "      <td>MECHANICSVILLE</td>\n",
       "      <td>231161844</td>\n",
       "      <td>VA</td>\n",
       "      <td>US</td>\n",
       "      <td>Internal Medicine</td>\n",
       "      <td>Y</td>\n",
       "      <td>F</td>\n",
       "      <td>99239</td>\n",
       "      <td>Hospital discharge day management, more than 3...</td>\n",
       "      <td>N</td>\n",
       "      <td>157</td>\n",
       "      <td>164</td>\n",
       "      <td>101.33</td>\n",
       "      <td>257.48780488</td>\n",
       "      <td>80.680487805</td>\n",
       "      <td>2012</td>\n",
       "    </tr>\n",
       "  </tbody>\n",
       "</table>\n",
       "</div>"
      ],
      "text/plain": [
       "               npi nppes_provider_last_org_name nppes_provider_first_name  \\\n",
       "141067  1992999874                        JOFFE                 GABRIELLA   \n",
       "141068  1992999874                        JOFFE                 GABRIELLA   \n",
       "141069  1992999874                        JOFFE                 GABRIELLA   \n",
       "141070  1992999874                        JOFFE                 GABRIELLA   \n",
       "141071  1992999874                        JOFFE                 GABRIELLA   \n",
       "\n",
       "       nppes_provider_gender nppes_entity_code nppes_provider_street1  \\\n",
       "141067                     F                 I          8260 ATLEE RD   \n",
       "141068                     F                 I          8260 ATLEE RD   \n",
       "141069                     F                 I          8260 ATLEE RD   \n",
       "141070                     F                 I          8260 ATLEE RD   \n",
       "141071                     F                 I          8260 ATLEE RD   \n",
       "\n",
       "       nppes_provider_street2 nppes_provider_city nppes_provider_zip  \\\n",
       "141067       MOB 2, SUITE 319      MECHANICSVILLE          231161844   \n",
       "141068       MOB 2, SUITE 319      MECHANICSVILLE          231161844   \n",
       "141069       MOB 2, SUITE 319      MECHANICSVILLE          231161844   \n",
       "141070       MOB 2, SUITE 319      MECHANICSVILLE          231161844   \n",
       "141071       MOB 2, SUITE 319      MECHANICSVILLE          231161844   \n",
       "\n",
       "       nppes_provider_state nppes_provider_country      provider_type  \\\n",
       "141067                   VA                     US  Internal Medicine   \n",
       "141068                   VA                     US  Internal Medicine   \n",
       "141069                   VA                     US  Internal Medicine   \n",
       "141070                   VA                     US  Internal Medicine   \n",
       "141071                   VA                     US  Internal Medicine   \n",
       "\n",
       "       medicare_participation_indicator place_of_service hcpcs_code  \\\n",
       "141067                                Y                F      99222   \n",
       "141068                                Y                F      99223   \n",
       "141069                                Y                F      99232   \n",
       "141070                                Y                F      99233   \n",
       "141071                                Y                F      99239   \n",
       "\n",
       "                                        hcpcs_description  \\\n",
       "141067  Initial hospital inpatient care, typically 50 ...   \n",
       "141068  Initial hospital inpatient care, typically 70 ...   \n",
       "141069  Subsequent hospital inpatient care, typically ...   \n",
       "141070  Subsequent hospital inpatient care, typically ...   \n",
       "141071  Hospital discharge day management, more than 3...   \n",
       "\n",
       "       hcpcs_drug_indicator bene_unique_cnt bene_day_srvc_cnt  \\\n",
       "141067                    N              69                69   \n",
       "141068                    N              98                99   \n",
       "141069                    N             202               462   \n",
       "141070                    N             105               189   \n",
       "141071                    N             157               164   \n",
       "\n",
       "       average_medicare_allowed_amt average_submitted_chrg_amt  \\\n",
       "141067                       130.23               319.88405797   \n",
       "141068                       191.48               481.29292929   \n",
       "141069                        68.59               174.07359307   \n",
       "141070                        98.33               251.44444444   \n",
       "141071                       101.33               257.48780488   \n",
       "\n",
       "       average_medicare_payment_amt  year  \n",
       "141067                       104.18  2012  \n",
       "141068                       153.18  2012  \n",
       "141069                 54.779155844  2012  \n",
       "141070                 78.341587302  2012  \n",
       "141071                 80.680487805  2012  "
      ]
     },
     "execution_count": 29,
     "metadata": {},
     "output_type": "execute_result"
    }
   ],
   "source": [
    "df_combined.tail()"
   ]
  },
  {
   "cell_type": "markdown",
   "metadata": {},
   "source": [
    "### Clean Combined Dataset"
   ]
  },
  {
   "cell_type": "markdown",
   "metadata": {},
   "source": [
    "#### Rename Attributes"
   ]
  },
  {
   "cell_type": "code",
   "execution_count": 30,
   "metadata": {},
   "outputs": [],
   "source": [
    "# Rename Columns\n",
    "df_combined = df_combined.rename(columns={\"nppes_provider_last_org_name\":\"provider_last_name\",'nppes_provider_first_name':'provider_first_name',\n",
    "                'nppes_provider_gender':'gender','nppes_entity_code':'entity_type',\n",
    "                'nppes_provider_street1':'addressline1','nppes_provider_street2':'addressline2',\n",
    "                'nppes_provider_city':'city','nppes_provider_zip':'postal_code',\n",
    "                'nppes_provider_state':'state','nppes_provider_country':'country',\n",
    "                'average_medicare_allowed_amt':'avg_medicare_allowed_amt','average_submitted_chrg_amt':'avg_submitted_chrg_amt',\n",
    "                'average_medicare_payment_amt':'avg_medicare_payment_amt'})"
   ]
  },
  {
   "cell_type": "code",
   "execution_count": 31,
   "metadata": {},
   "outputs": [
    {
     "data": {
      "text/html": [
       "<div>\n",
       "<style scoped>\n",
       "    .dataframe tbody tr th:only-of-type {\n",
       "        vertical-align: middle;\n",
       "    }\n",
       "\n",
       "    .dataframe tbody tr th {\n",
       "        vertical-align: top;\n",
       "    }\n",
       "\n",
       "    .dataframe thead th {\n",
       "        text-align: right;\n",
       "    }\n",
       "</style>\n",
       "<table border=\"1\" class=\"dataframe\">\n",
       "  <thead>\n",
       "    <tr style=\"text-align: right;\">\n",
       "      <th></th>\n",
       "      <th>npi</th>\n",
       "      <th>provider_last_name</th>\n",
       "      <th>provider_first_name</th>\n",
       "      <th>gender</th>\n",
       "      <th>entity_type</th>\n",
       "      <th>addressline1</th>\n",
       "      <th>addressline2</th>\n",
       "      <th>city</th>\n",
       "      <th>postal_code</th>\n",
       "      <th>state</th>\n",
       "      <th>country</th>\n",
       "      <th>provider_type</th>\n",
       "      <th>medicare_participation_indicator</th>\n",
       "      <th>place_of_service</th>\n",
       "      <th>hcpcs_code</th>\n",
       "      <th>hcpcs_description</th>\n",
       "      <th>hcpcs_drug_indicator</th>\n",
       "      <th>bene_unique_cnt</th>\n",
       "      <th>bene_day_srvc_cnt</th>\n",
       "      <th>avg_medicare_allowed_amt</th>\n",
       "      <th>avg_submitted_chrg_amt</th>\n",
       "      <th>avg_medicare_payment_amt</th>\n",
       "      <th>year</th>\n",
       "    </tr>\n",
       "  </thead>\n",
       "  <tbody>\n",
       "    <tr>\n",
       "      <th>0</th>\n",
       "      <td>0000000001</td>\n",
       "      <td>CPT copyright 2015 American Medical Associatio...</td>\n",
       "      <td>NaN</td>\n",
       "      <td>NaN</td>\n",
       "      <td>NaN</td>\n",
       "      <td>NaN</td>\n",
       "      <td>NaN</td>\n",
       "      <td>NaN</td>\n",
       "      <td>NaN</td>\n",
       "      <td>NaN</td>\n",
       "      <td>NaN</td>\n",
       "      <td>NaN</td>\n",
       "      <td>NaN</td>\n",
       "      <td>NaN</td>\n",
       "      <td>NaN</td>\n",
       "      <td>NaN</td>\n",
       "      <td>NaN</td>\n",
       "      <td>NaN</td>\n",
       "      <td>NaN</td>\n",
       "      <td>NaN</td>\n",
       "      <td>NaN</td>\n",
       "      <td>NaN</td>\n",
       "      <td>2016</td>\n",
       "    </tr>\n",
       "    <tr>\n",
       "      <th>1</th>\n",
       "      <td>1003000126</td>\n",
       "      <td>ENKESHAFI</td>\n",
       "      <td>ARDALAN</td>\n",
       "      <td>M</td>\n",
       "      <td>I</td>\n",
       "      <td>900 SETON DR</td>\n",
       "      <td>NaN</td>\n",
       "      <td>CUMBERLAND</td>\n",
       "      <td>215021854</td>\n",
       "      <td>MD</td>\n",
       "      <td>US</td>\n",
       "      <td>Internal Medicine</td>\n",
       "      <td>Y</td>\n",
       "      <td>F</td>\n",
       "      <td>99217</td>\n",
       "      <td>Hospital observation care discharge</td>\n",
       "      <td>N</td>\n",
       "      <td>55</td>\n",
       "      <td>57</td>\n",
       "      <td>72.743157895</td>\n",
       "      <td>325.15789474</td>\n",
       "      <td>54.474385965</td>\n",
       "      <td>2016</td>\n",
       "    </tr>\n",
       "    <tr>\n",
       "      <th>2</th>\n",
       "      <td>1003000126</td>\n",
       "      <td>ENKESHAFI</td>\n",
       "      <td>ARDALAN</td>\n",
       "      <td>M</td>\n",
       "      <td>I</td>\n",
       "      <td>900 SETON DR</td>\n",
       "      <td>NaN</td>\n",
       "      <td>CUMBERLAND</td>\n",
       "      <td>215021854</td>\n",
       "      <td>MD</td>\n",
       "      <td>US</td>\n",
       "      <td>Internal Medicine</td>\n",
       "      <td>Y</td>\n",
       "      <td>F</td>\n",
       "      <td>99219</td>\n",
       "      <td>Hospital observation care typically 50 minutes</td>\n",
       "      <td>N</td>\n",
       "      <td>38</td>\n",
       "      <td>38</td>\n",
       "      <td>135.01</td>\n",
       "      <td>614</td>\n",
       "      <td>105.85</td>\n",
       "      <td>2016</td>\n",
       "    </tr>\n",
       "    <tr>\n",
       "      <th>3</th>\n",
       "      <td>1003000126</td>\n",
       "      <td>ENKESHAFI</td>\n",
       "      <td>ARDALAN</td>\n",
       "      <td>M</td>\n",
       "      <td>I</td>\n",
       "      <td>900 SETON DR</td>\n",
       "      <td>NaN</td>\n",
       "      <td>CUMBERLAND</td>\n",
       "      <td>215021854</td>\n",
       "      <td>MD</td>\n",
       "      <td>US</td>\n",
       "      <td>Internal Medicine</td>\n",
       "      <td>Y</td>\n",
       "      <td>F</td>\n",
       "      <td>99220</td>\n",
       "      <td>Hospital observation care typically 70 minutes...</td>\n",
       "      <td>N</td>\n",
       "      <td>23</td>\n",
       "      <td>23</td>\n",
       "      <td>189.23956522</td>\n",
       "      <td>769.34782609</td>\n",
       "      <td>146.11652174</td>\n",
       "      <td>2016</td>\n",
       "    </tr>\n",
       "    <tr>\n",
       "      <th>4</th>\n",
       "      <td>1003000126</td>\n",
       "      <td>ENKESHAFI</td>\n",
       "      <td>ARDALAN</td>\n",
       "      <td>M</td>\n",
       "      <td>I</td>\n",
       "      <td>900 SETON DR</td>\n",
       "      <td>NaN</td>\n",
       "      <td>CUMBERLAND</td>\n",
       "      <td>215021854</td>\n",
       "      <td>MD</td>\n",
       "      <td>US</td>\n",
       "      <td>Internal Medicine</td>\n",
       "      <td>Y</td>\n",
       "      <td>F</td>\n",
       "      <td>99221</td>\n",
       "      <td>Initial hospital inpatient care, typically 30 ...</td>\n",
       "      <td>N</td>\n",
       "      <td>20</td>\n",
       "      <td>20</td>\n",
       "      <td>100.75</td>\n",
       "      <td>460</td>\n",
       "      <td>78.99</td>\n",
       "      <td>2016</td>\n",
       "    </tr>\n",
       "  </tbody>\n",
       "</table>\n",
       "</div>"
      ],
      "text/plain": [
       "          npi                                 provider_last_name  \\\n",
       "0  0000000001  CPT copyright 2015 American Medical Associatio...   \n",
       "1  1003000126                                          ENKESHAFI   \n",
       "2  1003000126                                          ENKESHAFI   \n",
       "3  1003000126                                          ENKESHAFI   \n",
       "4  1003000126                                          ENKESHAFI   \n",
       "\n",
       "  provider_first_name gender entity_type  addressline1 addressline2  \\\n",
       "0                 NaN    NaN         NaN           NaN          NaN   \n",
       "1             ARDALAN      M           I  900 SETON DR          NaN   \n",
       "2             ARDALAN      M           I  900 SETON DR          NaN   \n",
       "3             ARDALAN      M           I  900 SETON DR          NaN   \n",
       "4             ARDALAN      M           I  900 SETON DR          NaN   \n",
       "\n",
       "         city postal_code state country      provider_type  \\\n",
       "0         NaN         NaN   NaN     NaN                NaN   \n",
       "1  CUMBERLAND   215021854    MD      US  Internal Medicine   \n",
       "2  CUMBERLAND   215021854    MD      US  Internal Medicine   \n",
       "3  CUMBERLAND   215021854    MD      US  Internal Medicine   \n",
       "4  CUMBERLAND   215021854    MD      US  Internal Medicine   \n",
       "\n",
       "  medicare_participation_indicator place_of_service hcpcs_code  \\\n",
       "0                              NaN              NaN        NaN   \n",
       "1                                Y                F      99217   \n",
       "2                                Y                F      99219   \n",
       "3                                Y                F      99220   \n",
       "4                                Y                F      99221   \n",
       "\n",
       "                                   hcpcs_description hcpcs_drug_indicator  \\\n",
       "0                                                NaN                  NaN   \n",
       "1                Hospital observation care discharge                    N   \n",
       "2     Hospital observation care typically 50 minutes                    N   \n",
       "3  Hospital observation care typically 70 minutes...                    N   \n",
       "4  Initial hospital inpatient care, typically 30 ...                    N   \n",
       "\n",
       "  bene_unique_cnt bene_day_srvc_cnt avg_medicare_allowed_amt  \\\n",
       "0             NaN               NaN                      NaN   \n",
       "1              55                57             72.743157895   \n",
       "2              38                38                   135.01   \n",
       "3              23                23             189.23956522   \n",
       "4              20                20                   100.75   \n",
       "\n",
       "  avg_submitted_chrg_amt avg_medicare_payment_amt  year  \n",
       "0                    NaN                      NaN  2016  \n",
       "1           325.15789474             54.474385965  2016  \n",
       "2                    614                   105.85  2016  \n",
       "3           769.34782609             146.11652174  2016  \n",
       "4                    460                    78.99  2016  "
      ]
     },
     "execution_count": 31,
     "metadata": {},
     "output_type": "execute_result"
    }
   ],
   "source": [
    "df_combined.head()"
   ]
  },
  {
   "cell_type": "markdown",
   "metadata": {},
   "source": [
    "#### Change categories of `entity_type`"
   ]
  },
  {
   "cell_type": "code",
   "execution_count": 32,
   "metadata": {},
   "outputs": [],
   "source": [
    "df_combined['entity_type'] = df_combined['entity_type'].mask(df_combined['entity_type'] == 'I', 'Individual').mask(df_combined['entity_type'] == 'O', 'Organization')"
   ]
  },
  {
   "cell_type": "code",
   "execution_count": 33,
   "metadata": {},
   "outputs": [
    {
     "data": {
      "text/html": [
       "<div>\n",
       "<style scoped>\n",
       "    .dataframe tbody tr th:only-of-type {\n",
       "        vertical-align: middle;\n",
       "    }\n",
       "\n",
       "    .dataframe tbody tr th {\n",
       "        vertical-align: top;\n",
       "    }\n",
       "\n",
       "    .dataframe thead th {\n",
       "        text-align: right;\n",
       "    }\n",
       "</style>\n",
       "<table border=\"1\" class=\"dataframe\">\n",
       "  <thead>\n",
       "    <tr style=\"text-align: right;\">\n",
       "      <th></th>\n",
       "      <th>npi</th>\n",
       "      <th>provider_last_name</th>\n",
       "      <th>provider_first_name</th>\n",
       "      <th>gender</th>\n",
       "      <th>entity_type</th>\n",
       "      <th>addressline1</th>\n",
       "      <th>addressline2</th>\n",
       "      <th>city</th>\n",
       "      <th>postal_code</th>\n",
       "      <th>state</th>\n",
       "      <th>country</th>\n",
       "      <th>provider_type</th>\n",
       "      <th>medicare_participation_indicator</th>\n",
       "      <th>place_of_service</th>\n",
       "      <th>hcpcs_code</th>\n",
       "      <th>hcpcs_description</th>\n",
       "      <th>hcpcs_drug_indicator</th>\n",
       "      <th>bene_unique_cnt</th>\n",
       "      <th>bene_day_srvc_cnt</th>\n",
       "      <th>avg_medicare_allowed_amt</th>\n",
       "      <th>avg_submitted_chrg_amt</th>\n",
       "      <th>avg_medicare_payment_amt</th>\n",
       "      <th>year</th>\n",
       "    </tr>\n",
       "  </thead>\n",
       "  <tbody>\n",
       "    <tr>\n",
       "      <th>0</th>\n",
       "      <td>0000000001</td>\n",
       "      <td>CPT copyright 2015 American Medical Associatio...</td>\n",
       "      <td>NaN</td>\n",
       "      <td>NaN</td>\n",
       "      <td>NaN</td>\n",
       "      <td>NaN</td>\n",
       "      <td>NaN</td>\n",
       "      <td>NaN</td>\n",
       "      <td>NaN</td>\n",
       "      <td>NaN</td>\n",
       "      <td>NaN</td>\n",
       "      <td>NaN</td>\n",
       "      <td>NaN</td>\n",
       "      <td>NaN</td>\n",
       "      <td>NaN</td>\n",
       "      <td>NaN</td>\n",
       "      <td>NaN</td>\n",
       "      <td>NaN</td>\n",
       "      <td>NaN</td>\n",
       "      <td>NaN</td>\n",
       "      <td>NaN</td>\n",
       "      <td>NaN</td>\n",
       "      <td>2016</td>\n",
       "    </tr>\n",
       "    <tr>\n",
       "      <th>1</th>\n",
       "      <td>1003000126</td>\n",
       "      <td>ENKESHAFI</td>\n",
       "      <td>ARDALAN</td>\n",
       "      <td>M</td>\n",
       "      <td>Individual</td>\n",
       "      <td>900 SETON DR</td>\n",
       "      <td>NaN</td>\n",
       "      <td>CUMBERLAND</td>\n",
       "      <td>215021854</td>\n",
       "      <td>MD</td>\n",
       "      <td>US</td>\n",
       "      <td>Internal Medicine</td>\n",
       "      <td>Y</td>\n",
       "      <td>F</td>\n",
       "      <td>99217</td>\n",
       "      <td>Hospital observation care discharge</td>\n",
       "      <td>N</td>\n",
       "      <td>55</td>\n",
       "      <td>57</td>\n",
       "      <td>72.743157895</td>\n",
       "      <td>325.15789474</td>\n",
       "      <td>54.474385965</td>\n",
       "      <td>2016</td>\n",
       "    </tr>\n",
       "    <tr>\n",
       "      <th>2</th>\n",
       "      <td>1003000126</td>\n",
       "      <td>ENKESHAFI</td>\n",
       "      <td>ARDALAN</td>\n",
       "      <td>M</td>\n",
       "      <td>Individual</td>\n",
       "      <td>900 SETON DR</td>\n",
       "      <td>NaN</td>\n",
       "      <td>CUMBERLAND</td>\n",
       "      <td>215021854</td>\n",
       "      <td>MD</td>\n",
       "      <td>US</td>\n",
       "      <td>Internal Medicine</td>\n",
       "      <td>Y</td>\n",
       "      <td>F</td>\n",
       "      <td>99219</td>\n",
       "      <td>Hospital observation care typically 50 minutes</td>\n",
       "      <td>N</td>\n",
       "      <td>38</td>\n",
       "      <td>38</td>\n",
       "      <td>135.01</td>\n",
       "      <td>614</td>\n",
       "      <td>105.85</td>\n",
       "      <td>2016</td>\n",
       "    </tr>\n",
       "    <tr>\n",
       "      <th>3</th>\n",
       "      <td>1003000126</td>\n",
       "      <td>ENKESHAFI</td>\n",
       "      <td>ARDALAN</td>\n",
       "      <td>M</td>\n",
       "      <td>Individual</td>\n",
       "      <td>900 SETON DR</td>\n",
       "      <td>NaN</td>\n",
       "      <td>CUMBERLAND</td>\n",
       "      <td>215021854</td>\n",
       "      <td>MD</td>\n",
       "      <td>US</td>\n",
       "      <td>Internal Medicine</td>\n",
       "      <td>Y</td>\n",
       "      <td>F</td>\n",
       "      <td>99220</td>\n",
       "      <td>Hospital observation care typically 70 minutes...</td>\n",
       "      <td>N</td>\n",
       "      <td>23</td>\n",
       "      <td>23</td>\n",
       "      <td>189.23956522</td>\n",
       "      <td>769.34782609</td>\n",
       "      <td>146.11652174</td>\n",
       "      <td>2016</td>\n",
       "    </tr>\n",
       "    <tr>\n",
       "      <th>4</th>\n",
       "      <td>1003000126</td>\n",
       "      <td>ENKESHAFI</td>\n",
       "      <td>ARDALAN</td>\n",
       "      <td>M</td>\n",
       "      <td>Individual</td>\n",
       "      <td>900 SETON DR</td>\n",
       "      <td>NaN</td>\n",
       "      <td>CUMBERLAND</td>\n",
       "      <td>215021854</td>\n",
       "      <td>MD</td>\n",
       "      <td>US</td>\n",
       "      <td>Internal Medicine</td>\n",
       "      <td>Y</td>\n",
       "      <td>F</td>\n",
       "      <td>99221</td>\n",
       "      <td>Initial hospital inpatient care, typically 30 ...</td>\n",
       "      <td>N</td>\n",
       "      <td>20</td>\n",
       "      <td>20</td>\n",
       "      <td>100.75</td>\n",
       "      <td>460</td>\n",
       "      <td>78.99</td>\n",
       "      <td>2016</td>\n",
       "    </tr>\n",
       "  </tbody>\n",
       "</table>\n",
       "</div>"
      ],
      "text/plain": [
       "          npi                                 provider_last_name  \\\n",
       "0  0000000001  CPT copyright 2015 American Medical Associatio...   \n",
       "1  1003000126                                          ENKESHAFI   \n",
       "2  1003000126                                          ENKESHAFI   \n",
       "3  1003000126                                          ENKESHAFI   \n",
       "4  1003000126                                          ENKESHAFI   \n",
       "\n",
       "  provider_first_name gender entity_type  addressline1 addressline2  \\\n",
       "0                 NaN    NaN         NaN           NaN          NaN   \n",
       "1             ARDALAN      M  Individual  900 SETON DR          NaN   \n",
       "2             ARDALAN      M  Individual  900 SETON DR          NaN   \n",
       "3             ARDALAN      M  Individual  900 SETON DR          NaN   \n",
       "4             ARDALAN      M  Individual  900 SETON DR          NaN   \n",
       "\n",
       "         city postal_code state country      provider_type  \\\n",
       "0         NaN         NaN   NaN     NaN                NaN   \n",
       "1  CUMBERLAND   215021854    MD      US  Internal Medicine   \n",
       "2  CUMBERLAND   215021854    MD      US  Internal Medicine   \n",
       "3  CUMBERLAND   215021854    MD      US  Internal Medicine   \n",
       "4  CUMBERLAND   215021854    MD      US  Internal Medicine   \n",
       "\n",
       "  medicare_participation_indicator place_of_service hcpcs_code  \\\n",
       "0                              NaN              NaN        NaN   \n",
       "1                                Y                F      99217   \n",
       "2                                Y                F      99219   \n",
       "3                                Y                F      99220   \n",
       "4                                Y                F      99221   \n",
       "\n",
       "                                   hcpcs_description hcpcs_drug_indicator  \\\n",
       "0                                                NaN                  NaN   \n",
       "1                Hospital observation care discharge                    N   \n",
       "2     Hospital observation care typically 50 minutes                    N   \n",
       "3  Hospital observation care typically 70 minutes...                    N   \n",
       "4  Initial hospital inpatient care, typically 30 ...                    N   \n",
       "\n",
       "  bene_unique_cnt bene_day_srvc_cnt avg_medicare_allowed_amt  \\\n",
       "0             NaN               NaN                      NaN   \n",
       "1              55                57             72.743157895   \n",
       "2              38                38                   135.01   \n",
       "3              23                23             189.23956522   \n",
       "4              20                20                   100.75   \n",
       "\n",
       "  avg_submitted_chrg_amt avg_medicare_payment_amt  year  \n",
       "0                    NaN                      NaN  2016  \n",
       "1           325.15789474             54.474385965  2016  \n",
       "2                    614                   105.85  2016  \n",
       "3           769.34782609             146.11652174  2016  \n",
       "4                    460                    78.99  2016  "
      ]
     },
     "execution_count": 33,
     "metadata": {},
     "output_type": "execute_result"
    }
   ],
   "source": [
    "df_combined.head()"
   ]
  },
  {
   "cell_type": "markdown",
   "metadata": {},
   "source": [
    "#### Remove Incorrect Entry"
   ]
  },
  {
   "cell_type": "code",
   "execution_count": 34,
   "metadata": {},
   "outputs": [],
   "source": [
    "df_combined = df_combined[df_combined.npi != '0000000001']"
   ]
  },
  {
   "cell_type": "code",
   "execution_count": 35,
   "metadata": {},
   "outputs": [
    {
     "data": {
      "text/html": [
       "<div>\n",
       "<style scoped>\n",
       "    .dataframe tbody tr th:only-of-type {\n",
       "        vertical-align: middle;\n",
       "    }\n",
       "\n",
       "    .dataframe tbody tr th {\n",
       "        vertical-align: top;\n",
       "    }\n",
       "\n",
       "    .dataframe thead th {\n",
       "        text-align: right;\n",
       "    }\n",
       "</style>\n",
       "<table border=\"1\" class=\"dataframe\">\n",
       "  <thead>\n",
       "    <tr style=\"text-align: right;\">\n",
       "      <th></th>\n",
       "      <th>npi</th>\n",
       "      <th>provider_last_name</th>\n",
       "      <th>provider_first_name</th>\n",
       "      <th>gender</th>\n",
       "      <th>entity_type</th>\n",
       "      <th>addressline1</th>\n",
       "      <th>addressline2</th>\n",
       "      <th>city</th>\n",
       "      <th>postal_code</th>\n",
       "      <th>state</th>\n",
       "      <th>country</th>\n",
       "      <th>provider_type</th>\n",
       "      <th>medicare_participation_indicator</th>\n",
       "      <th>place_of_service</th>\n",
       "      <th>hcpcs_code</th>\n",
       "      <th>hcpcs_description</th>\n",
       "      <th>hcpcs_drug_indicator</th>\n",
       "      <th>bene_unique_cnt</th>\n",
       "      <th>bene_day_srvc_cnt</th>\n",
       "      <th>avg_medicare_allowed_amt</th>\n",
       "      <th>avg_submitted_chrg_amt</th>\n",
       "      <th>avg_medicare_payment_amt</th>\n",
       "      <th>year</th>\n",
       "    </tr>\n",
       "  </thead>\n",
       "  <tbody>\n",
       "    <tr>\n",
       "      <th>1</th>\n",
       "      <td>1003000126</td>\n",
       "      <td>ENKESHAFI</td>\n",
       "      <td>ARDALAN</td>\n",
       "      <td>M</td>\n",
       "      <td>Individual</td>\n",
       "      <td>900 SETON DR</td>\n",
       "      <td>NaN</td>\n",
       "      <td>CUMBERLAND</td>\n",
       "      <td>215021854</td>\n",
       "      <td>MD</td>\n",
       "      <td>US</td>\n",
       "      <td>Internal Medicine</td>\n",
       "      <td>Y</td>\n",
       "      <td>F</td>\n",
       "      <td>99217</td>\n",
       "      <td>Hospital observation care discharge</td>\n",
       "      <td>N</td>\n",
       "      <td>55</td>\n",
       "      <td>57</td>\n",
       "      <td>72.743157895</td>\n",
       "      <td>325.15789474</td>\n",
       "      <td>54.474385965</td>\n",
       "      <td>2016</td>\n",
       "    </tr>\n",
       "    <tr>\n",
       "      <th>2</th>\n",
       "      <td>1003000126</td>\n",
       "      <td>ENKESHAFI</td>\n",
       "      <td>ARDALAN</td>\n",
       "      <td>M</td>\n",
       "      <td>Individual</td>\n",
       "      <td>900 SETON DR</td>\n",
       "      <td>NaN</td>\n",
       "      <td>CUMBERLAND</td>\n",
       "      <td>215021854</td>\n",
       "      <td>MD</td>\n",
       "      <td>US</td>\n",
       "      <td>Internal Medicine</td>\n",
       "      <td>Y</td>\n",
       "      <td>F</td>\n",
       "      <td>99219</td>\n",
       "      <td>Hospital observation care typically 50 minutes</td>\n",
       "      <td>N</td>\n",
       "      <td>38</td>\n",
       "      <td>38</td>\n",
       "      <td>135.01</td>\n",
       "      <td>614</td>\n",
       "      <td>105.85</td>\n",
       "      <td>2016</td>\n",
       "    </tr>\n",
       "    <tr>\n",
       "      <th>3</th>\n",
       "      <td>1003000126</td>\n",
       "      <td>ENKESHAFI</td>\n",
       "      <td>ARDALAN</td>\n",
       "      <td>M</td>\n",
       "      <td>Individual</td>\n",
       "      <td>900 SETON DR</td>\n",
       "      <td>NaN</td>\n",
       "      <td>CUMBERLAND</td>\n",
       "      <td>215021854</td>\n",
       "      <td>MD</td>\n",
       "      <td>US</td>\n",
       "      <td>Internal Medicine</td>\n",
       "      <td>Y</td>\n",
       "      <td>F</td>\n",
       "      <td>99220</td>\n",
       "      <td>Hospital observation care typically 70 minutes...</td>\n",
       "      <td>N</td>\n",
       "      <td>23</td>\n",
       "      <td>23</td>\n",
       "      <td>189.23956522</td>\n",
       "      <td>769.34782609</td>\n",
       "      <td>146.11652174</td>\n",
       "      <td>2016</td>\n",
       "    </tr>\n",
       "    <tr>\n",
       "      <th>4</th>\n",
       "      <td>1003000126</td>\n",
       "      <td>ENKESHAFI</td>\n",
       "      <td>ARDALAN</td>\n",
       "      <td>M</td>\n",
       "      <td>Individual</td>\n",
       "      <td>900 SETON DR</td>\n",
       "      <td>NaN</td>\n",
       "      <td>CUMBERLAND</td>\n",
       "      <td>215021854</td>\n",
       "      <td>MD</td>\n",
       "      <td>US</td>\n",
       "      <td>Internal Medicine</td>\n",
       "      <td>Y</td>\n",
       "      <td>F</td>\n",
       "      <td>99221</td>\n",
       "      <td>Initial hospital inpatient care, typically 30 ...</td>\n",
       "      <td>N</td>\n",
       "      <td>20</td>\n",
       "      <td>20</td>\n",
       "      <td>100.75</td>\n",
       "      <td>460</td>\n",
       "      <td>78.99</td>\n",
       "      <td>2016</td>\n",
       "    </tr>\n",
       "    <tr>\n",
       "      <th>5</th>\n",
       "      <td>1003000126</td>\n",
       "      <td>ENKESHAFI</td>\n",
       "      <td>ARDALAN</td>\n",
       "      <td>M</td>\n",
       "      <td>Individual</td>\n",
       "      <td>900 SETON DR</td>\n",
       "      <td>NaN</td>\n",
       "      <td>CUMBERLAND</td>\n",
       "      <td>215021854</td>\n",
       "      <td>MD</td>\n",
       "      <td>US</td>\n",
       "      <td>Internal Medicine</td>\n",
       "      <td>Y</td>\n",
       "      <td>F</td>\n",
       "      <td>99222</td>\n",
       "      <td>Initial hospital inpatient care, typically 50 ...</td>\n",
       "      <td>N</td>\n",
       "      <td>87</td>\n",
       "      <td>96</td>\n",
       "      <td>136.25</td>\n",
       "      <td>625</td>\n",
       "      <td>105.47760417</td>\n",
       "      <td>2016</td>\n",
       "    </tr>\n",
       "  </tbody>\n",
       "</table>\n",
       "</div>"
      ],
      "text/plain": [
       "          npi provider_last_name provider_first_name gender entity_type  \\\n",
       "1  1003000126          ENKESHAFI             ARDALAN      M  Individual   \n",
       "2  1003000126          ENKESHAFI             ARDALAN      M  Individual   \n",
       "3  1003000126          ENKESHAFI             ARDALAN      M  Individual   \n",
       "4  1003000126          ENKESHAFI             ARDALAN      M  Individual   \n",
       "5  1003000126          ENKESHAFI             ARDALAN      M  Individual   \n",
       "\n",
       "   addressline1 addressline2        city postal_code state country  \\\n",
       "1  900 SETON DR          NaN  CUMBERLAND   215021854    MD      US   \n",
       "2  900 SETON DR          NaN  CUMBERLAND   215021854    MD      US   \n",
       "3  900 SETON DR          NaN  CUMBERLAND   215021854    MD      US   \n",
       "4  900 SETON DR          NaN  CUMBERLAND   215021854    MD      US   \n",
       "5  900 SETON DR          NaN  CUMBERLAND   215021854    MD      US   \n",
       "\n",
       "       provider_type medicare_participation_indicator place_of_service  \\\n",
       "1  Internal Medicine                                Y                F   \n",
       "2  Internal Medicine                                Y                F   \n",
       "3  Internal Medicine                                Y                F   \n",
       "4  Internal Medicine                                Y                F   \n",
       "5  Internal Medicine                                Y                F   \n",
       "\n",
       "  hcpcs_code                                  hcpcs_description  \\\n",
       "1      99217                Hospital observation care discharge   \n",
       "2      99219     Hospital observation care typically 50 minutes   \n",
       "3      99220  Hospital observation care typically 70 minutes...   \n",
       "4      99221  Initial hospital inpatient care, typically 30 ...   \n",
       "5      99222  Initial hospital inpatient care, typically 50 ...   \n",
       "\n",
       "  hcpcs_drug_indicator bene_unique_cnt bene_day_srvc_cnt  \\\n",
       "1                    N              55                57   \n",
       "2                    N              38                38   \n",
       "3                    N              23                23   \n",
       "4                    N              20                20   \n",
       "5                    N              87                96   \n",
       "\n",
       "  avg_medicare_allowed_amt avg_submitted_chrg_amt avg_medicare_payment_amt  \\\n",
       "1             72.743157895           325.15789474             54.474385965   \n",
       "2                   135.01                    614                   105.85   \n",
       "3             189.23956522           769.34782609             146.11652174   \n",
       "4                   100.75                    460                    78.99   \n",
       "5                   136.25                    625             105.47760417   \n",
       "\n",
       "   year  \n",
       "1  2016  \n",
       "2  2016  \n",
       "3  2016  \n",
       "4  2016  \n",
       "5  2016  "
      ]
     },
     "execution_count": 35,
     "metadata": {},
     "output_type": "execute_result"
    }
   ],
   "source": [
    "df_combined.head()"
   ]
  },
  {
   "cell_type": "markdown",
   "metadata": {},
   "source": [
    "#### Change Data type"
   ]
  },
  {
   "cell_type": "code",
   "execution_count": 36,
   "metadata": {},
   "outputs": [
    {
     "data": {
      "text/html": [
       "<div><strong>Dask DataFrame Structure:</strong></div>\n",
       "<div>\n",
       "<style scoped>\n",
       "    .dataframe tbody tr th:only-of-type {\n",
       "        vertical-align: middle;\n",
       "    }\n",
       "\n",
       "    .dataframe tbody tr th {\n",
       "        vertical-align: top;\n",
       "    }\n",
       "\n",
       "    .dataframe thead th {\n",
       "        text-align: right;\n",
       "    }\n",
       "</style>\n",
       "<table border=\"1\" class=\"dataframe\">\n",
       "  <thead>\n",
       "    <tr style=\"text-align: right;\">\n",
       "      <th></th>\n",
       "      <th>npi</th>\n",
       "      <th>provider_last_name</th>\n",
       "      <th>provider_first_name</th>\n",
       "      <th>gender</th>\n",
       "      <th>entity_type</th>\n",
       "      <th>addressline1</th>\n",
       "      <th>addressline2</th>\n",
       "      <th>city</th>\n",
       "      <th>postal_code</th>\n",
       "      <th>state</th>\n",
       "      <th>country</th>\n",
       "      <th>provider_type</th>\n",
       "      <th>medicare_participation_indicator</th>\n",
       "      <th>place_of_service</th>\n",
       "      <th>hcpcs_code</th>\n",
       "      <th>hcpcs_description</th>\n",
       "      <th>hcpcs_drug_indicator</th>\n",
       "      <th>bene_unique_cnt</th>\n",
       "      <th>bene_day_srvc_cnt</th>\n",
       "      <th>avg_medicare_allowed_amt</th>\n",
       "      <th>avg_submitted_chrg_amt</th>\n",
       "      <th>avg_medicare_payment_amt</th>\n",
       "      <th>year</th>\n",
       "    </tr>\n",
       "    <tr>\n",
       "      <th>npartitions=171</th>\n",
       "      <th></th>\n",
       "      <th></th>\n",
       "      <th></th>\n",
       "      <th></th>\n",
       "      <th></th>\n",
       "      <th></th>\n",
       "      <th></th>\n",
       "      <th></th>\n",
       "      <th></th>\n",
       "      <th></th>\n",
       "      <th></th>\n",
       "      <th></th>\n",
       "      <th></th>\n",
       "      <th></th>\n",
       "      <th></th>\n",
       "      <th></th>\n",
       "      <th></th>\n",
       "      <th></th>\n",
       "      <th></th>\n",
       "      <th></th>\n",
       "      <th></th>\n",
       "      <th></th>\n",
       "      <th></th>\n",
       "    </tr>\n",
       "  </thead>\n",
       "  <tbody>\n",
       "    <tr>\n",
       "      <th></th>\n",
       "      <td>object</td>\n",
       "      <td>object</td>\n",
       "      <td>object</td>\n",
       "      <td>object</td>\n",
       "      <td>object</td>\n",
       "      <td>object</td>\n",
       "      <td>object</td>\n",
       "      <td>object</td>\n",
       "      <td>object</td>\n",
       "      <td>object</td>\n",
       "      <td>object</td>\n",
       "      <td>object</td>\n",
       "      <td>object</td>\n",
       "      <td>object</td>\n",
       "      <td>object</td>\n",
       "      <td>object</td>\n",
       "      <td>object</td>\n",
       "      <td>object</td>\n",
       "      <td>object</td>\n",
       "      <td>object</td>\n",
       "      <td>object</td>\n",
       "      <td>object</td>\n",
       "      <td>int64</td>\n",
       "    </tr>\n",
       "    <tr>\n",
       "      <th></th>\n",
       "      <td>...</td>\n",
       "      <td>...</td>\n",
       "      <td>...</td>\n",
       "      <td>...</td>\n",
       "      <td>...</td>\n",
       "      <td>...</td>\n",
       "      <td>...</td>\n",
       "      <td>...</td>\n",
       "      <td>...</td>\n",
       "      <td>...</td>\n",
       "      <td>...</td>\n",
       "      <td>...</td>\n",
       "      <td>...</td>\n",
       "      <td>...</td>\n",
       "      <td>...</td>\n",
       "      <td>...</td>\n",
       "      <td>...</td>\n",
       "      <td>...</td>\n",
       "      <td>...</td>\n",
       "      <td>...</td>\n",
       "      <td>...</td>\n",
       "      <td>...</td>\n",
       "      <td>...</td>\n",
       "    </tr>\n",
       "    <tr>\n",
       "      <th>...</th>\n",
       "      <td>...</td>\n",
       "      <td>...</td>\n",
       "      <td>...</td>\n",
       "      <td>...</td>\n",
       "      <td>...</td>\n",
       "      <td>...</td>\n",
       "      <td>...</td>\n",
       "      <td>...</td>\n",
       "      <td>...</td>\n",
       "      <td>...</td>\n",
       "      <td>...</td>\n",
       "      <td>...</td>\n",
       "      <td>...</td>\n",
       "      <td>...</td>\n",
       "      <td>...</td>\n",
       "      <td>...</td>\n",
       "      <td>...</td>\n",
       "      <td>...</td>\n",
       "      <td>...</td>\n",
       "      <td>...</td>\n",
       "      <td>...</td>\n",
       "      <td>...</td>\n",
       "      <td>...</td>\n",
       "    </tr>\n",
       "    <tr>\n",
       "      <th></th>\n",
       "      <td>...</td>\n",
       "      <td>...</td>\n",
       "      <td>...</td>\n",
       "      <td>...</td>\n",
       "      <td>...</td>\n",
       "      <td>...</td>\n",
       "      <td>...</td>\n",
       "      <td>...</td>\n",
       "      <td>...</td>\n",
       "      <td>...</td>\n",
       "      <td>...</td>\n",
       "      <td>...</td>\n",
       "      <td>...</td>\n",
       "      <td>...</td>\n",
       "      <td>...</td>\n",
       "      <td>...</td>\n",
       "      <td>...</td>\n",
       "      <td>...</td>\n",
       "      <td>...</td>\n",
       "      <td>...</td>\n",
       "      <td>...</td>\n",
       "      <td>...</td>\n",
       "      <td>...</td>\n",
       "    </tr>\n",
       "    <tr>\n",
       "      <th></th>\n",
       "      <td>...</td>\n",
       "      <td>...</td>\n",
       "      <td>...</td>\n",
       "      <td>...</td>\n",
       "      <td>...</td>\n",
       "      <td>...</td>\n",
       "      <td>...</td>\n",
       "      <td>...</td>\n",
       "      <td>...</td>\n",
       "      <td>...</td>\n",
       "      <td>...</td>\n",
       "      <td>...</td>\n",
       "      <td>...</td>\n",
       "      <td>...</td>\n",
       "      <td>...</td>\n",
       "      <td>...</td>\n",
       "      <td>...</td>\n",
       "      <td>...</td>\n",
       "      <td>...</td>\n",
       "      <td>...</td>\n",
       "      <td>...</td>\n",
       "      <td>...</td>\n",
       "      <td>...</td>\n",
       "    </tr>\n",
       "  </tbody>\n",
       "</table>\n",
       "</div>\n",
       "<div>Dask Name: getitem, 2907 tasks</div>"
      ],
      "text/plain": [
       "Dask DataFrame Structure:\n",
       "                    npi provider_last_name provider_first_name  gender entity_type addressline1 addressline2    city postal_code   state country provider_type medicare_participation_indicator place_of_service hcpcs_code hcpcs_description hcpcs_drug_indicator bene_unique_cnt bene_day_srvc_cnt avg_medicare_allowed_amt avg_submitted_chrg_amt avg_medicare_payment_amt   year\n",
       "npartitions=171                                                                                                                                                                                                                                                                                                                                                                     \n",
       "                 object             object              object  object      object       object       object  object      object  object  object        object                           object           object     object            object               object          object            object                   object                 object                   object  int64\n",
       "                    ...                ...                 ...     ...         ...          ...          ...     ...         ...     ...     ...           ...                              ...              ...        ...               ...                  ...             ...               ...                      ...                    ...                      ...    ...\n",
       "...                 ...                ...                 ...     ...         ...          ...          ...     ...         ...     ...     ...           ...                              ...              ...        ...               ...                  ...             ...               ...                      ...                    ...                      ...    ...\n",
       "                    ...                ...                 ...     ...         ...          ...          ...     ...         ...     ...     ...           ...                              ...              ...        ...               ...                  ...             ...               ...                      ...                    ...                      ...    ...\n",
       "                    ...                ...                 ...     ...         ...          ...          ...     ...         ...     ...     ...           ...                              ...              ...        ...               ...                  ...             ...               ...                      ...                    ...                      ...    ...\n",
       "Dask Name: getitem, 2907 tasks"
      ]
     },
     "execution_count": 36,
     "metadata": {},
     "output_type": "execute_result"
    }
   ],
   "source": [
    "# Check data types \n",
    "df_combined"
   ]
  },
  {
   "cell_type": "markdown",
   "metadata": {},
   "source": [
    " - We can see that the datatypes of some of the numeric columns is object. We will change the datatype of amount columns to float and count columns to int to reflect the correct types.\n",
    " - We will also round the amounts to 3 decimal places."
   ]
  },
  {
   "cell_type": "code",
   "execution_count": 37,
   "metadata": {},
   "outputs": [],
   "source": [
    "# Change data types\n",
    "\n",
    "df_combined['bene_unique_cnt'] = df_combined['bene_unique_cnt'].astype(int)\n",
    "df_combined['bene_day_srvc_cnt'] = df_combined['bene_day_srvc_cnt'].astype(int)\n",
    "df_combined['avg_medicare_allowed_amt'] = df_combined['avg_medicare_allowed_amt'].astype(float).round(3)\n",
    "df_combined['avg_submitted_chrg_amt'] = df_combined['avg_submitted_chrg_amt'].astype(float).round(3)\n",
    "df_combined['avg_medicare_payment_amt'] = df_combined['avg_medicare_payment_amt'].astype(float).round(3)"
   ]
  },
  {
   "cell_type": "code",
   "execution_count": 38,
   "metadata": {},
   "outputs": [
    {
     "data": {
      "text/html": [
       "<div><strong>Dask DataFrame Structure:</strong></div>\n",
       "<div>\n",
       "<style scoped>\n",
       "    .dataframe tbody tr th:only-of-type {\n",
       "        vertical-align: middle;\n",
       "    }\n",
       "\n",
       "    .dataframe tbody tr th {\n",
       "        vertical-align: top;\n",
       "    }\n",
       "\n",
       "    .dataframe thead th {\n",
       "        text-align: right;\n",
       "    }\n",
       "</style>\n",
       "<table border=\"1\" class=\"dataframe\">\n",
       "  <thead>\n",
       "    <tr style=\"text-align: right;\">\n",
       "      <th></th>\n",
       "      <th>npi</th>\n",
       "      <th>provider_last_name</th>\n",
       "      <th>provider_first_name</th>\n",
       "      <th>gender</th>\n",
       "      <th>entity_type</th>\n",
       "      <th>addressline1</th>\n",
       "      <th>addressline2</th>\n",
       "      <th>city</th>\n",
       "      <th>postal_code</th>\n",
       "      <th>state</th>\n",
       "      <th>country</th>\n",
       "      <th>provider_type</th>\n",
       "      <th>medicare_participation_indicator</th>\n",
       "      <th>place_of_service</th>\n",
       "      <th>hcpcs_code</th>\n",
       "      <th>hcpcs_description</th>\n",
       "      <th>hcpcs_drug_indicator</th>\n",
       "      <th>bene_unique_cnt</th>\n",
       "      <th>bene_day_srvc_cnt</th>\n",
       "      <th>avg_medicare_allowed_amt</th>\n",
       "      <th>avg_submitted_chrg_amt</th>\n",
       "      <th>avg_medicare_payment_amt</th>\n",
       "      <th>year</th>\n",
       "    </tr>\n",
       "    <tr>\n",
       "      <th>npartitions=171</th>\n",
       "      <th></th>\n",
       "      <th></th>\n",
       "      <th></th>\n",
       "      <th></th>\n",
       "      <th></th>\n",
       "      <th></th>\n",
       "      <th></th>\n",
       "      <th></th>\n",
       "      <th></th>\n",
       "      <th></th>\n",
       "      <th></th>\n",
       "      <th></th>\n",
       "      <th></th>\n",
       "      <th></th>\n",
       "      <th></th>\n",
       "      <th></th>\n",
       "      <th></th>\n",
       "      <th></th>\n",
       "      <th></th>\n",
       "      <th></th>\n",
       "      <th></th>\n",
       "      <th></th>\n",
       "      <th></th>\n",
       "    </tr>\n",
       "  </thead>\n",
       "  <tbody>\n",
       "    <tr>\n",
       "      <th></th>\n",
       "      <td>object</td>\n",
       "      <td>object</td>\n",
       "      <td>object</td>\n",
       "      <td>object</td>\n",
       "      <td>object</td>\n",
       "      <td>object</td>\n",
       "      <td>object</td>\n",
       "      <td>object</td>\n",
       "      <td>object</td>\n",
       "      <td>object</td>\n",
       "      <td>object</td>\n",
       "      <td>object</td>\n",
       "      <td>object</td>\n",
       "      <td>object</td>\n",
       "      <td>object</td>\n",
       "      <td>object</td>\n",
       "      <td>object</td>\n",
       "      <td>int32</td>\n",
       "      <td>int32</td>\n",
       "      <td>float64</td>\n",
       "      <td>float64</td>\n",
       "      <td>float64</td>\n",
       "      <td>int64</td>\n",
       "    </tr>\n",
       "    <tr>\n",
       "      <th></th>\n",
       "      <td>...</td>\n",
       "      <td>...</td>\n",
       "      <td>...</td>\n",
       "      <td>...</td>\n",
       "      <td>...</td>\n",
       "      <td>...</td>\n",
       "      <td>...</td>\n",
       "      <td>...</td>\n",
       "      <td>...</td>\n",
       "      <td>...</td>\n",
       "      <td>...</td>\n",
       "      <td>...</td>\n",
       "      <td>...</td>\n",
       "      <td>...</td>\n",
       "      <td>...</td>\n",
       "      <td>...</td>\n",
       "      <td>...</td>\n",
       "      <td>...</td>\n",
       "      <td>...</td>\n",
       "      <td>...</td>\n",
       "      <td>...</td>\n",
       "      <td>...</td>\n",
       "      <td>...</td>\n",
       "    </tr>\n",
       "    <tr>\n",
       "      <th>...</th>\n",
       "      <td>...</td>\n",
       "      <td>...</td>\n",
       "      <td>...</td>\n",
       "      <td>...</td>\n",
       "      <td>...</td>\n",
       "      <td>...</td>\n",
       "      <td>...</td>\n",
       "      <td>...</td>\n",
       "      <td>...</td>\n",
       "      <td>...</td>\n",
       "      <td>...</td>\n",
       "      <td>...</td>\n",
       "      <td>...</td>\n",
       "      <td>...</td>\n",
       "      <td>...</td>\n",
       "      <td>...</td>\n",
       "      <td>...</td>\n",
       "      <td>...</td>\n",
       "      <td>...</td>\n",
       "      <td>...</td>\n",
       "      <td>...</td>\n",
       "      <td>...</td>\n",
       "      <td>...</td>\n",
       "    </tr>\n",
       "    <tr>\n",
       "      <th></th>\n",
       "      <td>...</td>\n",
       "      <td>...</td>\n",
       "      <td>...</td>\n",
       "      <td>...</td>\n",
       "      <td>...</td>\n",
       "      <td>...</td>\n",
       "      <td>...</td>\n",
       "      <td>...</td>\n",
       "      <td>...</td>\n",
       "      <td>...</td>\n",
       "      <td>...</td>\n",
       "      <td>...</td>\n",
       "      <td>...</td>\n",
       "      <td>...</td>\n",
       "      <td>...</td>\n",
       "      <td>...</td>\n",
       "      <td>...</td>\n",
       "      <td>...</td>\n",
       "      <td>...</td>\n",
       "      <td>...</td>\n",
       "      <td>...</td>\n",
       "      <td>...</td>\n",
       "      <td>...</td>\n",
       "    </tr>\n",
       "    <tr>\n",
       "      <th></th>\n",
       "      <td>...</td>\n",
       "      <td>...</td>\n",
       "      <td>...</td>\n",
       "      <td>...</td>\n",
       "      <td>...</td>\n",
       "      <td>...</td>\n",
       "      <td>...</td>\n",
       "      <td>...</td>\n",
       "      <td>...</td>\n",
       "      <td>...</td>\n",
       "      <td>...</td>\n",
       "      <td>...</td>\n",
       "      <td>...</td>\n",
       "      <td>...</td>\n",
       "      <td>...</td>\n",
       "      <td>...</td>\n",
       "      <td>...</td>\n",
       "      <td>...</td>\n",
       "      <td>...</td>\n",
       "      <td>...</td>\n",
       "      <td>...</td>\n",
       "      <td>...</td>\n",
       "      <td>...</td>\n",
       "    </tr>\n",
       "  </tbody>\n",
       "</table>\n",
       "</div>\n",
       "<div>Dask Name: assign, 5985 tasks</div>"
      ],
      "text/plain": [
       "Dask DataFrame Structure:\n",
       "                    npi provider_last_name provider_first_name  gender entity_type addressline1 addressline2    city postal_code   state country provider_type medicare_participation_indicator place_of_service hcpcs_code hcpcs_description hcpcs_drug_indicator bene_unique_cnt bene_day_srvc_cnt avg_medicare_allowed_amt avg_submitted_chrg_amt avg_medicare_payment_amt   year\n",
       "npartitions=171                                                                                                                                                                                                                                                                                                                                                                     \n",
       "                 object             object              object  object      object       object       object  object      object  object  object        object                           object           object     object            object               object           int32             int32                  float64                float64                  float64  int64\n",
       "                    ...                ...                 ...     ...         ...          ...          ...     ...         ...     ...     ...           ...                              ...              ...        ...               ...                  ...             ...               ...                      ...                    ...                      ...    ...\n",
       "...                 ...                ...                 ...     ...         ...          ...          ...     ...         ...     ...     ...           ...                              ...              ...        ...               ...                  ...             ...               ...                      ...                    ...                      ...    ...\n",
       "                    ...                ...                 ...     ...         ...          ...          ...     ...         ...     ...     ...           ...                              ...              ...        ...               ...                  ...             ...               ...                      ...                    ...                      ...    ...\n",
       "                    ...                ...                 ...     ...         ...          ...          ...     ...         ...     ...     ...           ...                              ...              ...        ...               ...                  ...             ...               ...                      ...                    ...                      ...    ...\n",
       "Dask Name: assign, 5985 tasks"
      ]
     },
     "execution_count": 38,
     "metadata": {},
     "output_type": "execute_result"
    }
   ],
   "source": [
    "# Check updated data types\n",
    "df_combined"
   ]
  },
  {
   "cell_type": "code",
   "execution_count": 39,
   "metadata": {},
   "outputs": [
    {
     "data": {
      "text/html": [
       "<div>\n",
       "<style scoped>\n",
       "    .dataframe tbody tr th:only-of-type {\n",
       "        vertical-align: middle;\n",
       "    }\n",
       "\n",
       "    .dataframe tbody tr th {\n",
       "        vertical-align: top;\n",
       "    }\n",
       "\n",
       "    .dataframe thead th {\n",
       "        text-align: right;\n",
       "    }\n",
       "</style>\n",
       "<table border=\"1\" class=\"dataframe\">\n",
       "  <thead>\n",
       "    <tr style=\"text-align: right;\">\n",
       "      <th></th>\n",
       "      <th>npi</th>\n",
       "      <th>provider_last_name</th>\n",
       "      <th>provider_first_name</th>\n",
       "      <th>gender</th>\n",
       "      <th>entity_type</th>\n",
       "      <th>addressline1</th>\n",
       "      <th>addressline2</th>\n",
       "      <th>city</th>\n",
       "      <th>postal_code</th>\n",
       "      <th>state</th>\n",
       "      <th>country</th>\n",
       "      <th>provider_type</th>\n",
       "      <th>medicare_participation_indicator</th>\n",
       "      <th>place_of_service</th>\n",
       "      <th>hcpcs_code</th>\n",
       "      <th>hcpcs_description</th>\n",
       "      <th>hcpcs_drug_indicator</th>\n",
       "      <th>bene_unique_cnt</th>\n",
       "      <th>bene_day_srvc_cnt</th>\n",
       "      <th>avg_medicare_allowed_amt</th>\n",
       "      <th>avg_submitted_chrg_amt</th>\n",
       "      <th>avg_medicare_payment_amt</th>\n",
       "      <th>year</th>\n",
       "    </tr>\n",
       "  </thead>\n",
       "  <tbody>\n",
       "    <tr>\n",
       "      <th>1</th>\n",
       "      <td>1003000126</td>\n",
       "      <td>ENKESHAFI</td>\n",
       "      <td>ARDALAN</td>\n",
       "      <td>M</td>\n",
       "      <td>Individual</td>\n",
       "      <td>900 SETON DR</td>\n",
       "      <td>NaN</td>\n",
       "      <td>CUMBERLAND</td>\n",
       "      <td>215021854</td>\n",
       "      <td>MD</td>\n",
       "      <td>US</td>\n",
       "      <td>Internal Medicine</td>\n",
       "      <td>Y</td>\n",
       "      <td>F</td>\n",
       "      <td>99217</td>\n",
       "      <td>Hospital observation care discharge</td>\n",
       "      <td>N</td>\n",
       "      <td>55</td>\n",
       "      <td>57</td>\n",
       "      <td>72.743</td>\n",
       "      <td>325.158</td>\n",
       "      <td>54.474</td>\n",
       "      <td>2016</td>\n",
       "    </tr>\n",
       "    <tr>\n",
       "      <th>2</th>\n",
       "      <td>1003000126</td>\n",
       "      <td>ENKESHAFI</td>\n",
       "      <td>ARDALAN</td>\n",
       "      <td>M</td>\n",
       "      <td>Individual</td>\n",
       "      <td>900 SETON DR</td>\n",
       "      <td>NaN</td>\n",
       "      <td>CUMBERLAND</td>\n",
       "      <td>215021854</td>\n",
       "      <td>MD</td>\n",
       "      <td>US</td>\n",
       "      <td>Internal Medicine</td>\n",
       "      <td>Y</td>\n",
       "      <td>F</td>\n",
       "      <td>99219</td>\n",
       "      <td>Hospital observation care typically 50 minutes</td>\n",
       "      <td>N</td>\n",
       "      <td>38</td>\n",
       "      <td>38</td>\n",
       "      <td>135.010</td>\n",
       "      <td>614.000</td>\n",
       "      <td>105.850</td>\n",
       "      <td>2016</td>\n",
       "    </tr>\n",
       "    <tr>\n",
       "      <th>3</th>\n",
       "      <td>1003000126</td>\n",
       "      <td>ENKESHAFI</td>\n",
       "      <td>ARDALAN</td>\n",
       "      <td>M</td>\n",
       "      <td>Individual</td>\n",
       "      <td>900 SETON DR</td>\n",
       "      <td>NaN</td>\n",
       "      <td>CUMBERLAND</td>\n",
       "      <td>215021854</td>\n",
       "      <td>MD</td>\n",
       "      <td>US</td>\n",
       "      <td>Internal Medicine</td>\n",
       "      <td>Y</td>\n",
       "      <td>F</td>\n",
       "      <td>99220</td>\n",
       "      <td>Hospital observation care typically 70 minutes...</td>\n",
       "      <td>N</td>\n",
       "      <td>23</td>\n",
       "      <td>23</td>\n",
       "      <td>189.240</td>\n",
       "      <td>769.348</td>\n",
       "      <td>146.117</td>\n",
       "      <td>2016</td>\n",
       "    </tr>\n",
       "    <tr>\n",
       "      <th>4</th>\n",
       "      <td>1003000126</td>\n",
       "      <td>ENKESHAFI</td>\n",
       "      <td>ARDALAN</td>\n",
       "      <td>M</td>\n",
       "      <td>Individual</td>\n",
       "      <td>900 SETON DR</td>\n",
       "      <td>NaN</td>\n",
       "      <td>CUMBERLAND</td>\n",
       "      <td>215021854</td>\n",
       "      <td>MD</td>\n",
       "      <td>US</td>\n",
       "      <td>Internal Medicine</td>\n",
       "      <td>Y</td>\n",
       "      <td>F</td>\n",
       "      <td>99221</td>\n",
       "      <td>Initial hospital inpatient care, typically 30 ...</td>\n",
       "      <td>N</td>\n",
       "      <td>20</td>\n",
       "      <td>20</td>\n",
       "      <td>100.750</td>\n",
       "      <td>460.000</td>\n",
       "      <td>78.990</td>\n",
       "      <td>2016</td>\n",
       "    </tr>\n",
       "    <tr>\n",
       "      <th>5</th>\n",
       "      <td>1003000126</td>\n",
       "      <td>ENKESHAFI</td>\n",
       "      <td>ARDALAN</td>\n",
       "      <td>M</td>\n",
       "      <td>Individual</td>\n",
       "      <td>900 SETON DR</td>\n",
       "      <td>NaN</td>\n",
       "      <td>CUMBERLAND</td>\n",
       "      <td>215021854</td>\n",
       "      <td>MD</td>\n",
       "      <td>US</td>\n",
       "      <td>Internal Medicine</td>\n",
       "      <td>Y</td>\n",
       "      <td>F</td>\n",
       "      <td>99222</td>\n",
       "      <td>Initial hospital inpatient care, typically 50 ...</td>\n",
       "      <td>N</td>\n",
       "      <td>87</td>\n",
       "      <td>96</td>\n",
       "      <td>136.250</td>\n",
       "      <td>625.000</td>\n",
       "      <td>105.478</td>\n",
       "      <td>2016</td>\n",
       "    </tr>\n",
       "  </tbody>\n",
       "</table>\n",
       "</div>"
      ],
      "text/plain": [
       "          npi provider_last_name provider_first_name gender entity_type  \\\n",
       "1  1003000126          ENKESHAFI             ARDALAN      M  Individual   \n",
       "2  1003000126          ENKESHAFI             ARDALAN      M  Individual   \n",
       "3  1003000126          ENKESHAFI             ARDALAN      M  Individual   \n",
       "4  1003000126          ENKESHAFI             ARDALAN      M  Individual   \n",
       "5  1003000126          ENKESHAFI             ARDALAN      M  Individual   \n",
       "\n",
       "   addressline1 addressline2        city postal_code state country  \\\n",
       "1  900 SETON DR          NaN  CUMBERLAND   215021854    MD      US   \n",
       "2  900 SETON DR          NaN  CUMBERLAND   215021854    MD      US   \n",
       "3  900 SETON DR          NaN  CUMBERLAND   215021854    MD      US   \n",
       "4  900 SETON DR          NaN  CUMBERLAND   215021854    MD      US   \n",
       "5  900 SETON DR          NaN  CUMBERLAND   215021854    MD      US   \n",
       "\n",
       "       provider_type medicare_participation_indicator place_of_service  \\\n",
       "1  Internal Medicine                                Y                F   \n",
       "2  Internal Medicine                                Y                F   \n",
       "3  Internal Medicine                                Y                F   \n",
       "4  Internal Medicine                                Y                F   \n",
       "5  Internal Medicine                                Y                F   \n",
       "\n",
       "  hcpcs_code                                  hcpcs_description  \\\n",
       "1      99217                Hospital observation care discharge   \n",
       "2      99219     Hospital observation care typically 50 minutes   \n",
       "3      99220  Hospital observation care typically 70 minutes...   \n",
       "4      99221  Initial hospital inpatient care, typically 30 ...   \n",
       "5      99222  Initial hospital inpatient care, typically 50 ...   \n",
       "\n",
       "  hcpcs_drug_indicator  bene_unique_cnt  bene_day_srvc_cnt  \\\n",
       "1                    N               55                 57   \n",
       "2                    N               38                 38   \n",
       "3                    N               23                 23   \n",
       "4                    N               20                 20   \n",
       "5                    N               87                 96   \n",
       "\n",
       "   avg_medicare_allowed_amt  avg_submitted_chrg_amt  avg_medicare_payment_amt  \\\n",
       "1                    72.743                 325.158                    54.474   \n",
       "2                   135.010                 614.000                   105.850   \n",
       "3                   189.240                 769.348                   146.117   \n",
       "4                   100.750                 460.000                    78.990   \n",
       "5                   136.250                 625.000                   105.478   \n",
       "\n",
       "   year  \n",
       "1  2016  \n",
       "2  2016  \n",
       "3  2016  \n",
       "4  2016  \n",
       "5  2016  "
      ]
     },
     "execution_count": 39,
     "metadata": {},
     "output_type": "execute_result"
    }
   ],
   "source": [
    "# Check rounding\n",
    "df_combined.head()"
   ]
  },
  {
   "cell_type": "markdown",
   "metadata": {},
   "source": [
    "#### Create New Attributes"
   ]
  },
  {
   "cell_type": "markdown",
   "metadata": {},
   "source": [
    "We will add 3 new columns:\n",
    "1. full_address\n",
    "2. outofpocket_insurance\n",
    "3. provider_name"
   ]
  },
  {
   "cell_type": "code",
   "execution_count": 40,
   "metadata": {},
   "outputs": [],
   "source": [
    "# Create new address column\n",
    "df_combined['full_address'] = df_combined['addressline1']+', '+df_combined['addressline2'].fillna('')+', '\\\n",
    "                                +df_combined['city']+', '+df_combined['state']+' '+df_combined['postal_code']"
   ]
  },
  {
   "cell_type": "code",
   "execution_count": 41,
   "metadata": {},
   "outputs": [],
   "source": [
    "# Create new provider name column\n",
    "df_combined['provider_name'] = df_combined['provider_first_name'].fillna('')+' '+df_combined['provider_last_name'].fillna('')"
   ]
  },
  {
   "cell_type": "code",
   "execution_count": 42,
   "metadata": {},
   "outputs": [],
   "source": [
    "# Create new outofpocket_insurance column\n",
    "df_combined['outofpocket_insurance'] = df_combined['avg_medicare_allowed_amt'] - df_combined['avg_medicare_payment_amt']"
   ]
  },
  {
   "cell_type": "code",
   "execution_count": 43,
   "metadata": {},
   "outputs": [
    {
     "data": {
      "text/html": [
       "<div>\n",
       "<style scoped>\n",
       "    .dataframe tbody tr th:only-of-type {\n",
       "        vertical-align: middle;\n",
       "    }\n",
       "\n",
       "    .dataframe tbody tr th {\n",
       "        vertical-align: top;\n",
       "    }\n",
       "\n",
       "    .dataframe thead th {\n",
       "        text-align: right;\n",
       "    }\n",
       "</style>\n",
       "<table border=\"1\" class=\"dataframe\">\n",
       "  <thead>\n",
       "    <tr style=\"text-align: right;\">\n",
       "      <th></th>\n",
       "      <th>npi</th>\n",
       "      <th>provider_last_name</th>\n",
       "      <th>provider_first_name</th>\n",
       "      <th>gender</th>\n",
       "      <th>entity_type</th>\n",
       "      <th>addressline1</th>\n",
       "      <th>addressline2</th>\n",
       "      <th>city</th>\n",
       "      <th>postal_code</th>\n",
       "      <th>state</th>\n",
       "      <th>country</th>\n",
       "      <th>provider_type</th>\n",
       "      <th>medicare_participation_indicator</th>\n",
       "      <th>place_of_service</th>\n",
       "      <th>hcpcs_code</th>\n",
       "      <th>hcpcs_description</th>\n",
       "      <th>hcpcs_drug_indicator</th>\n",
       "      <th>bene_unique_cnt</th>\n",
       "      <th>bene_day_srvc_cnt</th>\n",
       "      <th>avg_medicare_allowed_amt</th>\n",
       "      <th>avg_submitted_chrg_amt</th>\n",
       "      <th>avg_medicare_payment_amt</th>\n",
       "      <th>year</th>\n",
       "      <th>full_address</th>\n",
       "      <th>provider_name</th>\n",
       "      <th>outofpocket_insurance</th>\n",
       "    </tr>\n",
       "  </thead>\n",
       "  <tbody>\n",
       "    <tr>\n",
       "      <th>1</th>\n",
       "      <td>1003000126</td>\n",
       "      <td>ENKESHAFI</td>\n",
       "      <td>ARDALAN</td>\n",
       "      <td>M</td>\n",
       "      <td>Individual</td>\n",
       "      <td>900 SETON DR</td>\n",
       "      <td>NaN</td>\n",
       "      <td>CUMBERLAND</td>\n",
       "      <td>215021854</td>\n",
       "      <td>MD</td>\n",
       "      <td>US</td>\n",
       "      <td>Internal Medicine</td>\n",
       "      <td>Y</td>\n",
       "      <td>F</td>\n",
       "      <td>99217</td>\n",
       "      <td>Hospital observation care discharge</td>\n",
       "      <td>N</td>\n",
       "      <td>55</td>\n",
       "      <td>57</td>\n",
       "      <td>72.743</td>\n",
       "      <td>325.158</td>\n",
       "      <td>54.474</td>\n",
       "      <td>2016</td>\n",
       "      <td>900 SETON DR, , CUMBERLAND, MD 215021854</td>\n",
       "      <td>ARDALAN ENKESHAFI</td>\n",
       "      <td>18.269</td>\n",
       "    </tr>\n",
       "    <tr>\n",
       "      <th>2</th>\n",
       "      <td>1003000126</td>\n",
       "      <td>ENKESHAFI</td>\n",
       "      <td>ARDALAN</td>\n",
       "      <td>M</td>\n",
       "      <td>Individual</td>\n",
       "      <td>900 SETON DR</td>\n",
       "      <td>NaN</td>\n",
       "      <td>CUMBERLAND</td>\n",
       "      <td>215021854</td>\n",
       "      <td>MD</td>\n",
       "      <td>US</td>\n",
       "      <td>Internal Medicine</td>\n",
       "      <td>Y</td>\n",
       "      <td>F</td>\n",
       "      <td>99219</td>\n",
       "      <td>Hospital observation care typically 50 minutes</td>\n",
       "      <td>N</td>\n",
       "      <td>38</td>\n",
       "      <td>38</td>\n",
       "      <td>135.010</td>\n",
       "      <td>614.000</td>\n",
       "      <td>105.850</td>\n",
       "      <td>2016</td>\n",
       "      <td>900 SETON DR, , CUMBERLAND, MD 215021854</td>\n",
       "      <td>ARDALAN ENKESHAFI</td>\n",
       "      <td>29.160</td>\n",
       "    </tr>\n",
       "    <tr>\n",
       "      <th>3</th>\n",
       "      <td>1003000126</td>\n",
       "      <td>ENKESHAFI</td>\n",
       "      <td>ARDALAN</td>\n",
       "      <td>M</td>\n",
       "      <td>Individual</td>\n",
       "      <td>900 SETON DR</td>\n",
       "      <td>NaN</td>\n",
       "      <td>CUMBERLAND</td>\n",
       "      <td>215021854</td>\n",
       "      <td>MD</td>\n",
       "      <td>US</td>\n",
       "      <td>Internal Medicine</td>\n",
       "      <td>Y</td>\n",
       "      <td>F</td>\n",
       "      <td>99220</td>\n",
       "      <td>Hospital observation care typically 70 minutes...</td>\n",
       "      <td>N</td>\n",
       "      <td>23</td>\n",
       "      <td>23</td>\n",
       "      <td>189.240</td>\n",
       "      <td>769.348</td>\n",
       "      <td>146.117</td>\n",
       "      <td>2016</td>\n",
       "      <td>900 SETON DR, , CUMBERLAND, MD 215021854</td>\n",
       "      <td>ARDALAN ENKESHAFI</td>\n",
       "      <td>43.123</td>\n",
       "    </tr>\n",
       "    <tr>\n",
       "      <th>4</th>\n",
       "      <td>1003000126</td>\n",
       "      <td>ENKESHAFI</td>\n",
       "      <td>ARDALAN</td>\n",
       "      <td>M</td>\n",
       "      <td>Individual</td>\n",
       "      <td>900 SETON DR</td>\n",
       "      <td>NaN</td>\n",
       "      <td>CUMBERLAND</td>\n",
       "      <td>215021854</td>\n",
       "      <td>MD</td>\n",
       "      <td>US</td>\n",
       "      <td>Internal Medicine</td>\n",
       "      <td>Y</td>\n",
       "      <td>F</td>\n",
       "      <td>99221</td>\n",
       "      <td>Initial hospital inpatient care, typically 30 ...</td>\n",
       "      <td>N</td>\n",
       "      <td>20</td>\n",
       "      <td>20</td>\n",
       "      <td>100.750</td>\n",
       "      <td>460.000</td>\n",
       "      <td>78.990</td>\n",
       "      <td>2016</td>\n",
       "      <td>900 SETON DR, , CUMBERLAND, MD 215021854</td>\n",
       "      <td>ARDALAN ENKESHAFI</td>\n",
       "      <td>21.760</td>\n",
       "    </tr>\n",
       "    <tr>\n",
       "      <th>5</th>\n",
       "      <td>1003000126</td>\n",
       "      <td>ENKESHAFI</td>\n",
       "      <td>ARDALAN</td>\n",
       "      <td>M</td>\n",
       "      <td>Individual</td>\n",
       "      <td>900 SETON DR</td>\n",
       "      <td>NaN</td>\n",
       "      <td>CUMBERLAND</td>\n",
       "      <td>215021854</td>\n",
       "      <td>MD</td>\n",
       "      <td>US</td>\n",
       "      <td>Internal Medicine</td>\n",
       "      <td>Y</td>\n",
       "      <td>F</td>\n",
       "      <td>99222</td>\n",
       "      <td>Initial hospital inpatient care, typically 50 ...</td>\n",
       "      <td>N</td>\n",
       "      <td>87</td>\n",
       "      <td>96</td>\n",
       "      <td>136.250</td>\n",
       "      <td>625.000</td>\n",
       "      <td>105.478</td>\n",
       "      <td>2016</td>\n",
       "      <td>900 SETON DR, , CUMBERLAND, MD 215021854</td>\n",
       "      <td>ARDALAN ENKESHAFI</td>\n",
       "      <td>30.772</td>\n",
       "    </tr>\n",
       "  </tbody>\n",
       "</table>\n",
       "</div>"
      ],
      "text/plain": [
       "          npi provider_last_name provider_first_name gender entity_type  \\\n",
       "1  1003000126          ENKESHAFI             ARDALAN      M  Individual   \n",
       "2  1003000126          ENKESHAFI             ARDALAN      M  Individual   \n",
       "3  1003000126          ENKESHAFI             ARDALAN      M  Individual   \n",
       "4  1003000126          ENKESHAFI             ARDALAN      M  Individual   \n",
       "5  1003000126          ENKESHAFI             ARDALAN      M  Individual   \n",
       "\n",
       "   addressline1 addressline2        city postal_code state country  \\\n",
       "1  900 SETON DR          NaN  CUMBERLAND   215021854    MD      US   \n",
       "2  900 SETON DR          NaN  CUMBERLAND   215021854    MD      US   \n",
       "3  900 SETON DR          NaN  CUMBERLAND   215021854    MD      US   \n",
       "4  900 SETON DR          NaN  CUMBERLAND   215021854    MD      US   \n",
       "5  900 SETON DR          NaN  CUMBERLAND   215021854    MD      US   \n",
       "\n",
       "       provider_type medicare_participation_indicator place_of_service  \\\n",
       "1  Internal Medicine                                Y                F   \n",
       "2  Internal Medicine                                Y                F   \n",
       "3  Internal Medicine                                Y                F   \n",
       "4  Internal Medicine                                Y                F   \n",
       "5  Internal Medicine                                Y                F   \n",
       "\n",
       "  hcpcs_code                                  hcpcs_description  \\\n",
       "1      99217                Hospital observation care discharge   \n",
       "2      99219     Hospital observation care typically 50 minutes   \n",
       "3      99220  Hospital observation care typically 70 minutes...   \n",
       "4      99221  Initial hospital inpatient care, typically 30 ...   \n",
       "5      99222  Initial hospital inpatient care, typically 50 ...   \n",
       "\n",
       "  hcpcs_drug_indicator  bene_unique_cnt  bene_day_srvc_cnt  \\\n",
       "1                    N               55                 57   \n",
       "2                    N               38                 38   \n",
       "3                    N               23                 23   \n",
       "4                    N               20                 20   \n",
       "5                    N               87                 96   \n",
       "\n",
       "   avg_medicare_allowed_amt  avg_submitted_chrg_amt  avg_medicare_payment_amt  \\\n",
       "1                    72.743                 325.158                    54.474   \n",
       "2                   135.010                 614.000                   105.850   \n",
       "3                   189.240                 769.348                   146.117   \n",
       "4                   100.750                 460.000                    78.990   \n",
       "5                   136.250                 625.000                   105.478   \n",
       "\n",
       "   year                              full_address      provider_name  \\\n",
       "1  2016  900 SETON DR, , CUMBERLAND, MD 215021854  ARDALAN ENKESHAFI   \n",
       "2  2016  900 SETON DR, , CUMBERLAND, MD 215021854  ARDALAN ENKESHAFI   \n",
       "3  2016  900 SETON DR, , CUMBERLAND, MD 215021854  ARDALAN ENKESHAFI   \n",
       "4  2016  900 SETON DR, , CUMBERLAND, MD 215021854  ARDALAN ENKESHAFI   \n",
       "5  2016  900 SETON DR, , CUMBERLAND, MD 215021854  ARDALAN ENKESHAFI   \n",
       "\n",
       "   outofpocket_insurance  \n",
       "1                 18.269  \n",
       "2                 29.160  \n",
       "3                 43.123  \n",
       "4                 21.760  \n",
       "5                 30.772  "
      ]
     },
     "execution_count": 43,
     "metadata": {},
     "output_type": "execute_result"
    }
   ],
   "source": [
    "df_combined.head()"
   ]
  },
  {
   "cell_type": "markdown",
   "metadata": {},
   "source": [
    "#### Drop Columns\n",
    "Now that we have created a full name column, we will drop the first and last name columns"
   ]
  },
  {
   "cell_type": "code",
   "execution_count": 44,
   "metadata": {},
   "outputs": [],
   "source": [
    "df_combined = df_combined.drop(['provider_last_name','provider_first_name'], axis=1)"
   ]
  },
  {
   "cell_type": "code",
   "execution_count": 45,
   "metadata": {},
   "outputs": [
    {
     "data": {
      "text/html": [
       "<div>\n",
       "<style scoped>\n",
       "    .dataframe tbody tr th:only-of-type {\n",
       "        vertical-align: middle;\n",
       "    }\n",
       "\n",
       "    .dataframe tbody tr th {\n",
       "        vertical-align: top;\n",
       "    }\n",
       "\n",
       "    .dataframe thead th {\n",
       "        text-align: right;\n",
       "    }\n",
       "</style>\n",
       "<table border=\"1\" class=\"dataframe\">\n",
       "  <thead>\n",
       "    <tr style=\"text-align: right;\">\n",
       "      <th></th>\n",
       "      <th>npi</th>\n",
       "      <th>gender</th>\n",
       "      <th>entity_type</th>\n",
       "      <th>addressline1</th>\n",
       "      <th>addressline2</th>\n",
       "      <th>city</th>\n",
       "      <th>postal_code</th>\n",
       "      <th>state</th>\n",
       "      <th>country</th>\n",
       "      <th>provider_type</th>\n",
       "      <th>medicare_participation_indicator</th>\n",
       "      <th>place_of_service</th>\n",
       "      <th>hcpcs_code</th>\n",
       "      <th>hcpcs_description</th>\n",
       "      <th>hcpcs_drug_indicator</th>\n",
       "      <th>bene_unique_cnt</th>\n",
       "      <th>bene_day_srvc_cnt</th>\n",
       "      <th>avg_medicare_allowed_amt</th>\n",
       "      <th>avg_submitted_chrg_amt</th>\n",
       "      <th>avg_medicare_payment_amt</th>\n",
       "      <th>year</th>\n",
       "      <th>full_address</th>\n",
       "      <th>provider_name</th>\n",
       "      <th>outofpocket_insurance</th>\n",
       "    </tr>\n",
       "  </thead>\n",
       "  <tbody>\n",
       "    <tr>\n",
       "      <th>1</th>\n",
       "      <td>1003000126</td>\n",
       "      <td>M</td>\n",
       "      <td>Individual</td>\n",
       "      <td>900 SETON DR</td>\n",
       "      <td>NaN</td>\n",
       "      <td>CUMBERLAND</td>\n",
       "      <td>215021854</td>\n",
       "      <td>MD</td>\n",
       "      <td>US</td>\n",
       "      <td>Internal Medicine</td>\n",
       "      <td>Y</td>\n",
       "      <td>F</td>\n",
       "      <td>99217</td>\n",
       "      <td>Hospital observation care discharge</td>\n",
       "      <td>N</td>\n",
       "      <td>55</td>\n",
       "      <td>57</td>\n",
       "      <td>72.743</td>\n",
       "      <td>325.158</td>\n",
       "      <td>54.474</td>\n",
       "      <td>2016</td>\n",
       "      <td>900 SETON DR, , CUMBERLAND, MD 215021854</td>\n",
       "      <td>ARDALAN ENKESHAFI</td>\n",
       "      <td>18.269</td>\n",
       "    </tr>\n",
       "    <tr>\n",
       "      <th>2</th>\n",
       "      <td>1003000126</td>\n",
       "      <td>M</td>\n",
       "      <td>Individual</td>\n",
       "      <td>900 SETON DR</td>\n",
       "      <td>NaN</td>\n",
       "      <td>CUMBERLAND</td>\n",
       "      <td>215021854</td>\n",
       "      <td>MD</td>\n",
       "      <td>US</td>\n",
       "      <td>Internal Medicine</td>\n",
       "      <td>Y</td>\n",
       "      <td>F</td>\n",
       "      <td>99219</td>\n",
       "      <td>Hospital observation care typically 50 minutes</td>\n",
       "      <td>N</td>\n",
       "      <td>38</td>\n",
       "      <td>38</td>\n",
       "      <td>135.010</td>\n",
       "      <td>614.000</td>\n",
       "      <td>105.850</td>\n",
       "      <td>2016</td>\n",
       "      <td>900 SETON DR, , CUMBERLAND, MD 215021854</td>\n",
       "      <td>ARDALAN ENKESHAFI</td>\n",
       "      <td>29.160</td>\n",
       "    </tr>\n",
       "    <tr>\n",
       "      <th>3</th>\n",
       "      <td>1003000126</td>\n",
       "      <td>M</td>\n",
       "      <td>Individual</td>\n",
       "      <td>900 SETON DR</td>\n",
       "      <td>NaN</td>\n",
       "      <td>CUMBERLAND</td>\n",
       "      <td>215021854</td>\n",
       "      <td>MD</td>\n",
       "      <td>US</td>\n",
       "      <td>Internal Medicine</td>\n",
       "      <td>Y</td>\n",
       "      <td>F</td>\n",
       "      <td>99220</td>\n",
       "      <td>Hospital observation care typically 70 minutes...</td>\n",
       "      <td>N</td>\n",
       "      <td>23</td>\n",
       "      <td>23</td>\n",
       "      <td>189.240</td>\n",
       "      <td>769.348</td>\n",
       "      <td>146.117</td>\n",
       "      <td>2016</td>\n",
       "      <td>900 SETON DR, , CUMBERLAND, MD 215021854</td>\n",
       "      <td>ARDALAN ENKESHAFI</td>\n",
       "      <td>43.123</td>\n",
       "    </tr>\n",
       "    <tr>\n",
       "      <th>4</th>\n",
       "      <td>1003000126</td>\n",
       "      <td>M</td>\n",
       "      <td>Individual</td>\n",
       "      <td>900 SETON DR</td>\n",
       "      <td>NaN</td>\n",
       "      <td>CUMBERLAND</td>\n",
       "      <td>215021854</td>\n",
       "      <td>MD</td>\n",
       "      <td>US</td>\n",
       "      <td>Internal Medicine</td>\n",
       "      <td>Y</td>\n",
       "      <td>F</td>\n",
       "      <td>99221</td>\n",
       "      <td>Initial hospital inpatient care, typically 30 ...</td>\n",
       "      <td>N</td>\n",
       "      <td>20</td>\n",
       "      <td>20</td>\n",
       "      <td>100.750</td>\n",
       "      <td>460.000</td>\n",
       "      <td>78.990</td>\n",
       "      <td>2016</td>\n",
       "      <td>900 SETON DR, , CUMBERLAND, MD 215021854</td>\n",
       "      <td>ARDALAN ENKESHAFI</td>\n",
       "      <td>21.760</td>\n",
       "    </tr>\n",
       "    <tr>\n",
       "      <th>5</th>\n",
       "      <td>1003000126</td>\n",
       "      <td>M</td>\n",
       "      <td>Individual</td>\n",
       "      <td>900 SETON DR</td>\n",
       "      <td>NaN</td>\n",
       "      <td>CUMBERLAND</td>\n",
       "      <td>215021854</td>\n",
       "      <td>MD</td>\n",
       "      <td>US</td>\n",
       "      <td>Internal Medicine</td>\n",
       "      <td>Y</td>\n",
       "      <td>F</td>\n",
       "      <td>99222</td>\n",
       "      <td>Initial hospital inpatient care, typically 50 ...</td>\n",
       "      <td>N</td>\n",
       "      <td>87</td>\n",
       "      <td>96</td>\n",
       "      <td>136.250</td>\n",
       "      <td>625.000</td>\n",
       "      <td>105.478</td>\n",
       "      <td>2016</td>\n",
       "      <td>900 SETON DR, , CUMBERLAND, MD 215021854</td>\n",
       "      <td>ARDALAN ENKESHAFI</td>\n",
       "      <td>30.772</td>\n",
       "    </tr>\n",
       "  </tbody>\n",
       "</table>\n",
       "</div>"
      ],
      "text/plain": [
       "          npi gender entity_type  addressline1 addressline2        city  \\\n",
       "1  1003000126      M  Individual  900 SETON DR          NaN  CUMBERLAND   \n",
       "2  1003000126      M  Individual  900 SETON DR          NaN  CUMBERLAND   \n",
       "3  1003000126      M  Individual  900 SETON DR          NaN  CUMBERLAND   \n",
       "4  1003000126      M  Individual  900 SETON DR          NaN  CUMBERLAND   \n",
       "5  1003000126      M  Individual  900 SETON DR          NaN  CUMBERLAND   \n",
       "\n",
       "  postal_code state country      provider_type  \\\n",
       "1   215021854    MD      US  Internal Medicine   \n",
       "2   215021854    MD      US  Internal Medicine   \n",
       "3   215021854    MD      US  Internal Medicine   \n",
       "4   215021854    MD      US  Internal Medicine   \n",
       "5   215021854    MD      US  Internal Medicine   \n",
       "\n",
       "  medicare_participation_indicator place_of_service hcpcs_code  \\\n",
       "1                                Y                F      99217   \n",
       "2                                Y                F      99219   \n",
       "3                                Y                F      99220   \n",
       "4                                Y                F      99221   \n",
       "5                                Y                F      99222   \n",
       "\n",
       "                                   hcpcs_description hcpcs_drug_indicator  \\\n",
       "1                Hospital observation care discharge                    N   \n",
       "2     Hospital observation care typically 50 minutes                    N   \n",
       "3  Hospital observation care typically 70 minutes...                    N   \n",
       "4  Initial hospital inpatient care, typically 30 ...                    N   \n",
       "5  Initial hospital inpatient care, typically 50 ...                    N   \n",
       "\n",
       "   bene_unique_cnt  bene_day_srvc_cnt  avg_medicare_allowed_amt  \\\n",
       "1               55                 57                    72.743   \n",
       "2               38                 38                   135.010   \n",
       "3               23                 23                   189.240   \n",
       "4               20                 20                   100.750   \n",
       "5               87                 96                   136.250   \n",
       "\n",
       "   avg_submitted_chrg_amt  avg_medicare_payment_amt  year  \\\n",
       "1                 325.158                    54.474  2016   \n",
       "2                 614.000                   105.850  2016   \n",
       "3                 769.348                   146.117  2016   \n",
       "4                 460.000                    78.990  2016   \n",
       "5                 625.000                   105.478  2016   \n",
       "\n",
       "                               full_address      provider_name  \\\n",
       "1  900 SETON DR, , CUMBERLAND, MD 215021854  ARDALAN ENKESHAFI   \n",
       "2  900 SETON DR, , CUMBERLAND, MD 215021854  ARDALAN ENKESHAFI   \n",
       "3  900 SETON DR, , CUMBERLAND, MD 215021854  ARDALAN ENKESHAFI   \n",
       "4  900 SETON DR, , CUMBERLAND, MD 215021854  ARDALAN ENKESHAFI   \n",
       "5  900 SETON DR, , CUMBERLAND, MD 215021854  ARDALAN ENKESHAFI   \n",
       "\n",
       "   outofpocket_insurance  \n",
       "1                 18.269  \n",
       "2                 29.160  \n",
       "3                 43.123  \n",
       "4                 21.760  \n",
       "5                 30.772  "
      ]
     },
     "execution_count": 45,
     "metadata": {},
     "output_type": "execute_result"
    }
   ],
   "source": [
    "df_combined.head()"
   ]
  },
  {
   "cell_type": "markdown",
   "metadata": {},
   "source": [
    "### Compute and Explore"
   ]
  },
  {
   "cell_type": "code",
   "execution_count": 46,
   "metadata": {},
   "outputs": [],
   "source": [
    "# Select data for US only\n",
    "df_combined = df_combined[df_combined['country']=='US']"
   ]
  },
  {
   "cell_type": "code",
   "execution_count": 47,
   "metadata": {},
   "outputs": [
    {
     "name": "stdout",
     "output_type": "stream",
     "text": [
      "Wall time: 9min 45s\n"
     ]
    }
   ],
   "source": [
    "# Compute the dask dataframe\n",
    "%time medicare_clean = df_combined.compute()"
   ]
  },
  {
   "cell_type": "code",
   "execution_count": 48,
   "metadata": {},
   "outputs": [
    {
     "data": {
      "text/plain": [
       "(46968095, 24)"
      ]
     },
     "execution_count": 48,
     "metadata": {},
     "output_type": "execute_result"
    }
   ],
   "source": [
    "# Check the shape of cleaned dataframe\n",
    "medicare_clean.shape"
   ]
  },
  {
   "cell_type": "markdown",
   "metadata": {},
   "source": [
    "We can see that the dataframe ~ 47M records with 24 attributes"
   ]
  },
  {
   "cell_type": "code",
   "execution_count": 49,
   "metadata": {},
   "outputs": [
    {
     "data": {
      "text/html": [
       "<div>\n",
       "<style scoped>\n",
       "    .dataframe tbody tr th:only-of-type {\n",
       "        vertical-align: middle;\n",
       "    }\n",
       "\n",
       "    .dataframe tbody tr th {\n",
       "        vertical-align: top;\n",
       "    }\n",
       "\n",
       "    .dataframe thead th {\n",
       "        text-align: right;\n",
       "    }\n",
       "</style>\n",
       "<table border=\"1\" class=\"dataframe\">\n",
       "  <thead>\n",
       "    <tr style=\"text-align: right;\">\n",
       "      <th></th>\n",
       "      <th>npi</th>\n",
       "      <th>gender</th>\n",
       "      <th>entity_type</th>\n",
       "      <th>addressline1</th>\n",
       "      <th>addressline2</th>\n",
       "      <th>city</th>\n",
       "      <th>postal_code</th>\n",
       "      <th>state</th>\n",
       "      <th>country</th>\n",
       "      <th>provider_type</th>\n",
       "      <th>medicare_participation_indicator</th>\n",
       "      <th>place_of_service</th>\n",
       "      <th>hcpcs_code</th>\n",
       "      <th>hcpcs_description</th>\n",
       "      <th>hcpcs_drug_indicator</th>\n",
       "      <th>bene_unique_cnt</th>\n",
       "      <th>bene_day_srvc_cnt</th>\n",
       "      <th>avg_medicare_allowed_amt</th>\n",
       "      <th>avg_submitted_chrg_amt</th>\n",
       "      <th>avg_medicare_payment_amt</th>\n",
       "      <th>year</th>\n",
       "      <th>full_address</th>\n",
       "      <th>provider_name</th>\n",
       "      <th>outofpocket_insurance</th>\n",
       "    </tr>\n",
       "  </thead>\n",
       "  <tbody>\n",
       "    <tr>\n",
       "      <th>1</th>\n",
       "      <td>1003000126</td>\n",
       "      <td>M</td>\n",
       "      <td>Individual</td>\n",
       "      <td>900 SETON DR</td>\n",
       "      <td>NaN</td>\n",
       "      <td>CUMBERLAND</td>\n",
       "      <td>215021854</td>\n",
       "      <td>MD</td>\n",
       "      <td>US</td>\n",
       "      <td>Internal Medicine</td>\n",
       "      <td>Y</td>\n",
       "      <td>F</td>\n",
       "      <td>99217</td>\n",
       "      <td>Hospital observation care discharge</td>\n",
       "      <td>N</td>\n",
       "      <td>55</td>\n",
       "      <td>57</td>\n",
       "      <td>72.743</td>\n",
       "      <td>325.158</td>\n",
       "      <td>54.474</td>\n",
       "      <td>2016</td>\n",
       "      <td>900 SETON DR, , CUMBERLAND, MD 215021854</td>\n",
       "      <td>ARDALAN ENKESHAFI</td>\n",
       "      <td>18.269</td>\n",
       "    </tr>\n",
       "    <tr>\n",
       "      <th>2</th>\n",
       "      <td>1003000126</td>\n",
       "      <td>M</td>\n",
       "      <td>Individual</td>\n",
       "      <td>900 SETON DR</td>\n",
       "      <td>NaN</td>\n",
       "      <td>CUMBERLAND</td>\n",
       "      <td>215021854</td>\n",
       "      <td>MD</td>\n",
       "      <td>US</td>\n",
       "      <td>Internal Medicine</td>\n",
       "      <td>Y</td>\n",
       "      <td>F</td>\n",
       "      <td>99219</td>\n",
       "      <td>Hospital observation care typically 50 minutes</td>\n",
       "      <td>N</td>\n",
       "      <td>38</td>\n",
       "      <td>38</td>\n",
       "      <td>135.010</td>\n",
       "      <td>614.000</td>\n",
       "      <td>105.850</td>\n",
       "      <td>2016</td>\n",
       "      <td>900 SETON DR, , CUMBERLAND, MD 215021854</td>\n",
       "      <td>ARDALAN ENKESHAFI</td>\n",
       "      <td>29.160</td>\n",
       "    </tr>\n",
       "    <tr>\n",
       "      <th>3</th>\n",
       "      <td>1003000126</td>\n",
       "      <td>M</td>\n",
       "      <td>Individual</td>\n",
       "      <td>900 SETON DR</td>\n",
       "      <td>NaN</td>\n",
       "      <td>CUMBERLAND</td>\n",
       "      <td>215021854</td>\n",
       "      <td>MD</td>\n",
       "      <td>US</td>\n",
       "      <td>Internal Medicine</td>\n",
       "      <td>Y</td>\n",
       "      <td>F</td>\n",
       "      <td>99220</td>\n",
       "      <td>Hospital observation care typically 70 minutes...</td>\n",
       "      <td>N</td>\n",
       "      <td>23</td>\n",
       "      <td>23</td>\n",
       "      <td>189.240</td>\n",
       "      <td>769.348</td>\n",
       "      <td>146.117</td>\n",
       "      <td>2016</td>\n",
       "      <td>900 SETON DR, , CUMBERLAND, MD 215021854</td>\n",
       "      <td>ARDALAN ENKESHAFI</td>\n",
       "      <td>43.123</td>\n",
       "    </tr>\n",
       "    <tr>\n",
       "      <th>4</th>\n",
       "      <td>1003000126</td>\n",
       "      <td>M</td>\n",
       "      <td>Individual</td>\n",
       "      <td>900 SETON DR</td>\n",
       "      <td>NaN</td>\n",
       "      <td>CUMBERLAND</td>\n",
       "      <td>215021854</td>\n",
       "      <td>MD</td>\n",
       "      <td>US</td>\n",
       "      <td>Internal Medicine</td>\n",
       "      <td>Y</td>\n",
       "      <td>F</td>\n",
       "      <td>99221</td>\n",
       "      <td>Initial hospital inpatient care, typically 30 ...</td>\n",
       "      <td>N</td>\n",
       "      <td>20</td>\n",
       "      <td>20</td>\n",
       "      <td>100.750</td>\n",
       "      <td>460.000</td>\n",
       "      <td>78.990</td>\n",
       "      <td>2016</td>\n",
       "      <td>900 SETON DR, , CUMBERLAND, MD 215021854</td>\n",
       "      <td>ARDALAN ENKESHAFI</td>\n",
       "      <td>21.760</td>\n",
       "    </tr>\n",
       "    <tr>\n",
       "      <th>5</th>\n",
       "      <td>1003000126</td>\n",
       "      <td>M</td>\n",
       "      <td>Individual</td>\n",
       "      <td>900 SETON DR</td>\n",
       "      <td>NaN</td>\n",
       "      <td>CUMBERLAND</td>\n",
       "      <td>215021854</td>\n",
       "      <td>MD</td>\n",
       "      <td>US</td>\n",
       "      <td>Internal Medicine</td>\n",
       "      <td>Y</td>\n",
       "      <td>F</td>\n",
       "      <td>99222</td>\n",
       "      <td>Initial hospital inpatient care, typically 50 ...</td>\n",
       "      <td>N</td>\n",
       "      <td>87</td>\n",
       "      <td>96</td>\n",
       "      <td>136.250</td>\n",
       "      <td>625.000</td>\n",
       "      <td>105.478</td>\n",
       "      <td>2016</td>\n",
       "      <td>900 SETON DR, , CUMBERLAND, MD 215021854</td>\n",
       "      <td>ARDALAN ENKESHAFI</td>\n",
       "      <td>30.772</td>\n",
       "    </tr>\n",
       "  </tbody>\n",
       "</table>\n",
       "</div>"
      ],
      "text/plain": [
       "          npi gender entity_type  addressline1 addressline2        city  \\\n",
       "1  1003000126      M  Individual  900 SETON DR          NaN  CUMBERLAND   \n",
       "2  1003000126      M  Individual  900 SETON DR          NaN  CUMBERLAND   \n",
       "3  1003000126      M  Individual  900 SETON DR          NaN  CUMBERLAND   \n",
       "4  1003000126      M  Individual  900 SETON DR          NaN  CUMBERLAND   \n",
       "5  1003000126      M  Individual  900 SETON DR          NaN  CUMBERLAND   \n",
       "\n",
       "  postal_code state country      provider_type  \\\n",
       "1   215021854    MD      US  Internal Medicine   \n",
       "2   215021854    MD      US  Internal Medicine   \n",
       "3   215021854    MD      US  Internal Medicine   \n",
       "4   215021854    MD      US  Internal Medicine   \n",
       "5   215021854    MD      US  Internal Medicine   \n",
       "\n",
       "  medicare_participation_indicator place_of_service hcpcs_code  \\\n",
       "1                                Y                F      99217   \n",
       "2                                Y                F      99219   \n",
       "3                                Y                F      99220   \n",
       "4                                Y                F      99221   \n",
       "5                                Y                F      99222   \n",
       "\n",
       "                                   hcpcs_description hcpcs_drug_indicator  \\\n",
       "1                Hospital observation care discharge                    N   \n",
       "2     Hospital observation care typically 50 minutes                    N   \n",
       "3  Hospital observation care typically 70 minutes...                    N   \n",
       "4  Initial hospital inpatient care, typically 30 ...                    N   \n",
       "5  Initial hospital inpatient care, typically 50 ...                    N   \n",
       "\n",
       "   bene_unique_cnt  bene_day_srvc_cnt  avg_medicare_allowed_amt  \\\n",
       "1               55                 57                    72.743   \n",
       "2               38                 38                   135.010   \n",
       "3               23                 23                   189.240   \n",
       "4               20                 20                   100.750   \n",
       "5               87                 96                   136.250   \n",
       "\n",
       "   avg_submitted_chrg_amt  avg_medicare_payment_amt  year  \\\n",
       "1                 325.158                    54.474  2016   \n",
       "2                 614.000                   105.850  2016   \n",
       "3                 769.348                   146.117  2016   \n",
       "4                 460.000                    78.990  2016   \n",
       "5                 625.000                   105.478  2016   \n",
       "\n",
       "                               full_address      provider_name  \\\n",
       "1  900 SETON DR, , CUMBERLAND, MD 215021854  ARDALAN ENKESHAFI   \n",
       "2  900 SETON DR, , CUMBERLAND, MD 215021854  ARDALAN ENKESHAFI   \n",
       "3  900 SETON DR, , CUMBERLAND, MD 215021854  ARDALAN ENKESHAFI   \n",
       "4  900 SETON DR, , CUMBERLAND, MD 215021854  ARDALAN ENKESHAFI   \n",
       "5  900 SETON DR, , CUMBERLAND, MD 215021854  ARDALAN ENKESHAFI   \n",
       "\n",
       "   outofpocket_insurance  \n",
       "1                 18.269  \n",
       "2                 29.160  \n",
       "3                 43.123  \n",
       "4                 21.760  \n",
       "5                 30.772  "
      ]
     },
     "execution_count": 49,
     "metadata": {},
     "output_type": "execute_result"
    }
   ],
   "source": [
    "medicare_clean.head()"
   ]
  },
  {
   "cell_type": "code",
   "execution_count": 52,
   "metadata": {},
   "outputs": [
    {
     "name": "stdout",
     "output_type": "stream",
     "text": [
      "<class 'pandas.core.frame.DataFrame'>\n",
      "Int64Index: 46968095 entries, 1 to 141071\n",
      "Data columns (total 24 columns):\n",
      "npi                                 object\n",
      "gender                              object\n",
      "entity_type                         object\n",
      "addressline1                        object\n",
      "addressline2                        object\n",
      "city                                object\n",
      "postal_code                         object\n",
      "state                               object\n",
      "country                             object\n",
      "provider_type                       object\n",
      "medicare_participation_indicator    object\n",
      "place_of_service                    object\n",
      "hcpcs_code                          object\n",
      "hcpcs_description                   object\n",
      "hcpcs_drug_indicator                object\n",
      "bene_unique_cnt                     int32\n",
      "bene_day_srvc_cnt                   int32\n",
      "avg_medicare_allowed_amt            float64\n",
      "avg_submitted_chrg_amt              float64\n",
      "avg_medicare_payment_amt            float64\n",
      "year                                int64\n",
      "full_address                        object\n",
      "provider_name                       object\n",
      "outofpocket_insurance               float64\n",
      "dtypes: float64(4), int32(2), int64(1), object(17)\n",
      "memory usage: 54.2 GB\n",
      "Wall time: 6min 41s\n"
     ]
    }
   ],
   "source": [
    "# Check memory usage\n",
    "%time medicare_clean.info(memory_usage='deep')"
   ]
  },
  {
   "cell_type": "code",
   "execution_count": 53,
   "metadata": {},
   "outputs": [
    {
     "data": {
      "text/plain": [
       "npi                                        0\n",
       "gender                               2036334\n",
       "entity_type                                0\n",
       "addressline1                               3\n",
       "addressline2                        26192214\n",
       "city                                       3\n",
       "postal_code                                0\n",
       "state                                      0\n",
       "country                                    0\n",
       "provider_type                              0\n",
       "medicare_participation_indicator           0\n",
       "place_of_service                           0\n",
       "hcpcs_code                                 0\n",
       "hcpcs_description                          0\n",
       "hcpcs_drug_indicator                       0\n",
       "bene_unique_cnt                            0\n",
       "bene_day_srvc_cnt                          0\n",
       "avg_medicare_allowed_amt                   0\n",
       "avg_submitted_chrg_amt                     0\n",
       "avg_medicare_payment_amt                   0\n",
       "year                                       0\n",
       "full_address                               3\n",
       "provider_name                              0\n",
       "outofpocket_insurance                      0\n",
       "dtype: int64"
      ]
     },
     "execution_count": 53,
     "metadata": {},
     "output_type": "execute_result"
    }
   ],
   "source": [
    "# Check Null Values\n",
    "medicare_clean.isnull().sum()"
   ]
  },
  {
   "cell_type": "code",
   "execution_count": 54,
   "metadata": {},
   "outputs": [
    {
     "data": {
      "text/plain": [
       "<matplotlib.axes._subplots.AxesSubplot at 0x225edf532e8>"
      ]
     },
     "execution_count": 54,
     "metadata": {},
     "output_type": "execute_result"
    },
    {
     "data": {
      "image/png": "[encoded data removed]",
      "text/plain": [
       "<Figure size 1800x720 with 2 Axes>"
      ]
     },
     "metadata": {
      "needs_background": "light"
     },
     "output_type": "display_data"
    }
   ],
   "source": [
    "%time msno.matrix(medicare_clean)"
   ]
  },
  {
   "cell_type": "code",
   "execution_count": 56,
   "metadata": {},
   "outputs": [
    {
     "data": {
      "text/html": [
       "<div>\n",
       "<style scoped>\n",
       "    .dataframe tbody tr th:only-of-type {\n",
       "        vertical-align: middle;\n",
       "    }\n",
       "\n",
       "    .dataframe tbody tr th {\n",
       "        vertical-align: top;\n",
       "    }\n",
       "\n",
       "    .dataframe thead th {\n",
       "        text-align: right;\n",
       "    }\n",
       "</style>\n",
       "<table border=\"1\" class=\"dataframe\">\n",
       "  <thead>\n",
       "    <tr style=\"text-align: right;\">\n",
       "      <th></th>\n",
       "      <th>npi</th>\n",
       "      <th>gender</th>\n",
       "      <th>entity_type</th>\n",
       "      <th>addressline1</th>\n",
       "      <th>addressline2</th>\n",
       "      <th>city</th>\n",
       "      <th>postal_code</th>\n",
       "      <th>state</th>\n",
       "      <th>country</th>\n",
       "      <th>provider_type</th>\n",
       "      <th>medicare_participation_indicator</th>\n",
       "      <th>place_of_service</th>\n",
       "      <th>hcpcs_code</th>\n",
       "      <th>hcpcs_description</th>\n",
       "      <th>hcpcs_drug_indicator</th>\n",
       "      <th>bene_unique_cnt</th>\n",
       "      <th>bene_day_srvc_cnt</th>\n",
       "      <th>avg_medicare_allowed_amt</th>\n",
       "      <th>avg_submitted_chrg_amt</th>\n",
       "      <th>avg_medicare_payment_amt</th>\n",
       "      <th>year</th>\n",
       "      <th>full_address</th>\n",
       "      <th>provider_name</th>\n",
       "      <th>outofpocket_insurance</th>\n",
       "    </tr>\n",
       "  </thead>\n",
       "  <tbody>\n",
       "    <tr>\n",
       "      <th>115451</th>\n",
       "      <td>1316958416</td>\n",
       "      <td>F</td>\n",
       "      <td>Individual</td>\n",
       "      <td>NaN</td>\n",
       "      <td>NaN</td>\n",
       "      <td>NaN</td>\n",
       "      <td>00000</td>\n",
       "      <td>XX</td>\n",
       "      <td>US</td>\n",
       "      <td>CRNA</td>\n",
       "      <td>Y</td>\n",
       "      <td>F</td>\n",
       "      <td>00740</td>\n",
       "      <td>Anesthesia for procedure on gastrointestinal t...</td>\n",
       "      <td>N</td>\n",
       "      <td>12</td>\n",
       "      <td>12</td>\n",
       "      <td>108.463</td>\n",
       "      <td>637.500</td>\n",
       "      <td>85.035</td>\n",
       "      <td>2014</td>\n",
       "      <td>NaN</td>\n",
       "      <td>PRISCILLA PATTERSON</td>\n",
       "      <td>23.428</td>\n",
       "    </tr>\n",
       "    <tr>\n",
       "      <th>115452</th>\n",
       "      <td>1316958416</td>\n",
       "      <td>F</td>\n",
       "      <td>Individual</td>\n",
       "      <td>NaN</td>\n",
       "      <td>NaN</td>\n",
       "      <td>NaN</td>\n",
       "      <td>00000</td>\n",
       "      <td>XX</td>\n",
       "      <td>US</td>\n",
       "      <td>CRNA</td>\n",
       "      <td>Y</td>\n",
       "      <td>F</td>\n",
       "      <td>00810</td>\n",
       "      <td>Anesthesia for procedure on lower intestine us...</td>\n",
       "      <td>N</td>\n",
       "      <td>14</td>\n",
       "      <td>14</td>\n",
       "      <td>139.114</td>\n",
       "      <td>735.714</td>\n",
       "      <td>109.065</td>\n",
       "      <td>2014</td>\n",
       "      <td>NaN</td>\n",
       "      <td>PRISCILLA PATTERSON</td>\n",
       "      <td>30.049</td>\n",
       "    </tr>\n",
       "    <tr>\n",
       "      <th>1097</th>\n",
       "      <td>1316958416</td>\n",
       "      <td>F</td>\n",
       "      <td>Individual</td>\n",
       "      <td>NaN</td>\n",
       "      <td>NaN</td>\n",
       "      <td>NaN</td>\n",
       "      <td>00000</td>\n",
       "      <td>XX</td>\n",
       "      <td>US</td>\n",
       "      <td>CRNA</td>\n",
       "      <td>Y</td>\n",
       "      <td>F</td>\n",
       "      <td>00142</td>\n",
       "      <td>Anesthesia for lens surgery</td>\n",
       "      <td>N</td>\n",
       "      <td>22</td>\n",
       "      <td>24</td>\n",
       "      <td>147.741</td>\n",
       "      <td>857.917</td>\n",
       "      <td>107.118</td>\n",
       "      <td>2013</td>\n",
       "      <td>NaN</td>\n",
       "      <td>PRISCILLA PATTERSON</td>\n",
       "      <td>40.623</td>\n",
       "    </tr>\n",
       "  </tbody>\n",
       "</table>\n",
       "</div>"
      ],
      "text/plain": [
       "               npi gender entity_type addressline1 addressline2 city  \\\n",
       "115451  1316958416      F  Individual          NaN          NaN  NaN   \n",
       "115452  1316958416      F  Individual          NaN          NaN  NaN   \n",
       "1097    1316958416      F  Individual          NaN          NaN  NaN   \n",
       "\n",
       "       postal_code state country provider_type  \\\n",
       "115451       00000    XX      US          CRNA   \n",
       "115452       00000    XX      US          CRNA   \n",
       "1097         00000    XX      US          CRNA   \n",
       "\n",
       "       medicare_participation_indicator place_of_service hcpcs_code  \\\n",
       "115451                                Y                F      00740   \n",
       "115452                                Y                F      00810   \n",
       "1097                                  Y                F      00142   \n",
       "\n",
       "                                        hcpcs_description  \\\n",
       "115451  Anesthesia for procedure on gastrointestinal t...   \n",
       "115452  Anesthesia for procedure on lower intestine us...   \n",
       "1097                          Anesthesia for lens surgery   \n",
       "\n",
       "       hcpcs_drug_indicator  bene_unique_cnt  bene_day_srvc_cnt  \\\n",
       "115451                    N               12                 12   \n",
       "115452                    N               14                 14   \n",
       "1097                      N               22                 24   \n",
       "\n",
       "        avg_medicare_allowed_amt  avg_submitted_chrg_amt  \\\n",
       "115451                   108.463                 637.500   \n",
       "115452                   139.114                 735.714   \n",
       "1097                     147.741                 857.917   \n",
       "\n",
       "        avg_medicare_payment_amt  year full_address        provider_name  \\\n",
       "115451                    85.035  2014          NaN  PRISCILLA PATTERSON   \n",
       "115452                   109.065  2014          NaN  PRISCILLA PATTERSON   \n",
       "1097                     107.118  2013          NaN  PRISCILLA PATTERSON   \n",
       "\n",
       "        outofpocket_insurance  \n",
       "115451                 23.428  \n",
       "115452                 30.049  \n",
       "1097                   40.623  "
      ]
     },
     "execution_count": 56,
     "metadata": {},
     "output_type": "execute_result"
    }
   ],
   "source": [
    "# Identify null address\n",
    "medicare_clean[medicare_clean['full_address'].isnull()]"
   ]
  },
  {
   "cell_type": "code",
   "execution_count": 50,
   "metadata": {},
   "outputs": [
    {
     "data": {
      "text/plain": [
       "array(['MD', 'IL', 'OH', 'PA', 'CO', 'FL', 'OK', 'CA', 'TX', 'OR', 'KY',\n",
       "       'SC', 'NM', 'MO', 'NY', 'GA', 'MI', 'NJ', 'LA', 'TN', 'MA', 'WA',\n",
       "       'NH', 'MN', 'ME', 'CT', 'DC', 'NC', 'NV', 'HI', 'MS', 'IA', 'VA',\n",
       "       'ND', 'IN', 'NE', 'AZ', 'AL', 'PR', 'DE', 'KS', 'RI', 'WI', 'ID',\n",
       "       'AR', 'MT', 'WV', 'VT', 'AE', 'UT', 'WY', 'SD', 'AK', 'GU', 'VI',\n",
       "       'MP', 'AA', 'AP', 'XX', 'AS'], dtype=object)"
      ]
     },
     "execution_count": 50,
     "metadata": {},
     "output_type": "execute_result"
    }
   ],
   "source": [
    "# Identify Unique States\n",
    "state_list = medicare_clean['state'].unique()\n",
    "state_list"
   ]
  },
  {
   "cell_type": "code",
   "execution_count": 51,
   "metadata": {},
   "outputs": [
    {
     "data": {
      "text/plain": [
       "CA    3645112\n",
       "FL    3448387\n",
       "TX    3205984\n",
       "NY    3000526\n",
       "PA    2087102\n",
       "IL    1937886\n",
       "NC    1731606\n",
       "OH    1725928\n",
       "MI    1683117\n",
       "NJ    1585682\n",
       "GA    1396247\n",
       "MA    1290121\n",
       "TN    1280313\n",
       "VA    1264607\n",
       "IN    1046162\n",
       "MD     990775\n",
       "MO     976749\n",
       "WA     941125\n",
       "WI     911108\n",
       "AZ     897433\n",
       "AL     893610\n",
       "SC     824799\n",
       "KY     760046\n",
       "MN     739404\n",
       "LA     691516\n",
       "CT     646216\n",
       "CO     628249\n",
       "OK     565253\n",
       "IA     535345\n",
       "KS     512168\n",
       "MS     504502\n",
       "AR     501115\n",
       "OR     478301\n",
       "NE     357517\n",
       "NV     331828\n",
       "WV     315079\n",
       "UT     292163\n",
       "NH     242840\n",
       "ME     241480\n",
       "NM     218986\n",
       "ID     192853\n",
       "RI     173786\n",
       "DE     169791\n",
       "SD     167966\n",
       "PR     159040\n",
       "MT     148173\n",
       "ND     131114\n",
       "DC     119792\n",
       "HI     113951\n",
       "VT      95151\n",
       "WY      78343\n",
       "AK      74514\n",
       "VI       7992\n",
       "GU       6271\n",
       "AE        818\n",
       "AP        814\n",
       "MP        647\n",
       "AA        473\n",
       "XX        178\n",
       "AS         41\n",
       "Name: state, dtype: int64"
      ]
     },
     "execution_count": 51,
     "metadata": {},
     "output_type": "execute_result"
    }
   ],
   "source": [
    "# Record Count for each state\n",
    "unique_counts = medicare_clean['state'].value_counts()\n",
    "unique_counts"
   ]
  },
  {
   "cell_type": "code",
   "execution_count": 61,
   "metadata": {},
   "outputs": [
    {
     "data": {
      "text/plain": [
       "Text(0, 0.5, 'No. of Records')"
      ]
     },
     "execution_count": 61,
     "metadata": {},
     "output_type": "execute_result"
    },
    {
     "data": {
      "image/png": "[encoded data removed]",
      "text/plain": [
       "<Figure size 1800x864 with 1 Axes>"
      ]
     },
     "metadata": {
      "needs_background": "light"
     },
     "output_type": "display_data"
    }
   ],
   "source": [
    "# Plot Record Count by State\n",
    "\n",
    "plt.figure(figsize=(25,12))\n",
    "sns.barplot(unique_counts.index, unique_counts.values)\n",
    "plt.title('Records by State', fontsize=22)\n",
    "plt.xlabel('States', fontsize=18)\n",
    "plt.ylabel('No. of Records', fontsize=18)"
   ]
  },
  {
   "cell_type": "code",
   "execution_count": 50,
   "metadata": {},
   "outputs": [],
   "source": [
    "# Subset data for CA\n",
    "ca_data = medicare_clean[medicare_clean['state']=='CA']"
   ]
  },
  {
   "cell_type": "code",
   "execution_count": 53,
   "metadata": {},
   "outputs": [],
   "source": [
    "# Subset data for NY\n",
    "ny_data = medicare_clean[medicare_clean['state']=='NY']"
   ]
  },
  {
   "cell_type": "markdown",
   "metadata": {},
   "source": [
    "## Unique Provider Types"
   ]
  },
  {
   "cell_type": "code",
   "execution_count": 53,
   "metadata": {},
   "outputs": [],
   "source": [
    "# Subset data for unique NPIs\n",
    "npi_df = medicare_clean[['npi','state','provider_type', 'entity_type']]"
   ]
  },
  {
   "cell_type": "code",
   "execution_count": 54,
   "metadata": {},
   "outputs": [
    {
     "data": {
      "text/html": [
       "<div>\n",
       "<style scoped>\n",
       "    .dataframe tbody tr th:only-of-type {\n",
       "        vertical-align: middle;\n",
       "    }\n",
       "\n",
       "    .dataframe tbody tr th {\n",
       "        vertical-align: top;\n",
       "    }\n",
       "\n",
       "    .dataframe thead th {\n",
       "        text-align: right;\n",
       "    }\n",
       "</style>\n",
       "<table border=\"1\" class=\"dataframe\">\n",
       "  <thead>\n",
       "    <tr style=\"text-align: right;\">\n",
       "      <th></th>\n",
       "      <th>npi</th>\n",
       "      <th>state</th>\n",
       "      <th>provider_type</th>\n",
       "      <th>entity_type</th>\n",
       "    </tr>\n",
       "  </thead>\n",
       "  <tbody>\n",
       "    <tr>\n",
       "      <th>1</th>\n",
       "      <td>1003000126</td>\n",
       "      <td>MD</td>\n",
       "      <td>Internal Medicine</td>\n",
       "      <td>Individual</td>\n",
       "    </tr>\n",
       "    <tr>\n",
       "      <th>13</th>\n",
       "      <td>1003000134</td>\n",
       "      <td>IL</td>\n",
       "      <td>Pathology</td>\n",
       "      <td>Individual</td>\n",
       "    </tr>\n",
       "    <tr>\n",
       "      <th>24</th>\n",
       "      <td>1003000142</td>\n",
       "      <td>OH</td>\n",
       "      <td>Anesthesiology</td>\n",
       "      <td>Individual</td>\n",
       "    </tr>\n",
       "    <tr>\n",
       "      <th>33</th>\n",
       "      <td>1003000407</td>\n",
       "      <td>PA</td>\n",
       "      <td>Family Practice</td>\n",
       "      <td>Individual</td>\n",
       "    </tr>\n",
       "    <tr>\n",
       "      <th>51</th>\n",
       "      <td>1003000423</td>\n",
       "      <td>OH</td>\n",
       "      <td>Obstetrics &amp; Gynecology</td>\n",
       "      <td>Individual</td>\n",
       "    </tr>\n",
       "  </tbody>\n",
       "</table>\n",
       "</div>"
      ],
      "text/plain": [
       "           npi state            provider_type entity_type\n",
       "1   1003000126    MD        Internal Medicine  Individual\n",
       "13  1003000134    IL                Pathology  Individual\n",
       "24  1003000142    OH           Anesthesiology  Individual\n",
       "33  1003000407    PA          Family Practice  Individual\n",
       "51  1003000423    OH  Obstetrics & Gynecology  Individual"
      ]
     },
     "execution_count": 54,
     "metadata": {},
     "output_type": "execute_result"
    }
   ],
   "source": [
    "# Drop duplicates\n",
    "unique_df = npi_df.drop_duplicates('npi')\n",
    "unique_df.head()"
   ]
  },
  {
   "cell_type": "markdown",
   "metadata": {},
   "source": [
    "#### Look at Count of Provider Types"
   ]
  },
  {
   "cell_type": "code",
   "execution_count": 209,
   "metadata": {},
   "outputs": [
    {
     "data": {
      "image/png": "[encoded data removed]",
      "text/plain": [
       "<Figure size 1440x576 with 1 Axes>"
      ]
     },
     "metadata": {
      "needs_background": "light"
     },
     "output_type": "display_data"
    }
   ],
   "source": [
    "# Count of Provider Types\n",
    "fig, ax = plt.subplots(figsize=(20,8))\n",
    "# Add data\n",
    "provider = unique_df['provider_type'].value_counts().reset_index()\n",
    "ax.bar(provider.iloc[:,0], provider.iloc[:,1])\n",
    "# Remove Spines\n",
    "for key, spine in ax.spines.items():\n",
    "    spine.set_visible(False)\n",
    "# Adjust margin, ticks etc and add title    \n",
    "ax.margins(0.01, 0)\n",
    "ax.set_ylim(0,120000)\n",
    "ax.set_title('Count of Provider Types', fontsize=22)\n",
    "plt.xticks(rotation=90)\n",
    "# plt.tight_layout()\n",
    "plt.show()\n",
    "# plt.figure(figsize=(20,8))\n",
    "# provider.plot(kind='bar')\n",
    "# ax.tick_params(bottom=False, top=False, left=False, right=False)\n",
    "# ax.grid(b=True, color='grey', linestyle='-.', linewidth=0.5, alpha=0.2)"
   ]
  },
  {
   "cell_type": "markdown",
   "metadata": {},
   "source": [
    "#### Top 20 Provider Types in US"
   ]
  },
  {
   "cell_type": "code",
   "execution_count": 193,
   "metadata": {},
   "outputs": [
    {
     "name": "stderr",
     "output_type": "stream",
     "text": [
      "C:\\Users\\mohi9282\\AppData\\Local\\Continuum\\anaconda3\\envs\\arcgis\\lib\\site-packages\\matplotlib\\cbook\\__init__.py:424: MatplotlibDeprecationWarning: \n",
      "Passing one of 'on', 'true', 'off', 'false' as a boolean is deprecated; use an actual boolean (True/False) instead.\n",
      "  warn_deprecated(\"2.2\", \"Passing one of 'on', 'true', 'off', 'false' as a \"\n"
     ]
    },
    {
     "data": {
      "image/png": "[encoded data removed]",
      "text/plain": [
       "<Figure size 1080x360 with 1 Axes>"
      ]
     },
     "metadata": {
      "needs_background": "light"
     },
     "output_type": "display_data"
    }
   ],
   "source": [
    "# Top 20 Provider Types in US\n",
    "fig, ax = plt.subplots(figsize=(15,5))\n",
    "# provider = unique_df['provider_type'].value_counts().reset_index()\n",
    "ax.bar(provider.iloc[:20,0], provider.iloc[:20,1])\n",
    "for key, spine in ax.spines.items():\n",
    "    spine.set_visible(False)    \n",
    "ax.margins(0.01, 0)\n",
    "ax.set_ylim(0,120000)\n",
    "ax.set_title('Top 20 Provider Types in US', fontsize=20)\n",
    "plt.xticks(rotation=90)\n",
    "ax.tick_params(bottom=\"off\")\n",
    "plt.show()"
   ]
  },
  {
   "cell_type": "code",
   "execution_count": 160,
   "metadata": {},
   "outputs": [],
   "source": [
    "# plt.figure(figsize=(15,5))\n",
    "# provider[:20].plot(kind='bar')\n",
    "# plt.title('Top 20 Provider Types in US', fontsize=20)\n",
    "# plt.xlabel('Provider Type', fontsize=18)\n",
    "# plt.ylabel('Count', fontsize=18)"
   ]
  },
  {
   "cell_type": "code",
   "execution_count": 161,
   "metadata": {},
   "outputs": [
    {
     "data": {
      "image/png": "[encoded data removed]",
      "text/plain": [
       "<Figure size 1440x576 with 1 Axes>"
      ]
     },
     "metadata": {
      "needs_background": "light"
     },
     "output_type": "display_data"
    }
   ],
   "source": [
    "# Unique Providers by State\n",
    "fig, ax = plt.subplots(figsize=(20,8))\n",
    "# Add data\n",
    "provByState = unique_df['state'].value_counts().reset_index()\n",
    "ax.bar(provByState.iloc[:,0], provByState.iloc[:,1])\n",
    "# Remove Spines\n",
    "for key, spine in ax.spines.items():\n",
    "    spine.set_visible(False)\n",
    "# Adjust margin, ticks etc and add title    \n",
    "ax.margins(0.01, 0)\n",
    "ax.set_ylim(0,100000)\n",
    "ax.set_title('Provider Count by State', fontsize=22)\n",
    "plt.show()"
   ]
  },
  {
   "cell_type": "markdown",
   "metadata": {},
   "source": [
    "From the plot above, we can see that states like CA, NY and TX have the most providers whereas states like VT, AK, WY have the least."
   ]
  },
  {
   "cell_type": "markdown",
   "metadata": {},
   "source": [
    "#### Let's look at the top 15 provider types for each of these states"
   ]
  },
  {
   "cell_type": "code",
   "execution_count": 211,
   "metadata": {},
   "outputs": [
    {
     "data": {
      "image/png": "[encoded data removed]",
      "text/plain": [
       "<Figure size 1080x1080 with 6 Axes>"
      ]
     },
     "metadata": {
      "needs_background": "light"
     },
     "output_type": "display_data"
    }
   ],
   "source": [
    "states = ['CA','NY','TX','VT','AK','WY']\n",
    "fig = plt.figure(figsize=(15, 15))\n",
    "for sp in range(0,6):\n",
    "    ax = fig.add_subplot(2,3,sp+1)\n",
    "    provType = unique_df[unique_df['state']==states[sp]]['provider_type'].value_counts().reset_index()\n",
    "    ax.bar(provType.iloc[:15,0], provType.iloc[:15,1])\n",
    "    ax.set_title(states[sp])\n",
    "    ax.set_ylim(0,provType.iloc[0,1])\n",
    "    plt.xticks(rotation=90)\n",
    "    for key, spine in ax.spines.items():\n",
    "        spine.set_visible(False)\n",
    "    ax.margins(0.01, 0)\n",
    "plt.tight_layout() # automatically adjusts layout to fit long labels\n",
    "plt.show()"
   ]
  },
  {
   "cell_type": "markdown",
   "metadata": {},
   "source": [
    "#### Count of Entity Types in US"
   ]
  },
  {
   "cell_type": "code",
   "execution_count": 192,
   "metadata": {},
   "outputs": [
    {
     "name": "stderr",
     "output_type": "stream",
     "text": [
      "C:\\Users\\mohi9282\\AppData\\Local\\Continuum\\anaconda3\\envs\\arcgis\\lib\\site-packages\\matplotlib\\cbook\\__init__.py:424: MatplotlibDeprecationWarning: \n",
      "Passing one of 'on', 'true', 'off', 'false' as a boolean is deprecated; use an actual boolean (True/False) instead.\n",
      "  warn_deprecated(\"2.2\", \"Passing one of 'on', 'true', 'off', 'false' as a \"\n"
     ]
    },
    {
     "data": {
      "image/png": "[encoded data removed]",
      "text/plain": [
       "<Figure size 360x360 with 1 Axes>"
      ]
     },
     "metadata": {
      "needs_background": "light"
     },
     "output_type": "display_data"
    }
   ],
   "source": [
    "fig, ax = plt.subplots(figsize=(5,5))\n",
    "entity = unique_df['entity_type'].value_counts().reset_index()\n",
    "ax.bar(entity.iloc[:,0], entity.iloc[:,1])\n",
    "for key, spine in ax.spines.items():\n",
    "    spine.set_visible(False)\n",
    "ax.set_ylim(0,120000)\n",
    "ax.set_title('Entity Types in US', pad=20)\n",
    "ax.tick_params(bottom=\"off\")\n",
    "plt.show()"
   ]
  },
  {
   "cell_type": "markdown",
   "metadata": {},
   "source": [
    "#### Comparing Out of Pocket / Insurance expense of ID vs WY"
   ]
  },
  {
   "cell_type": "code",
   "execution_count": 86,
   "metadata": {},
   "outputs": [
    {
     "data": {
      "text/plain": [
       "(271196, 24)"
      ]
     },
     "execution_count": 86,
     "metadata": {},
     "output_type": "execute_result"
    }
   ],
   "source": [
    "wy_id_data = medicare_clean[(medicare_clean['state']=='WY') | (medicare_clean['state']=='ID')]\n",
    "wy_id_data.shape"
   ]
  },
  {
   "cell_type": "code",
   "execution_count": 87,
   "metadata": {},
   "outputs": [
    {
     "data": {
      "image/png": "[encoded data removed]",
      "text/plain": [
       "<Figure size 360x360 with 1 Axes>"
      ]
     },
     "metadata": {},
     "output_type": "display_data"
    }
   ],
   "source": [
    "with sns.axes_style(style='ticks'):\n",
    "    g = sns.catplot(\"state\", \"outofpocket_insurance\", data=wy_id_data, kind=\"box\")\n",
    "    g.set_axis_labels(\"Day\", \"Total Bill\");"
   ]
  },
  {
   "cell_type": "code",
   "execution_count": 90,
   "metadata": {},
   "outputs": [
    {
     "data": {
      "text/plain": [
       "Index(['npi', 'gender', 'entity_type', 'addressline1', 'addressline2', 'city',\n",
       "       'postal_code', 'state', 'country', 'provider_type',\n",
       "       'medicare_participation_indicator', 'place_of_service', 'hcpcs_code',\n",
       "       'hcpcs_description', 'hcpcs_drug_indicator', 'bene_unique_cnt',\n",
       "       'bene_day_srvc_cnt', 'avg_medicare_allowed_amt',\n",
       "       'avg_submitted_chrg_amt', 'avg_medicare_payment_amt', 'year',\n",
       "       'full_address', 'provider_name', 'outofpocket_insurance'],\n",
       "      dtype='object')"
      ]
     },
     "execution_count": 90,
     "metadata": {},
     "output_type": "execute_result"
    }
   ],
   "source": [
    "wy_id_data.columns"
   ]
  },
  {
   "cell_type": "code",
   "execution_count": 91,
   "metadata": {},
   "outputs": [
    {
     "data": {
      "image/png": "[encoded data removed]",
      "text/plain": [
       "<Figure size 777.35x720 with 16 Axes>"
      ]
     },
     "metadata": {},
     "output_type": "display_data"
    }
   ],
   "source": [
    "g = sns.PairGrid(wy_id_data, vars=['avg_submitted_chrg_amt','avg_medicare_allowed_amt','avg_medicare_payment_amt','outofpocket_insurance'],\n",
    "                 hue='state', palette='RdBu_r')\n",
    "g.map(plt.scatter, alpha=0.8)\n",
    "g.add_legend();"
   ]
  },
  {
   "cell_type": "markdown",
   "metadata": {},
   "source": [
    "### Export Data"
   ]
  },
  {
   "cell_type": "code",
   "execution_count": 105,
   "metadata": {},
   "outputs": [],
   "source": [
    "for stateName in state_list:\n",
    "    name = stateName\n",
    "    i = medicare_clean[medicare_clean['state']==stateName]\n",
    "    i.to_csv('medicare_'+name+'.csv', index = None, header=True)"
   ]
  },
  {
   "cell_type": "code",
   "execution_count": 102,
   "metadata": {},
   "outputs": [
    {
     "data": {
      "text/plain": [
       "'C:\\\\Users\\\\mohi9282\\\\Desktop\\\\arcgis\\\\Datasets\\\\Medicare Provider Payment Data\\\\medicare_clean_data'"
      ]
     },
     "execution_count": 102,
     "metadata": {},
     "output_type": "execute_result"
    }
   ],
   "source": [
    "# Create output path\n",
    "output_path = os.path.join(os.getcwd(), 'medicare_clean_data')\n",
    "output_path"
   ]
  },
  {
   "cell_type": "code",
   "execution_count": 104,
   "metadata": {
    "collapsed": true
   },
   "outputs": [
    {
     "ename": "FileNotFoundError",
     "evalue": "[Errno 2] No such file or directory: 'C:\\\\Users\\\\mohi9282\\\\Desktop\\\\arcgis\\\\Datasets\\\\Medicare Provider Payment Data\\\\medicare_clean_data\\\\medicare_MD.csv'",
     "output_type": "error",
     "traceback": [
      "\u001b[1;31m---------------------------------------------------------------------------\u001b[0m",
      "\u001b[1;31mFileNotFoundError\u001b[0m                         Traceback (most recent call last)",
      "\u001b[1;32m<ipython-input-104-c7e871f5d339>\u001b[0m in \u001b[0;36m<module>\u001b[1;34m\u001b[0m\n\u001b[0;32m      4\u001b[0m     \u001b[0mdf\u001b[0m \u001b[1;33m=\u001b[0m \u001b[0mmedicare_clean\u001b[0m\u001b[1;33m[\u001b[0m\u001b[0mmedicare_clean\u001b[0m\u001b[1;33m[\u001b[0m\u001b[1;34m'state'\u001b[0m\u001b[1;33m]\u001b[0m\u001b[1;33m==\u001b[0m\u001b[0mstateName\u001b[0m\u001b[1;33m]\u001b[0m\u001b[1;33m\u001b[0m\u001b[1;33m\u001b[0m\u001b[0m\n\u001b[0;32m      5\u001b[0m     \u001b[0mfile_name\u001b[0m \u001b[1;33m=\u001b[0m \u001b[0mos\u001b[0m\u001b[1;33m.\u001b[0m\u001b[0mpath\u001b[0m\u001b[1;33m.\u001b[0m\u001b[0mjoin\u001b[0m\u001b[1;33m(\u001b[0m\u001b[0moutput_path\u001b[0m\u001b[1;33m,\u001b[0m \u001b[1;34m'medicare_'\u001b[0m\u001b[1;33m+\u001b[0m\u001b[0mname\u001b[0m\u001b[1;33m+\u001b[0m\u001b[1;34m'.csv'\u001b[0m\u001b[1;33m)\u001b[0m\u001b[1;33m\u001b[0m\u001b[1;33m\u001b[0m\u001b[0m\n\u001b[1;32m----> 6\u001b[1;33m     \u001b[0mdf\u001b[0m\u001b[1;33m.\u001b[0m\u001b[0mto_csv\u001b[0m\u001b[1;33m(\u001b[0m\u001b[0mfile_name\u001b[0m\u001b[1;33m,\u001b[0m \u001b[0mindex\u001b[0m \u001b[1;33m=\u001b[0m \u001b[1;32mNone\u001b[0m\u001b[1;33m,\u001b[0m \u001b[0mheader\u001b[0m\u001b[1;33m=\u001b[0m\u001b[1;32mTrue\u001b[0m\u001b[1;33m)\u001b[0m\u001b[1;33m\u001b[0m\u001b[1;33m\u001b[0m\u001b[0m\n\u001b[0m",
      "\u001b[1;32m~\\AppData\\Local\\Continuum\\anaconda3\\envs\\arcgis\\lib\\site-packages\\pandas\\core\\generic.py\u001b[0m in \u001b[0;36mto_csv\u001b[1;34m(self, path_or_buf, sep, na_rep, float_format, columns, header, index, index_label, mode, encoding, compression, quoting, quotechar, line_terminator, chunksize, tupleize_cols, date_format, doublequote, escapechar, decimal)\u001b[0m\n\u001b[0;32m   3018\u001b[0m                                  \u001b[0mdoublequote\u001b[0m\u001b[1;33m=\u001b[0m\u001b[0mdoublequote\u001b[0m\u001b[1;33m,\u001b[0m\u001b[1;33m\u001b[0m\u001b[1;33m\u001b[0m\u001b[0m\n\u001b[0;32m   3019\u001b[0m                                  escapechar=escapechar, decimal=decimal)\n\u001b[1;32m-> 3020\u001b[1;33m         \u001b[0mformatter\u001b[0m\u001b[1;33m.\u001b[0m\u001b[0msave\u001b[0m\u001b[1;33m(\u001b[0m\u001b[1;33m)\u001b[0m\u001b[1;33m\u001b[0m\u001b[1;33m\u001b[0m\u001b[0m\n\u001b[0m\u001b[0;32m   3021\u001b[0m \u001b[1;33m\u001b[0m\u001b[0m\n\u001b[0;32m   3022\u001b[0m         \u001b[1;32mif\u001b[0m \u001b[0mpath_or_buf\u001b[0m \u001b[1;32mis\u001b[0m \u001b[1;32mNone\u001b[0m\u001b[1;33m:\u001b[0m\u001b[1;33m\u001b[0m\u001b[1;33m\u001b[0m\u001b[0m\n",
      "\u001b[1;32m~\\AppData\\Local\\Continuum\\anaconda3\\envs\\arcgis\\lib\\site-packages\\pandas\\io\\formats\\csvs.py\u001b[0m in \u001b[0;36msave\u001b[1;34m(self)\u001b[0m\n\u001b[0;32m    155\u001b[0m             f, handles = _get_handle(self.path_or_buf, self.mode,\n\u001b[0;32m    156\u001b[0m                                      \u001b[0mencoding\u001b[0m\u001b[1;33m=\u001b[0m\u001b[0mself\u001b[0m\u001b[1;33m.\u001b[0m\u001b[0mencoding\u001b[0m\u001b[1;33m,\u001b[0m\u001b[1;33m\u001b[0m\u001b[1;33m\u001b[0m\u001b[0m\n\u001b[1;32m--> 157\u001b[1;33m                                      compression=self.compression)\n\u001b[0m\u001b[0;32m    158\u001b[0m             \u001b[0mclose\u001b[0m \u001b[1;33m=\u001b[0m \u001b[1;32mTrue\u001b[0m\u001b[1;33m\u001b[0m\u001b[1;33m\u001b[0m\u001b[0m\n\u001b[0;32m    159\u001b[0m \u001b[1;33m\u001b[0m\u001b[0m\n",
      "\u001b[1;32m~\\AppData\\Local\\Continuum\\anaconda3\\envs\\arcgis\\lib\\site-packages\\pandas\\io\\common.py\u001b[0m in \u001b[0;36m_get_handle\u001b[1;34m(path_or_buf, mode, encoding, compression, memory_map, is_text)\u001b[0m\n\u001b[0;32m    422\u001b[0m         \u001b[1;32melif\u001b[0m \u001b[0mencoding\u001b[0m\u001b[1;33m:\u001b[0m\u001b[1;33m\u001b[0m\u001b[1;33m\u001b[0m\u001b[0m\n\u001b[0;32m    423\u001b[0m             \u001b[1;31m# Python 3 and encoding\u001b[0m\u001b[1;33m\u001b[0m\u001b[1;33m\u001b[0m\u001b[1;33m\u001b[0m\u001b[0m\n\u001b[1;32m--> 424\u001b[1;33m             \u001b[0mf\u001b[0m \u001b[1;33m=\u001b[0m \u001b[0mopen\u001b[0m\u001b[1;33m(\u001b[0m\u001b[0mpath_or_buf\u001b[0m\u001b[1;33m,\u001b[0m \u001b[0mmode\u001b[0m\u001b[1;33m,\u001b[0m \u001b[0mencoding\u001b[0m\u001b[1;33m=\u001b[0m\u001b[0mencoding\u001b[0m\u001b[1;33m,\u001b[0m \u001b[0mnewline\u001b[0m\u001b[1;33m=\u001b[0m\u001b[1;34m\"\"\u001b[0m\u001b[1;33m)\u001b[0m\u001b[1;33m\u001b[0m\u001b[1;33m\u001b[0m\u001b[0m\n\u001b[0m\u001b[0;32m    425\u001b[0m         \u001b[1;32melif\u001b[0m \u001b[0mis_text\u001b[0m\u001b[1;33m:\u001b[0m\u001b[1;33m\u001b[0m\u001b[1;33m\u001b[0m\u001b[0m\n\u001b[0;32m    426\u001b[0m             \u001b[1;31m# Python 3 and no explicit encoding\u001b[0m\u001b[1;33m\u001b[0m\u001b[1;33m\u001b[0m\u001b[1;33m\u001b[0m\u001b[0m\n",
      "\u001b[1;31mFileNotFoundError\u001b[0m: [Errno 2] No such file or directory: 'C:\\\\Users\\\\mohi9282\\\\Desktop\\\\arcgis\\\\Datasets\\\\Medicare Provider Payment Data\\\\medicare_clean_data\\\\medicare_MD.csv'"
     ]
    }
   ],
   "source": [
    "# Create csv files for each state\n",
    "for stateName in state_list:\n",
    "    name = stateName\n",
    "    df = medicare_clean[medicare_clean['state']==stateName]\n",
    "    file_name = os.path.join(output_path, 'medicare_'+name+'.csv')\n",
    "    df.to_csv(file_name, index = None, header=True)"
   ]
  },
  {
   "cell_type": "markdown",
   "metadata": {},
   "source": [
    "## Using GIS"
   ]
  },
  {
   "cell_type": "code",
   "execution_count": 75,
   "metadata": {},
   "outputs": [],
   "source": [
    "from IPython.display import display\n",
    "import arcgis\n",
    "from arcgis.gis import GIS\n",
    "from arcgis.geocoding import geocode\n",
    "from arcgis.geoanalytics import get_datastores"
   ]
  },
  {
   "cell_type": "code",
   "execution_count": 76,
   "metadata": {},
   "outputs": [],
   "source": [
    "# gis = GIS(\"https://www.arcgis.com\", \"mohitagr18\", \"Maverick@18\")\n",
    "gis = GIS(\"https://datascienceqa.esri.com/portal\", \"portaladmin\", \"esri.agp\", verify_cert=False)"
   ]
  },
  {
   "cell_type": "code",
   "execution_count": 77,
   "metadata": {},
   "outputs": [
    {
     "data": {
      "text/plain": [
       "[<Datastore title:\"/bigDataFileShares/dask_healthcare_data\" type:\"bigDataFileShare\">]"
      ]
     },
     "execution_count": 77,
     "metadata": {},
     "output_type": "execute_result"
    }
   ],
   "source": [
    "datastores = get_datastores()\n",
    "bigdata_fileshare = datastores.search()\n",
    "bigdata_fileshare"
   ]
  },
  {
   "cell_type": "code",
   "execution_count": 78,
   "metadata": {},
   "outputs": [],
   "source": [
    "data_item = bigdata_fileshare[0]"
   ]
  },
  {
   "cell_type": "code",
   "execution_count": 79,
   "metadata": {},
   "outputs": [
    {
     "data": {
      "text/plain": [
       "4"
      ]
     },
     "execution_count": 79,
     "metadata": {},
     "output_type": "execute_result"
    }
   ],
   "source": [
    "# Get datasets within the big data file share\n",
    "datasets = data_item.manifest['datasets']\n",
    "len(datasets)"
   ]
  },
  {
   "cell_type": "code",
   "execution_count": 80,
   "metadata": {},
   "outputs": [
    {
     "data": {
      "text/plain": [
       "['sample_test_GAserver',\n",
       " 'medicare_clean_data',\n",
       " 'provider_clean_data',\n",
       " 'medical_provider_data']"
      ]
     },
     "execution_count": 80,
     "metadata": {},
     "output_type": "execute_result"
    }
   ],
   "source": [
    "[dataset['name'] for dataset in datasets]"
   ]
  },
  {
   "cell_type": "code",
   "execution_count": 81,
   "metadata": {},
   "outputs": [
    {
     "data": {
      "text/plain": [
       "{'name': 'medicare_clean_data',\n",
       " 'format': {'quoteChar': '\"',\n",
       "  'fieldDelimiter': ',',\n",
       "  'hasHeaderRow': True,\n",
       "  'encoding': 'UTF-8',\n",
       "  'escapeChar': '\"',\n",
       "  'recordTerminator': '\\n',\n",
       "  'type': 'delimited',\n",
       "  'extension': 'csv'},\n",
       " 'schema': {'fields': [{'name': 'npi', 'type': 'esriFieldTypeBigInteger'},\n",
       "   {'name': 'gender', 'type': 'esriFieldTypeString'},\n",
       "   {'name': 'entity_type', 'type': 'esriFieldTypeString'},\n",
       "   {'name': 'addressline1', 'type': 'esriFieldTypeString'},\n",
       "   {'name': 'addressline2', 'type': 'esriFieldTypeString'},\n",
       "   {'name': 'city', 'type': 'esriFieldTypeString'},\n",
       "   {'name': 'postal_code', 'type': 'esriFieldTypeBigInteger'},\n",
       "   {'name': 'state', 'type': 'esriFieldTypeString'},\n",
       "   {'name': 'country', 'type': 'esriFieldTypeString'},\n",
       "   {'name': 'provider_type', 'type': 'esriFieldTypeString'},\n",
       "   {'name': 'medicare_participation_indicator', 'type': 'esriFieldTypeString'},\n",
       "   {'name': 'place_of_service', 'type': 'esriFieldTypeString'},\n",
       "   {'name': 'hcpcs_code', 'type': 'esriFieldTypeBigInteger'},\n",
       "   {'name': 'hcpcs_description', 'type': 'esriFieldTypeString'},\n",
       "   {'name': 'hcpcs_drug_indicator', 'type': 'esriFieldTypeString'},\n",
       "   {'name': 'bene_unique_cnt', 'type': 'esriFieldTypeBigInteger'},\n",
       "   {'name': 'bene_day_srvc_cnt', 'type': 'esriFieldTypeBigInteger'},\n",
       "   {'name': 'avg_medicare_allowed_amt', 'type': 'esriFieldTypeDouble'},\n",
       "   {'name': 'avg_submitted_chrg_amt', 'type': 'esriFieldTypeDouble'},\n",
       "   {'name': 'avg_medicare_payment_amt', 'type': 'esriFieldTypeDouble'},\n",
       "   {'name': 'year', 'type': 'esriFieldTypeBigInteger'},\n",
       "   {'name': 'full_address', 'type': 'esriFieldTypeString'},\n",
       "   {'name': 'provider_name', 'type': 'esriFieldTypeString'},\n",
       "   {'name': 'outofpocket_insurance', 'type': 'esriFieldTypeDouble'}]},\n",
       " 'time': {'timeType': 'instant',\n",
       "  'timeReference': {'timeZone': 'UTC'},\n",
       "  'fields': [{'name': 'year', 'formats': ['yyyy']}]}}"
      ]
     },
     "execution_count": 81,
     "metadata": {},
     "output_type": "execute_result"
    }
   ],
   "source": [
    "\n",
    "datasets[1]"
   ]
  },
  {
   "cell_type": "code",
   "execution_count": 82,
   "metadata": {},
   "outputs": [
    {
     "data": {
      "text/plain": [
       "[<Item title:\"bigDataFileShares_dask_healthcare_data\" type:Big Data File Share owner:portaladmin>]"
      ]
     },
     "execution_count": 82,
     "metadata": {},
     "output_type": "execute_result"
    }
   ],
   "source": [
    "# Search for big data file share using content search\n",
    "search_result = gis.content.search('', item_type='big data file share')\n",
    "search_result"
   ]
  },
  {
   "cell_type": "code",
   "execution_count": 83,
   "metadata": {},
   "outputs": [
    {
     "data": {
      "text/plain": [
       "[<Layer url:\"https://dev0008498.esri.com/server/rest/services/DataStoreCatalogs/bigDataFileShares_dask_healthcare_data/BigDataCatalogServer/sample_test_GAserver\">,\n",
       " <Layer url:\"https://dev0008498.esri.com/server/rest/services/DataStoreCatalogs/bigDataFileShares_dask_healthcare_data/BigDataCatalogServer/medicare_clean_data\">,\n",
       " <Layer url:\"https://dev0008498.esri.com/server/rest/services/DataStoreCatalogs/bigDataFileShares_dask_healthcare_data/BigDataCatalogServer/provider_clean_data\">,\n",
       " <Layer url:\"https://dev0008498.esri.com/server/rest/services/DataStoreCatalogs/bigDataFileShares_dask_healthcare_data/BigDataCatalogServer/medical_provider_data\">]"
      ]
     },
     "execution_count": 83,
     "metadata": {},
     "output_type": "execute_result"
    }
   ],
   "source": [
    "# Get all data layers in the file share\n",
    "d_item = search_result[0]\n",
    "d_item.layers"
   ]
  },
  {
   "cell_type": "code",
   "execution_count": 66,
   "metadata": {},
   "outputs": [
    {
     "data": {
      "text/plain": [
       "<Layer url:\"https://dev0008498.esri.com/server/rest/services/DataStoreCatalogs/bigDataFileShares_dask_healthcare_data/BigDataCatalogServer/medicare_clean_data\">"
      ]
     },
     "execution_count": 66,
     "metadata": {},
     "output_type": "execute_result"
    }
   ],
   "source": [
    "# Select the medicare data layer\n",
    "medicare_data = d_item.layers[0]\n",
    "medicare_data"
   ]
  },
  {
   "cell_type": "code",
   "execution_count": 74,
   "metadata": {},
   "outputs": [
    {
     "name": "stdout",
     "output_type": "stream",
     "text": [
      "medicare_clean_data\n",
      "provider_clean_data\n",
      "medical_provider_data\n"
     ]
    }
   ],
   "source": [
    "for lyr in d_item.layers:\n",
    "    print(lyr.properties.name)"
   ]
  },
  {
   "cell_type": "code",
   "execution_count": 78,
   "metadata": {
    "scrolled": false
   },
   "outputs": [
    {
     "data": {
      "text/plain": [
       "[{'name': 'npi', 'type': 'esriFieldTypeInteger'},\n",
       " {'name': 'gender', 'type': 'esriFieldTypeString'},\n",
       " {'name': 'entity_type', 'type': 'esriFieldTypeString'},\n",
       " {'name': 'addressline1', 'type': 'esriFieldTypeString'},\n",
       " {'name': 'addressline2', 'type': 'esriFieldTypeString'},\n",
       " {'name': 'city', 'type': 'esriFieldTypeString'},\n",
       " {'name': 'postal_code', 'type': 'esriFieldTypeInteger'},\n",
       " {'name': 'state', 'type': 'esriFieldTypeString'},\n",
       " {'name': 'country', 'type': 'esriFieldTypeString'},\n",
       " {'name': 'provider_type', 'type': 'esriFieldTypeString'},\n",
       " {'name': 'medicare_participation_indicator', 'type': 'esriFieldTypeString'},\n",
       " {'name': 'place_of_service', 'type': 'esriFieldTypeString'},\n",
       " {'name': 'hcpcs_code', 'type': 'esriFieldTypeInteger'},\n",
       " {'name': 'hcpcs_description', 'type': 'esriFieldTypeString'},\n",
       " {'name': 'hcpcs_drug_indicator', 'type': 'esriFieldTypeString'},\n",
       " {'name': 'bene_unique_cnt', 'type': 'esriFieldTypeInteger'},\n",
       " {'name': 'bene_day_srvc_cnt', 'type': 'esriFieldTypeInteger'},\n",
       " {'name': 'avg_medicare_allowed_amt', 'type': 'esriFieldTypeDouble'},\n",
       " {'name': 'avg_submitted_chrg_amt', 'type': 'esriFieldTypeDouble'},\n",
       " {'name': 'avg_medicare_payment_amt', 'type': 'esriFieldTypeDouble'},\n",
       " {'name': 'year', 'type': 'esriFieldTypeInteger'},\n",
       " {'name': 'full_address', 'type': 'esriFieldTypeString'},\n",
       " {'name': 'provider_name', 'type': 'esriFieldTypeString'},\n",
       " {'name': 'outofpocket_insurance', 'type': 'esriFieldTypeDouble'}]"
      ]
     },
     "execution_count": 78,
     "metadata": {},
     "output_type": "execute_result"
    }
   ],
   "source": [
    "medicare_data.properties['fields']"
   ]
  },
  {
   "cell_type": "code",
   "execution_count": null,
   "metadata": {},
   "outputs": [],
   "source": []
  },
  {
   "cell_type": "code",
   "execution_count": 68,
   "metadata": {},
   "outputs": [
    {
     "ename": "TypeError",
     "evalue": "'Layer' object is not subscriptable",
     "output_type": "error",
     "traceback": [
      "\u001b[1;31m---------------------------------------------------------------------------\u001b[0m",
      "\u001b[1;31mTypeError\u001b[0m                                 Traceback (most recent call last)",
      "\u001b[1;32m<ipython-input-68-e704e0e4476c>\u001b[0m in \u001b[0;36m<module>\u001b[1;34m\u001b[0m\n\u001b[1;32m----> 1\u001b[1;33m \u001b[0mmedicare_data\u001b[0m\u001b[1;33m[\u001b[0m\u001b[1;36m0\u001b[0m\u001b[1;33m]\u001b[0m\u001b[1;33m\u001b[0m\u001b[1;33m\u001b[0m\u001b[0m\n\u001b[0m",
      "\u001b[1;31mTypeError\u001b[0m: 'Layer' object is not subscriptable"
     ]
    }
   ],
   "source": [
    "medicare_data[0]"
   ]
  },
  {
   "cell_type": "code",
   "execution_count": 2,
   "metadata": {},
   "outputs": [
    {
     "name": "stdout",
     "output_type": "stream",
     "text": [
      "Collecting package metadata: ...working... done\n",
      "Solving environment: ...working... failed\n",
      "\n",
      "Note: you may need to restart the kernel to use updated packages.\n"
     ]
    },
    {
     "name": "stderr",
     "output_type": "stream",
     "text": [
      "\n",
      "PackagesNotFoundError: The following packages are not available from current channels:\n",
      "\n",
      "  - missingno\n",
      "\n",
      "Current channels:\n",
      "\n",
      "  - https://repo.anaconda.com/pkgs/main/win-64\n",
      "  - https://repo.anaconda.com/pkgs/main/noarch\n",
      "  - https://repo.anaconda.com/pkgs/free/win-64\n",
      "  - https://repo.anaconda.com/pkgs/free/noarch\n",
      "  - https://repo.anaconda.com/pkgs/r/win-64\n",
      "  - https://repo.anaconda.com/pkgs/r/noarch\n",
      "  - https://repo.anaconda.com/pkgs/msys2/win-64\n",
      "  - https://repo.anaconda.com/pkgs/msys2/noarch\n",
      "\n",
      "To search for alternate channels that may provide the conda package you're\n",
      "looking for, navigate to\n",
      "\n",
      "    https://anaconda.org\n",
      "\n",
      "and use the search bar at the top of the page.\n",
      "\n",
      "\n"
     ]
    }
   ],
   "source": [
    "conda install missingno"
   ]
  },
  {
   "cell_type": "code",
   "execution_count": 3,
   "metadata": {},
   "outputs": [
    {
     "name": "stdout",
     "output_type": "stream",
     "text": [
      "Collecting missingno\n",
      "  Downloading https://files.pythonhosted.org/packages/57/eb/9d7d55ceec57e0e374e70e9ad8d16795ba91960a3c987f3b5ee71d3e8e4d/missingno-0.4.1-py3-none-any.whl\n",
      "Requirement already satisfied: seaborn in c:\\users\\mohi9282\\appdata\\local\\continuum\\anaconda3\\envs\\arcgis\\lib\\site-packages (from missingno) (0.9.0)\n",
      "Requirement already satisfied: scipy in c:\\users\\mohi9282\\appdata\\local\\continuum\\anaconda3\\envs\\arcgis\\lib\\site-packages (from missingno) (1.2.1)\n",
      "Requirement already satisfied: numpy in c:\\users\\mohi9282\\appdata\\local\\continuum\\anaconda3\\envs\\arcgis\\lib\\site-packages (from missingno) (1.16.3)\n",
      "Requirement already satisfied: matplotlib in c:\\users\\mohi9282\\appdata\\local\\continuum\\anaconda3\\envs\\arcgis\\lib\\site-packages (from missingno) (3.0.3)\n",
      "Requirement already satisfied: pandas>=0.15.2 in c:\\users\\mohi9282\\appdata\\local\\continuum\\anaconda3\\envs\\arcgis\\lib\\site-packages (from seaborn->missingno) (0.24.2)\n",
      "Requirement already satisfied: cycler>=0.10 in c:\\users\\mohi9282\\appdata\\local\\continuum\\anaconda3\\envs\\arcgis\\lib\\site-packages (from matplotlib->missingno) (0.10.0)\n",
      "Requirement already satisfied: kiwisolver>=1.0.1 in c:\\users\\mohi9282\\appdata\\local\\continuum\\anaconda3\\envs\\arcgis\\lib\\site-packages (from matplotlib->missingno) (1.1.0)\n",
      "Requirement already satisfied: pyparsing!=2.0.4,!=2.1.2,!=2.1.6,>=2.0.1 in c:\\users\\mohi9282\\appdata\\local\\continuum\\anaconda3\\envs\\arcgis\\lib\\site-packages (from matplotlib->missingno) (2.4.0)\n",
      "Requirement already satisfied: python-dateutil>=2.1 in c:\\users\\mohi9282\\appdata\\local\\continuum\\anaconda3\\envs\\arcgis\\lib\\site-packages (from matplotlib->missingno) (2.8.0)\n",
      "Requirement already satisfied: pytz>=2011k in c:\\users\\mohi9282\\appdata\\local\\continuum\\anaconda3\\envs\\arcgis\\lib\\site-packages\\pytz-2018.9-py3.7.egg (from pandas>=0.15.2->seaborn->missingno) (2018.9)\n",
      "Requirement already satisfied: six in c:\\users\\mohi9282\\appdata\\local\\continuum\\anaconda3\\envs\\arcgis\\lib\\site-packages (from cycler>=0.10->matplotlib->missingno) (1.12.0)\n",
      "Requirement already satisfied: setuptools in c:\\users\\mohi9282\\appdata\\local\\continuum\\anaconda3\\envs\\arcgis\\lib\\site-packages (from kiwisolver>=1.0.1->matplotlib->missingno) (41.0.1)\n",
      "Installing collected packages: missingno\n",
      "Successfully installed missingno-0.4.1\n",
      "Note: you may need to restart the kernel to use updated packages.\n"
     ]
    }
   ],
   "source": [
    "pip install missingno"
   ]
  },
  {
   "cell_type": "code",
   "execution_count": null,
   "metadata": {},
   "outputs": [],
   "source": []
  }
 ],
 "metadata": {
  "kernelspec": {
   "display_name": "Python 3",
   "language": "python",
   "name": "python3"
  },
  "language_info": {
   "codemirror_mode": {
    "name": "ipython",
    "version": 3
   },
   "file_extension": ".py",
   "mimetype": "text/x-python",
   "name": "python",
   "nbconvert_exporter": "python",
   "pygments_lexer": "ipython3",
   "version": "3.7.3"
  }
 },
 "nbformat": 4,
 "nbformat_minor": 2
}
