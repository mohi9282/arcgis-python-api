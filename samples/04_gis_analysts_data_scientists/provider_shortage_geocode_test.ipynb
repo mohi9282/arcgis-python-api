{
 "cells": [
  {
   "cell_type": "code",
   "execution_count": 1,
   "metadata": {},
   "outputs": [],
   "source": [
    "import os\n",
    "import shutil\n",
    "import time\n",
    "import arcgis\n",
    "from arcgis.gis import GIS\n",
    "import arcpy\n",
    "from arcpy.geocoding import GeocodeAddresses\n",
    "import pandas as pd"
   ]
  },
  {
   "cell_type": "code",
   "execution_count": 2,
   "metadata": {},
   "outputs": [],
   "source": [
    "gis = GIS(\"https://datascienceqa.esri.com/portal\", \"portaladmin\", \"esri.agp\", verify_cert=False)"
   ]
  },
  {
   "cell_type": "code",
   "execution_count": 3,
   "metadata": {},
   "outputs": [
    {
     "name": "stdout",
     "output_type": "stream",
     "text": [
      "root dir: C:\\Users\\mohi9282\\Desktop\\arcgis\\Datasets\\NPPES_Data_Dissemination_April_2019\n"
     ]
    }
   ],
   "source": [
    "# arcgis_dir = os.path.abspath(os.path.join(os.sep, 'arcgis'))\n",
    "# home_dir = os.path.join(arcgis_dir, 'home')\n",
    "# samples_dir = os.path.join(arcgis_dir, 'samplesdata')\n",
    "base_dir = os.getcwd()\n",
    "\n",
    "print(f\"root dir: {base_dir}\")"
   ]
  },
  {
   "cell_type": "code",
   "execution_count": 4,
   "metadata": {},
   "outputs": [
    {
     "data": {
      "text/plain": [
       "<Result 'C:\\\\Users\\\\mohi9282\\\\Desktop\\\\arcgis\\\\Datasets\\\\NPPES_Data_Dissemination_April_2019\\\\Analyze_Provider_Shortage.gdb'>"
      ]
     },
     "execution_count": 4,
     "metadata": {},
     "output_type": "execute_result"
    }
   ],
   "source": [
    "out_gdb = os.path.join(base_dir,\n",
    "                       'Analyze_Provider_Shortage.gdb')\n",
    "\n",
    "# remove outputs from previous runs\n",
    "if os.path.exists(out_gdb):\n",
    "    shutil.rmtree(out_gdb)\n",
    "\n",
    "# Create output geodatabase and create variable\n",
    "arcpy.management.CreateFileGDB(\n",
    "    base_dir, \n",
    "    out_name = \"Analyze_Provider_Shortage\", \n",
    "    out_version = \"CURRENT\")"
   ]
  },
  {
   "cell_type": "code",
   "execution_count": null,
   "metadata": {},
   "outputs": [],
   "source": [
    "# Geocode 1 file\n",
    "%%time \n",
    "arcpy.geocoding.GeocodeAddresses(r\"C:\\Users\\mohi9282\\Desktop\\arcgis\\provider_clean_data\\npi_WY.csv\", \n",
    "                                       \"https://datascienceqa.esri.com/server/rest/services/USA/GeocodeServer/Local USA locator\", \n",
    "                                         \"'Single Line Input' full_address VISIBLE NONE\", \n",
    "                                         r\"C:\\Users\\mohi9282\\Desktop\\arcgis\\Datasets\\NPPES_Data_Dissemination_April_2019\\Analyze_Provider_Shortage.gdb\\npi_WY2_GeocodeAddresses\", \n",
    "                                         \"STATIC\", \"US\", \"ADDRESS_LOCATION\", None)"
   ]
  },
  {
   "cell_type": "code",
   "execution_count": 5,
   "metadata": {},
   "outputs": [],
   "source": [
    "data_dir = \"C:\\\\Users\\\\mohi9282\\\\Desktop\\\\arcgis\""
   ]
  },
  {
   "cell_type": "code",
   "execution_count": 6,
   "metadata": {},
   "outputs": [
    {
     "data": {
      "text/plain": [
       "['npi_VT.csv', 'npi_WY.csv']"
      ]
     },
     "execution_count": 6,
     "metadata": {},
     "output_type": "execute_result"
    }
   ],
   "source": [
    "provider_raw_dir = os.path.join(data_dir,'provider_sample')======================================================================================================================\n",
    "os.listdir(provider_raw_dir)"
   ]
  },
  {
   "cell_type": "code",
   "execution_count": 7,
   "metadata": {},
   "outputs": [
    {
     "name": "stdout",
     "output_type": "stream",
     "text": [
      "Wall time: 16min 8s\n"
     ]
    }
   ],
   "source": [
    "%%time\n",
    "for file in os.listdir(provider_raw_dir):\n",
    "#     print(os.path.abspath(file))\n",
    "    arcpy.geocoding.GeocodeAddresses(os.path.join(provider_raw_dir, file), \n",
    "                             \"https://datascienceqa.esri.com/server/rest/services/USA/GeocodeServer/Local USA locator\", \n",
    "                             \"'Single Line Input' full_address VISIBLE NONE\", \n",
    "                             os.path.join(out_gdb, str(file.split('.')[0])), \n",
    "                             \"STATIC\", \"US\", \"ADDRESS_LOCATION\", None)"
   ]
  },
  {
   "cell_type": "code",
   "execution_count": null,
   "metadata": {},
   "outputs": [],
   "source": []
  }
 ],
 "metadata": {
  "kernelspec": {
   "display_name": "Python 3",
   "language": "python",
   "name": "python3"
  },
  "language_info": {
   "codemirror_mode": {
    "name": "ipython",
    "version": 3
   },
   "file_extension": ".py",
   "mimetype": "text/x-python",
   "name": "python",
   "nbconvert_exporter": "python",
   "pygments_lexer": "ipython3",
   "version": "3.6.6"
  }
 },
 "nbformat": 4,
 "nbformat_minor": 2
}
